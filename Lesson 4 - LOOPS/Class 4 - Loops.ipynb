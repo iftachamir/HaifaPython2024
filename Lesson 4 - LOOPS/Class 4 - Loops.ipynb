{
 "cells": [
  {
   "cell_type": "markdown",
   "metadata": {},
   "source": [
    "# Class 4 - Loops (`while` and `for`)"
   ]
  },
  {
   "cell_type": "markdown",
   "metadata": {},
   "source": [
    "Loops are repeated series of code. There are 2 kinds of loops - `while` and `for`.\n",
    "When should we use which?:\n",
    "- a pre-set number of repetitions is completed - `for`\n",
    "- a condition is met - `while`"
   ]
  },
  {
   "cell_type": "code",
   "execution_count": 7,
   "metadata": {},
   "outputs": [
    {
     "name": "stdin",
     "output_type": "stream",
     "text": [
      " 10\n"
     ]
    },
    {
     "name": "stdout",
     "output_type": "stream",
     "text": [
      "1 2 3 4 5 6 7 8 9 10 "
     ]
    }
   ],
   "source": [
    "# WHILE\n",
    "# Count to N\n",
    "import time\n",
    "\n",
    "n = int(input())\n",
    "i = 0\n",
    "while i < n:\n",
    "    i = i + 1\n",
    "    print(i, end = \" \")\n",
    "    time.sleep(.3)"
   ]
  },
  {
   "cell_type": "code",
   "execution_count": 3,
   "metadata": {},
   "outputs": [
    {
     "name": "stdin",
     "output_type": "stream",
     "text": [
      " 15\n"
     ]
    },
    {
     "name": "stdout",
     "output_type": "stream",
     "text": [
      "1 2 3 4 5 6 7 8 9 10 11 12 13 14 15 "
     ]
    }
   ],
   "source": [
    "# FOR\n",
    "# Count to N\n",
    "n = int(input())\n",
    "for i in range(1, n+1):\n",
    "    print(i, end = \" \")\n",
    "    time.sleep(.3)"
   ]
  },
  {
   "cell_type": "markdown",
   "metadata": {},
   "source": [
    "## `while`"
   ]
  },
  {
   "cell_type": "code",
   "execution_count": 16,
   "metadata": {},
   "outputs": [
    {
     "name": "stdin",
     "output_type": "stream",
     "text": [
      " 5\n"
     ]
    },
    {
     "name": "stdout",
     "output_type": "stream",
     "text": [
      "0\n",
      "1\n",
      "2\n",
      "3\n",
      "4\n",
      "Goodbye\n"
     ]
    }
   ],
   "source": [
    "# Count to N\n",
    "from time import sleep\n",
    "\n",
    "n = int(input())\n",
    "i = 0\n",
    "while i < n:\n",
    "    sleep(1)\n",
    "    print(i)\n",
    "    i += 1    # i = i + 1\n",
    "    \n",
    "print('Goodbye')"
   ]
  },
  {
   "cell_type": "markdown",
   "metadata": {},
   "source": [
    "Small note on alternative Python syntax for item incrementing:"
   ]
  },
  {
   "cell_type": "code",
   "execution_count": null,
   "metadata": {},
   "outputs": [],
   "source": [
    "i = 0\n",
    "print(i)"
   ]
  },
  {
   "cell_type": "code",
   "execution_count": null,
   "metadata": {},
   "outputs": [],
   "source": [
    "i += 1  # i = i + 1\n",
    "print(i)"
   ]
  },
  {
   "cell_type": "markdown",
   "metadata": {},
   "source": [
    "### Exercises\n",
    "Write a loop that counts down from any input number (N > 1) to 1."
   ]
  },
  {
   "cell_type": "code",
   "execution_count": 12,
   "metadata": {},
   "outputs": [
    {
     "name": "stdin",
     "output_type": "stream",
     "text": [
      " 5\n"
     ]
    },
    {
     "name": "stdout",
     "output_type": "stream",
     "text": [
      "5\n",
      "4\n",
      "3\n",
      "2\n",
      "1\n"
     ]
    }
   ],
   "source": [
    "n = int(input()) # Assume that the number larger than 1\n",
    "\n",
    "while n >= 1:\n",
    "    print(n)\n",
    "    n = n - 1\n",
    "    sleep(.3)\n"
   ]
  },
  {
   "cell_type": "markdown",
   "metadata": {},
   "source": [
    "Write a loop that terminates once a correct 4-digit number has been enterred."
   ]
  },
  {
   "cell_type": "code",
   "execution_count": 15,
   "metadata": {},
   "outputs": [
    {
     "data": {
      "text/plain": [
       "True"
      ]
     },
     "execution_count": 15,
     "metadata": {},
     "output_type": "execute_result"
    }
   ],
   "source": [
    "not(False)"
   ]
  },
  {
   "cell_type": "code",
   "execution_count": 13,
   "metadata": {},
   "outputs": [
    {
     "name": "stdin",
     "output_type": "stream",
     "text": [
      " 999\n",
      " 1000\n",
      " 1234\n"
     ]
    },
    {
     "name": "stdout",
     "output_type": "stream",
     "text": [
      "Correct password\n"
     ]
    }
   ],
   "source": [
    "password = 1234\n",
    "user_input = int(input())\n",
    "\n",
    "while not(user_input == password) :\n",
    "    user_input = int(input())\n",
    "\n",
    "print('Correct password')"
   ]
  },
  {
   "cell_type": "markdown",
   "metadata": {},
   "source": [
    "Create a program that computes the average of a collection of values entered by the user. The user will enter 999 as a sentinel value to indicate\n",
    "that no further values will be provided."
   ]
  },
  {
   "cell_type": "code",
   "execution_count": null,
   "metadata": {},
   "outputs": [],
   "source": []
  },
  {
   "cell_type": "markdown",
   "metadata": {},
   "source": [
    "## `for`\n",
    "`for` loops are used when a pre-set number of repetitions is needed"
   ]
  },
  {
   "cell_type": "code",
   "execution_count": 17,
   "metadata": {},
   "outputs": [
    {
     "name": "stdin",
     "output_type": "stream",
     "text": [
      " 10\n",
      " 100\n",
      " 1000\n"
     ]
    },
    {
     "name": "stdout",
     "output_type": "stream",
     "text": [
      "Sum of inputs is 1110\n"
     ]
    }
   ],
   "source": [
    "# Input and sum 3 numbers, using WHILE\n",
    "sum_xs = 0\n",
    "i = 0\n",
    "while i < 3:\n",
    "    x = int(input())\n",
    "    sum_xs = sum_xs + x\n",
    "    i = i + 1\n",
    "print('Sum of inputs is', sum_xs)"
   ]
  },
  {
   "cell_type": "code",
   "execution_count": 18,
   "metadata": {},
   "outputs": [
    {
     "name": "stdin",
     "output_type": "stream",
     "text": [
      " 10\n",
      " 100\n",
      " 1000\n"
     ]
    },
    {
     "name": "stdout",
     "output_type": "stream",
     "text": [
      "1110\n"
     ]
    }
   ],
   "source": [
    "# Input and sum 3 numbers, using FOR\n",
    "sum_xs = 0\n",
    "for i in range(3):\n",
    "    x = int(input())\n",
    "    sum_xs = sum_xs + x\n",
    "print(sum_xs)"
   ]
  },
  {
   "cell_type": "markdown",
   "metadata": {},
   "source": [
    "In Python, `for` loops work on all iterables"
   ]
  },
  {
   "cell_type": "code",
   "execution_count": 2,
   "metadata": {},
   "outputs": [
    {
     "name": "stdin",
     "output_type": "stream",
     "text": [
      "Enter your name: david\n"
     ]
    },
    {
     "name": "stdout",
     "output_type": "stream",
     "text": [
      "d\n",
      "a\n",
      "v\n",
      "i\n",
      "d\n"
     ]
    }
   ],
   "source": [
    "from time import sleep\n",
    "\n",
    "name = input('Enter your name:')\n",
    "\n",
    "for x in name:\n",
    "    print(x)\n",
    "    sleep(.3)\n",
    "\n"
   ]
  },
  {
   "cell_type": "code",
   "execution_count": null,
   "metadata": {},
   "outputs": [],
   "source": []
  },
  {
   "cell_type": "markdown",
   "metadata": {},
   "source": [
    "### Using `range()` with `for`\n",
    "`range()` is a very commonly used function together with `for` loops. So what is it?"
   ]
  },
  {
   "cell_type": "code",
   "execution_count": 27,
   "metadata": {},
   "outputs": [
    {
     "name": "stdout",
     "output_type": "stream",
     "text": [
      "range(0, 20)\n"
     ]
    }
   ],
   "source": [
    "x = range(20)\n",
    "print(x)"
   ]
  },
  {
   "cell_type": "code",
   "execution_count": 26,
   "metadata": {},
   "outputs": [
    {
     "data": {
      "text/plain": [
       "[0, 1, 2, 3, 4, 5, 6, 7, 8, 9, 10, 11, 12, 13, 14, 15, 16, 17, 18, 19]"
      ]
     },
     "execution_count": 26,
     "metadata": {},
     "output_type": "execute_result"
    }
   ],
   "source": [
    "list(range(20))"
   ]
  },
  {
   "cell_type": "code",
   "execution_count": 30,
   "metadata": {},
   "outputs": [
    {
     "data": {
      "text/plain": [
       "3.1"
      ]
     },
     "execution_count": 30,
     "metadata": {},
     "output_type": "execute_result"
    }
   ],
   "source": [
    "round(3.14, 1)"
   ]
  },
  {
   "cell_type": "code",
   "execution_count": 31,
   "metadata": {},
   "outputs": [
    {
     "name": "stdout",
     "output_type": "stream",
     "text": [
      "[0, 1, 2, 3, 4, 5, 6, 7, 8, 9]\n",
      "[5, 6, 7, 8, 9]\n",
      "[0, 3, 6, 9]\n"
     ]
    },
    {
     "data": {
      "text/plain": [
       "[10, 9, 8, 7, 6, 5, 4, 3, 2, 1]"
      ]
     },
     "execution_count": 31,
     "metadata": {},
     "output_type": "execute_result"
    }
   ],
   "source": [
    "print(list(range(10)))\n",
    "print(list(range(5, 10)))\n",
    "print(list(range(0, 10, 3)))\n",
    "list(range(10,0, -1))"
   ]
  },
  {
   "cell_type": "code",
   "execution_count": 32,
   "metadata": {},
   "outputs": [
    {
     "name": "stdout",
     "output_type": "stream",
     "text": [
      "<class 'range'>\n"
     ]
    }
   ],
   "source": [
    "print(type(range(5)))"
   ]
  },
  {
   "cell_type": "code",
   "execution_count": 33,
   "metadata": {},
   "outputs": [
    {
     "data": {
      "text/plain": [
       "True"
      ]
     },
     "execution_count": 33,
     "metadata": {},
     "output_type": "execute_result"
    }
   ],
   "source": [
    "27_541_113 in range(0, 1_000_000_000_000) # Conditional expression"
   ]
  },
  {
   "cell_type": "markdown",
   "metadata": {},
   "source": [
    "Which of the following numbers is in the range `range(0, 1000000000000, 3)`:\n",
    "- 27_541_111\n",
    "- 27_541_112\n",
    "- 27_541_113"
   ]
  },
  {
   "cell_type": "code",
   "execution_count": 36,
   "metadata": {},
   "outputs": [
    {
     "data": {
      "text/plain": [
       "True"
      ]
     },
     "execution_count": 36,
     "metadata": {},
     "output_type": "execute_result"
    }
   ],
   "source": [
    "27_541_113 in range(0, 1000000000000, 3)"
   ]
  },
  {
   "cell_type": "code",
   "execution_count": null,
   "metadata": {},
   "outputs": [],
   "source": []
  },
  {
   "cell_type": "code",
   "execution_count": 38,
   "metadata": {},
   "outputs": [
    {
     "name": "stdout",
     "output_type": "stream",
     "text": [
      "0\n",
      "1\n",
      "4\n",
      "9\n",
      "16\n"
     ]
    }
   ],
   "source": [
    "for x in range(0,5):\n",
    "    print(x**2)"
   ]
  },
  {
   "cell_type": "code",
   "execution_count": null,
   "metadata": {},
   "outputs": [],
   "source": []
  },
  {
   "cell_type": "code",
   "execution_count": null,
   "metadata": {},
   "outputs": [],
   "source": [
    "n = 10\n",
    "for x in range(n):\n",
    "    print('hi, ', x)"
   ]
  },
  {
   "cell_type": "markdown",
   "metadata": {},
   "source": [
    "### _Quick overview of `string` and `list`_"
   ]
  },
  {
   "cell_type": "code",
   "execution_count": 45,
   "metadata": {},
   "outputs": [
    {
     "data": {
      "text/plain": [
       "'dostoevsky'"
      ]
     },
     "execution_count": 45,
     "metadata": {},
     "output_type": "execute_result"
    }
   ],
   "source": [
    "myname = \"dostoevsky\"\n",
    "myname"
   ]
  },
  {
   "cell_type": "code",
   "execution_count": 40,
   "metadata": {},
   "outputs": [
    {
     "data": {
      "text/plain": [
       "str"
      ]
     },
     "execution_count": 40,
     "metadata": {},
     "output_type": "execute_result"
    }
   ],
   "source": [
    "type(myname)"
   ]
  },
  {
   "cell_type": "code",
   "execution_count": 46,
   "metadata": {},
   "outputs": [
    {
     "data": {
      "text/plain": [
       "10"
      ]
     },
     "execution_count": 46,
     "metadata": {},
     "output_type": "execute_result"
    }
   ],
   "source": [
    "len(myname) #length"
   ]
  },
  {
   "cell_type": "code",
   "execution_count": 48,
   "metadata": {},
   "outputs": [
    {
     "name": "stdout",
     "output_type": "stream",
     "text": [
      "d\n",
      "o\n",
      "y\n"
     ]
    },
    {
     "ename": "IndexError",
     "evalue": "string index out of range",
     "output_type": "error",
     "traceback": [
      "\u001b[1;31m---------------------------------------------------------------------------\u001b[0m",
      "\u001b[1;31mIndexError\u001b[0m                                Traceback (most recent call last)",
      "Input \u001b[1;32mIn [48]\u001b[0m, in \u001b[0;36m<cell line: 6>\u001b[1;34m()\u001b[0m\n\u001b[0;32m      4\u001b[0m \u001b[38;5;28mprint\u001b[39m(myname[\u001b[38;5;241m9\u001b[39m])\n\u001b[0;32m      5\u001b[0m \u001b[38;5;66;03m#print(myname[10])\u001b[39;00m\n\u001b[1;32m----> 6\u001b[0m \u001b[38;5;28mprint\u001b[39m(\u001b[43mmyname\u001b[49m\u001b[43m[\u001b[49m\u001b[38;5;241;43m11\u001b[39;49m\u001b[43m]\u001b[49m)\n",
      "\u001b[1;31mIndexError\u001b[0m: string index out of range"
     ]
    }
   ],
   "source": [
    "# indexing\n",
    "print(myname[0])\n",
    "print(myname[1])\n",
    "print(myname[9])\n",
    "#print(myname[10])\n",
    "print(myname[11])\n"
   ]
  },
  {
   "cell_type": "markdown",
   "metadata": {},
   "source": [
    "### Iterating over a string"
   ]
  },
  {
   "cell_type": "code",
   "execution_count": 50,
   "metadata": {},
   "outputs": [
    {
     "name": "stdin",
     "output_type": "stream",
     "text": [
      "Enter your name: iftach\n"
     ]
    },
    {
     "name": "stdout",
     "output_type": "stream",
     "text": [
      "i\n",
      "f\n",
      "t\n",
      "a\n",
      "c\n",
      "h\n"
     ]
    }
   ],
   "source": [
    "# Iterating over a string\n",
    "name = input('Enter your name:')\n",
    "\n",
    "for j in name:\n",
    "    print(j)\n",
    "    sleep(.3)\n"
   ]
  },
  {
   "cell_type": "markdown",
   "metadata": {},
   "source": [
    "### Iterating over a list"
   ]
  },
  {
   "cell_type": "code",
   "execution_count": 51,
   "metadata": {},
   "outputs": [
    {
     "data": {
      "text/plain": [
       "6"
      ]
     },
     "execution_count": 51,
     "metadata": {},
     "output_type": "execute_result"
    }
   ],
   "source": [
    "mylist = [1, 2.0, 'three', 'a', 'b', 'cee']\n",
    "len(mylist)"
   ]
  },
  {
   "cell_type": "code",
   "execution_count": 52,
   "metadata": {},
   "outputs": [
    {
     "name": "stdout",
     "output_type": "stream",
     "text": [
      "1 --> <class 'int'>\n",
      "2.0 --> <class 'float'>\n",
      "three --> <class 'str'>\n",
      "a --> <class 'str'>\n",
      "b --> <class 'str'>\n",
      "cee --> <class 'str'>\n"
     ]
    }
   ],
   "source": [
    "from time import sleep\n",
    "# Iterating over a list\n",
    "mylist = [1, 2.0, 'three', 'a', 'b', 'cee']\n",
    "\n",
    "for x in mylist:\n",
    "    print(x, '-->', type(x))\n",
    "    sleep(.3)"
   ]
  },
  {
   "cell_type": "markdown",
   "metadata": {},
   "source": [
    "### Using `enumerate()` with `for`"
   ]
  },
  {
   "cell_type": "markdown",
   "metadata": {},
   "source": [
    "First, let's look at some examples of what `enumerate` does."
   ]
  },
  {
   "cell_type": "code",
   "execution_count": null,
   "metadata": {},
   "outputs": [],
   "source": [
    "e = enumerate('dostoevsky')\n",
    "type(e)"
   ]
  },
  {
   "cell_type": "code",
   "execution_count": null,
   "metadata": {},
   "outputs": [],
   "source": [
    "list(range(10))"
   ]
  },
  {
   "cell_type": "code",
   "execution_count": null,
   "metadata": {},
   "outputs": [],
   "source": [
    "print(e)\n",
    "list(e)"
   ]
  },
  {
   "cell_type": "code",
   "execution_count": null,
   "metadata": {},
   "outputs": [],
   "source": [
    "e = enumerate('dostoevsky')\n",
    "list(e)"
   ]
  },
  {
   "cell_type": "code",
   "execution_count": null,
   "metadata": {},
   "outputs": [],
   "source": [
    "len('dostoevsky')"
   ]
  },
  {
   "cell_type": "code",
   "execution_count": null,
   "metadata": {},
   "outputs": [],
   "source": [
    "e = enumerate('dostoevsky')\n",
    "\n",
    "for counter, each_char in e:\n",
    "    if counter % 2 == 1:\n",
    "        print(each_char)\n"
   ]
  },
  {
   "cell_type": "code",
   "execution_count": null,
   "metadata": {},
   "outputs": [],
   "source": [
    "e = enumerate('dostoevsky')"
   ]
  },
  {
   "cell_type": "code",
   "execution_count": null,
   "metadata": {},
   "outputs": [],
   "source": [
    "print(type(e))"
   ]
  },
  {
   "cell_type": "code",
   "execution_count": null,
   "metadata": {},
   "outputs": [],
   "source": [
    "next(e)"
   ]
  },
  {
   "cell_type": "code",
   "execution_count": null,
   "metadata": {},
   "outputs": [],
   "source": [
    "e = enumerate(range(0,1_000_000_000_000,5))\n",
    "type(e)"
   ]
  },
  {
   "cell_type": "code",
   "execution_count": null,
   "metadata": {},
   "outputs": [],
   "source": [
    "next(e)"
   ]
  },
  {
   "cell_type": "markdown",
   "metadata": {},
   "source": [
    "Now, let's use it in a `for` loop"
   ]
  },
  {
   "cell_type": "code",
   "execution_count": null,
   "metadata": {},
   "outputs": [],
   "source": [
    "my_list = ['a', 5, 'c', 10, 'ff', '55']\n",
    "for i, each_item in enumerate(my_list):\n",
    "    print('Current number index is: ', i, '.     And current item is: ', each_item)"
   ]
  },
  {
   "cell_type": "markdown",
   "metadata": {},
   "source": [
    "#### Why the emphasis on `range`\n",
    "The *python* way vs. the \"generic\" way"
   ]
  },
  {
   "cell_type": "code",
   "execution_count": null,
   "metadata": {},
   "outputs": [],
   "source": [
    "days_of_week = ['sunday', 'monday', 'tuesday', 'wednesday', 'thursday', 'friday']"
   ]
  },
  {
   "cell_type": "code",
   "execution_count": null,
   "metadata": {},
   "outputs": [],
   "source": [
    "# Generic way\n",
    "for i in range(len(days_of_week)):\n",
    "    print(days_of_week[i])"
   ]
  },
  {
   "cell_type": "code",
   "execution_count": null,
   "metadata": {},
   "outputs": [],
   "source": [
    "# Python way / R\n",
    "for each_day in days_of_week:\n",
    "    print(each_day)"
   ]
  },
  {
   "cell_type": "markdown",
   "metadata": {},
   "source": [
    "## Example of using loops"
   ]
  },
  {
   "cell_type": "code",
   "execution_count": null,
   "metadata": {},
   "outputs": [],
   "source": [
    "n_days = 30\n",
    "r0 = 1.5\n",
    "number_of_infected = 1\n",
    "for each_day in range(0, n_days):\n",
    "    \n",
    "    # update how many are infected?\n",
    "    number_of_infected = number_of_infected * r0\n",
    "    \n",
    "    print('Day ' + str(i) + ', number of infected = ' + str(round(number_of_infected,1)))"
   ]
  },
  {
   "cell_type": "code",
   "execution_count": null,
   "metadata": {},
   "outputs": [],
   "source": [
    "import matplotlib.pyplot as plt\n",
    "\n",
    "n_days = 100\n",
    "r0 = 1.5\n",
    "number_of_infected = [1]\n",
    "\n",
    "for each_day in range(1, n_days):\n",
    "    # update how many are infected?\n",
    "    number_of_infected.append(number_of_infected[each_day-1] * r0)\n",
    "    \n",
    "plt.plot(list(range(0,n_days)), number_of_infected)\n",
    "plt.xlabel('Days since first infection')\n",
    "plt.ylabel('Number of people infected')\n",
    "plt.show()"
   ]
  },
  {
   "cell_type": "code",
   "execution_count": null,
   "metadata": {},
   "outputs": [],
   "source": [
    "# INITIATE LOCK-DOWN\n",
    "rate_of_infection = .90\n",
    "day_counter = n_days\n",
    "\n",
    "# Count how many days until number of infected goes below 20,000\n",
    "while number_of_infected[day_counter-1] > 20_000:\n",
    "    \n",
    "    # update how many are infected?\n",
    "    number_of_infected.append(number_of_infected[day_counter-1] * rate_of_infection)\n",
    "    \n",
    "    # update days counter\n",
    "    day_counter = day_counter + 1\n",
    "\n",
    "# How many days until we end lockdown?\n",
    "print(str(day_counter) + ' days until lockdown ends')\n",
    "\n",
    "plt.plot(list(range(0,day_counter)), number_of_infected)\n",
    "plt.xlabel('Days since first infection')\n",
    "plt.ylabel('Number of people infected')\n",
    "plt.show()"
   ]
  },
  {
   "cell_type": "markdown",
   "metadata": {},
   "source": [
    "## `break` and `continue` in loops"
   ]
  },
  {
   "cell_type": "code",
   "execution_count": 53,
   "metadata": {},
   "outputs": [
    {
     "name": "stdout",
     "output_type": "stream",
     "text": [
      "['a', 'b', 'cc', 'd', 'ee', 'ffffff']\n"
     ]
    }
   ],
   "source": [
    "mylist = ['a', 'b', 'cc', 'd', 'ee', 'ffffff']\n",
    "print(mylist)"
   ]
  },
  {
   "cell_type": "code",
   "execution_count": 54,
   "metadata": {},
   "outputs": [
    {
     "name": "stdout",
     "output_type": "stream",
     "text": [
      "a 1\n",
      "ffffff 6\n"
     ]
    }
   ],
   "source": [
    "print(mylist[0], len(mylist[0]))\n",
    "print(mylist[5], len(mylist[5]))"
   ]
  },
  {
   "cell_type": "code",
   "execution_count": 56,
   "metadata": {},
   "outputs": [
    {
     "data": {
      "text/plain": [
       "['a', 'b', 'cc', 'd', 'ee', 'ffffff']"
      ]
     },
     "execution_count": 56,
     "metadata": {},
     "output_type": "execute_result"
    }
   ],
   "source": [
    "mylist"
   ]
  },
  {
   "cell_type": "code",
   "execution_count": 55,
   "metadata": {},
   "outputs": [
    {
     "name": "stdout",
     "output_type": "stream",
     "text": [
      "a\n",
      "b\n",
      "d\n",
      "The last item copied from the list (each_time) = ffffff\n"
     ]
    }
   ],
   "source": [
    "\n",
    "for each_item in mylist:\n",
    "    if len(each_item) > 1:\n",
    "        continue\n",
    "    \n",
    "    print(each_item)\n",
    "\n",
    "print('The last item copied from the list (each_time) = ' + each_item)"
   ]
  },
  {
   "cell_type": "code",
   "execution_count": null,
   "metadata": {},
   "outputs": [],
   "source": [
    "each_item"
   ]
  },
  {
   "cell_type": "code",
   "execution_count": 57,
   "metadata": {},
   "outputs": [
    {
     "name": "stdout",
     "output_type": "stream",
     "text": [
      "a\n",
      "b\n",
      "The last item copied from the list (each_time) = cc\n"
     ]
    }
   ],
   "source": [
    "mylist = ['a', 'b', 'cc', 'd', 'ee', 'fffffff']\n",
    "for each_item in mylist:\n",
    "    if len(each_item) > 1:\n",
    "        break\n",
    "    \n",
    "    print(each_item)\n",
    "\n",
    "print('The last item copied from the list (each_time) = ' + each_item)"
   ]
  },
  {
   "cell_type": "code",
   "execution_count": null,
   "metadata": {},
   "outputs": [],
   "source": [
    "for index in range(1, 20):\n",
    "    if index % 5 == 0:\n",
    "        break\n",
    "    \n",
    "    print(index)\n",
    "\n",
    "print('END OF PROGRAM')"
   ]
  },
  {
   "cell_type": "code",
   "execution_count": 58,
   "metadata": {},
   "outputs": [
    {
     "name": "stdin",
     "output_type": "stream",
     "text": [
      "Enter password: 123\n",
      "Enter password: jgjgjg\n",
      "Enter password: nvnvnv\n",
      "Enter password: abc123\n"
     ]
    },
    {
     "name": "stdout",
     "output_type": "stream",
     "text": [
      "Correct password\n"
     ]
    }
   ],
   "source": [
    "# Write a loop that asks user to enter a password until password is correct\n",
    "password = 'abc123'\n",
    "while True:\n",
    "    user_input = input('Enter password:')\n",
    "    if user_input == password:\n",
    "        break\n",
    "\n",
    "print('Correct password')"
   ]
  },
  {
   "cell_type": "markdown",
   "metadata": {},
   "source": [
    "## `for` exercises"
   ]
  },
  {
   "cell_type": "markdown",
   "metadata": {},
   "source": [
    "Write a program that displays a temperature conversion table for degrees Celsius and\n",
    "degrees Fahrenheit. The table should include rows for all temperatures between 0\n",
    "and 100 degrees Celsius that are multiples of 10 degrees Celsius. Include appropriate\n",
    "headings on your columns."
   ]
  },
  {
   "cell_type": "code",
   "execution_count": null,
   "metadata": {},
   "outputs": [],
   "source": []
  }
 ],
 "metadata": {
  "kernelspec": {
   "display_name": "Python 3 (ipykernel)",
   "language": "python",
   "name": "python3"
  },
  "language_info": {
   "codemirror_mode": {
    "name": "ipython",
    "version": 3
   },
   "file_extension": ".py",
   "mimetype": "text/x-python",
   "name": "python",
   "nbconvert_exporter": "python",
   "pygments_lexer": "ipython3",
   "version": "3.9.7"
  }
 },
 "nbformat": 4,
 "nbformat_minor": 4
}
