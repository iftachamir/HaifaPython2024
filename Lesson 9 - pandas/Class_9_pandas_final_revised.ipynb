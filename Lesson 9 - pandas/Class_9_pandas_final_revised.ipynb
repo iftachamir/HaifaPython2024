{
 "cells": [
  {
   "cell_type": "markdown",
   "metadata": {},
   "source": [
    "# pandas"
   ]
  },
  {
   "cell_type": "code",
   "execution_count": null,
   "metadata": {},
   "outputs": [],
   "source": [
    "import pandas as pd\n",
    "import matplotlib.pyplot as plt\n",
    "import numpy as np"
   ]
  },
  {
   "cell_type": "markdown",
   "metadata": {},
   "source": [
    "## 1. Data Loading and Preprocessing"
   ]
  },
  {
   "cell_type": "markdown",
   "metadata": {},
   "source": [
    "### Load CSV files"
   ]
  },
  {
   "cell_type": "code",
   "execution_count": null,
   "metadata": {},
   "outputs": [],
   "source": [
    "column_names = ['Block', 'Trial', 'Response_Level', 'Condition', 'Correct', 'Reaction_Time']  # Define column names\n",
    "session1_df = pd.read_csv('data/Study3_P1NAVON1.csv', header=None, names=column_names)"
   ]
  },
  {
   "cell_type": "markdown",
   "metadata": {},
   "source": [
    "### Display the first few rows of each dataset"
   ]
  },
  {
   "cell_type": "code",
   "execution_count": null,
   "metadata": {},
   "outputs": [],
   "source": [
    "print(\"Session 1 data:\")\n",
    "session1_df.head()"
   ]
  },
  {
   "cell_type": "code",
   "execution_count": null,
   "metadata": {},
   "outputs": [],
   "source": [
    "type(session1_df)"
   ]
  },
  {
   "cell_type": "markdown",
   "metadata": {},
   "source": [
    "### Check data info"
   ]
  },
  {
   "cell_type": "code",
   "execution_count": null,
   "metadata": {},
   "outputs": [],
   "source": [
    "session1_df.info()"
   ]
  },
  {
   "cell_type": "markdown",
   "metadata": {},
   "source": [
    "## 2. Data Exploration and Visualization"
   ]
  },
  {
   "cell_type": "markdown",
   "metadata": {},
   "source": [
    "### Summary statistics"
   ]
  },
  {
   "cell_type": "code",
   "execution_count": null,
   "metadata": {},
   "outputs": [],
   "source": [
    "session1_df.describe()"
   ]
  },
  {
   "cell_type": "markdown",
   "metadata": {},
   "source": [
    "### Visualize reaction time distribution"
   ]
  },
  {
   "cell_type": "code",
   "execution_count": null,
   "metadata": {},
   "outputs": [],
   "source": [
    "plt.figure(figsize=(5, 3))\n",
    "plt.hist(session1_df['Reaction_Time'], bins=20, density=True)\n",
    "plt.title('Distribution of Reaction Times (Session 1)')\n",
    "plt.xlabel('Reaction Time (seconds)')\n",
    "plt.ylabel('Density')\n",
    "plt.legend()\n",
    "plt.grid(axis='y', alpha=0.5)\n",
    "plt.show()"
   ]
  },
  {
   "cell_type": "markdown",
   "metadata": {},
   "source": [
    "## 3. Data Manipulation and Transformation"
   ]
  },
  {
   "cell_type": "markdown",
   "metadata": {},
   "source": [
    "### Recode numbers into new categorical columns"
   ]
  },
  {
   "cell_type": "code",
   "execution_count": null,
   "metadata": {},
   "outputs": [],
   "source": [
    "# Recode response level\n",
    "session1_df['Response_Level_Catg'] = session1_df['Response_Level'].map({1: 'Local', 2: 'Global'})\n",
    "\n",
    "session1_df.head()"
   ]
  },
  {
   "cell_type": "code",
   "execution_count": null,
   "metadata": {},
   "outputs": [],
   "source": [
    "# Recode condition\n",
    "session1_df['Condition_Catg'] = session1_df['Condition'].map({0: 'Congruent', 2: 'Incongruent'})\n",
    "session1_df.head()"
   ]
  },
  {
   "cell_type": "markdown",
   "metadata": {},
   "source": [
    "### Outliers - remove reaction times > 3 standard deviations"
   ]
  },
  {
   "cell_type": "code",
   "execution_count": null,
   "metadata": {},
   "outputs": [],
   "source": [
    "# Handle outliers (e.g., remove reaction times > 3 standard deviations)\n",
    "mean_rt = session1_df['Reaction_Time'].mean()\n",
    "std_rt = session1_df['Reaction_Time'].std()\n",
    "print(mean_rt, std_rt)"
   ]
  },
  {
   "cell_type": "code",
   "execution_count": null,
   "metadata": {},
   "outputs": [],
   "source": [
    "idx = ((session1_df['Reaction_Time'] <= mean_rt + 3*std_rt) & \n",
    "        (session1_df['Reaction_Time'] >= mean_rt - 3*std_rt))\n",
    "idx"
   ]
  },
  {
   "cell_type": "code",
   "execution_count": null,
   "metadata": {},
   "outputs": [],
   "source": [
    "session1_df_clean = session1_df[idx]\n",
    "\n",
    "print(\"Original dataset size:\", len(session1_df))\n",
    "print(\"Cleaned dataset size:\", len(session1_df_clean))"
   ]
  },
  {
   "cell_type": "code",
   "execution_count": null,
   "metadata": {},
   "outputs": [],
   "source": [
    "import matplotlib.pyplot as plt\n",
    "\n",
    "plt.figure(figsize=(6, 3))\n",
    "\n",
    "# Original response times\n",
    "plt.subplot(1, 2, 1)\n",
    "plt.hist(session1_df['Reaction_Time'], bins=30, label='Original')\n",
    "plt.title('Original Reaction Times')\n",
    "plt.xlabel('Reaction Time (seconds)')\n",
    "plt.ylabel('Frequency')\n",
    "plt.xlim(session1_df['Reaction_Time'].min(), session1_df['Reaction_Time'].max())\n",
    "\n",
    "# Cleaned response times\n",
    "plt.subplot(1, 2, 2)\n",
    "plt.hist(session1_df_clean['Reaction_Time'], bins=30, label='Cleaned', color='orange')\n",
    "plt.title('Cleaned Reaction Times')\n",
    "plt.xlabel('Reaction Time (seconds)')\n",
    "plt.ylabel('Frequency')\n",
    "plt.xlim(session1_df['Reaction_Time'].min(), session1_df['Reaction_Time'].max())\n",
    "\n",
    "plt.tight_layout()\n",
    "plt.show()\n"
   ]
  },
  {
   "cell_type": "markdown",
   "metadata": {},
   "source": [
    "## 4. Statistical Analysis"
   ]
  },
  {
   "cell_type": "markdown",
   "metadata": {},
   "source": [
    "### Calculate mean reaction time and accuracy for each condition"
   ]
  },
  {
   "cell_type": "code",
   "execution_count": null,
   "metadata": {},
   "outputs": [],
   "source": [
    "# RT\n",
    "mean_rt_by_condition = session1_df_clean.groupby('Condition_Catg')['Reaction_Time'].mean()\n",
    "print(\"Mean Reaction Time by Condition:\")\n",
    "print(mean_rt_by_condition)\n",
    "\n",
    "# Accuracy\n",
    "accuracy_by_condition = session1_df_clean.groupby('Condition_Catg')['Correct'].mean()\n",
    "print(\"\\nAccuracy by Condition:\")\n",
    "print(accuracy_by_condition)"
   ]
  },
  {
   "cell_type": "markdown",
   "metadata": {},
   "source": [
    "### Calculate mean RT and accuracy for each response level"
   ]
  },
  {
   "cell_type": "code",
   "execution_count": null,
   "metadata": {},
   "outputs": [],
   "source": [
    "# RT\n",
    "mean_rt_by_response = session1_df_clean.groupby('Response_Level_Catg')['Reaction_Time'].mean()\n",
    "print(\"Mean Reaction Time by Response level:\")\n",
    "print(mean_rt_by_response)\n",
    "\n",
    "# Accuracy\n",
    "accuracy_by_response = session1_df_clean.groupby('Response_Level_Catg')['Correct'].mean()\n",
    "print(\"\\nAccuracy by Response level:\")\n",
    "print(accuracy_by_response)"
   ]
  },
  {
   "cell_type": "code",
   "execution_count": null,
   "metadata": {},
   "outputs": [],
   "source": [
    "# Calculate mean reaction time for each condition\n",
    "mean_rt_by_condition = session1_df_clean.groupby('Condition_Catg')['Reaction_Time'].mean()\n",
    "print(\"Mean Reaction Time by Condition:\")\n",
    "print(mean_rt_by_condition)\n",
    "\n",
    "# Calculate accuracy for each condition\n",
    "accuracy_by_condition = session1_df_clean.groupby('Condition_Catg')['Correct'].mean()\n",
    "print(\"\\nAccuracy by Condition:\")\n",
    "print(accuracy_by_condition)"
   ]
  },
  {
   "cell_type": "code",
   "execution_count": null,
   "metadata": {},
   "outputs": [],
   "source": []
  },
  {
   "cell_type": "markdown",
   "metadata": {},
   "source": [
    "### Group by Response level X Condition"
   ]
  },
  {
   "cell_type": "code",
   "execution_count": null,
   "metadata": {},
   "outputs": [],
   "source": [
    "mean_rt_by_responseXcondition = session1_df_clean.groupby(['Response_Level_Catg', 'Condition_Catg'])['Reaction_Time'].mean()\n",
    "print(\"Mean Reaction Time by Condition:\")\n",
    "mean_rt_by_responseXcondition"
   ]
  },
  {
   "cell_type": "markdown",
   "metadata": {},
   "source": [
    "#### Have both RT and accuracy in the resulting aggregated dataframe"
   ]
  },
  {
   "cell_type": "code",
   "execution_count": null,
   "metadata": {},
   "outputs": [],
   "source": [
    "mean_rt_by_responseXcondition = session1_df_clean.groupby(['Response_Level_Catg', 'Condition_Catg'])[['Reaction_Time','Correct']].mean()\n",
    "print(\"Mean Reaction Time by Condition:\")\n",
    "mean_rt_by_responseXcondition"
   ]
  },
  {
   "cell_type": "markdown",
   "metadata": {},
   "source": [
    "#### Plot the RT per condition with error bars"
   ]
  },
  {
   "cell_type": "code",
   "execution_count": null,
   "metadata": {},
   "outputs": [],
   "source": [
    "mean_std_rt_by_responseXcondition = session1_df_clean.groupby(['Response_Level_Catg', 'Condition_Catg'])['Reaction_Time'].agg(['mean', 'std']).reset_index()\n",
    "mean_std_rt_by_responseXcondition"
   ]
  },
  {
   "cell_type": "code",
   "execution_count": null,
   "metadata": {},
   "outputs": [],
   "source": [
    "mean_std_rt_by_responseXcondition['Response_X_Condition'] = mean_std_rt_by_responseXcondition['Response_Level_Catg'] + ' ' + mean_std_rt_by_responseXcondition['Condition_Catg']\n",
    "mean_std_rt_by_responseXcondition"
   ]
  },
  {
   "cell_type": "code",
   "execution_count": null,
   "metadata": {},
   "outputs": [],
   "source": [
    "plt.bar(data=mean_std_rt_by_responseXcondition,\n",
    "             x = 'Response_X_Condition',\n",
    "             height = 'mean',\n",
    "             yerr = 'std')\n",
    "plt.xticks(rotation=45, ha='right')\n",
    "plt.show()"
   ]
  },
  {
   "cell_type": "markdown",
   "metadata": {},
   "source": [
    "## 6. Merging Datasets"
   ]
  },
  {
   "cell_type": "code",
   "execution_count": null,
   "metadata": {},
   "outputs": [],
   "source": [
    "# Get CSV files list from a folder using pathlib\n",
    "cwd = pathlib.Path.cwd() # Current working directory\n",
    "data_dir = cwd / 'data'  # Path object for better file system interaction\n",
    "\n",
    "for file in data_dir.iterdir():\n",
    "    print(file.name)"
   ]
  },
  {
   "cell_type": "markdown",
   "metadata": {},
   "source": [
    "#### Load together into a dataframe"
   ]
  },
  {
   "cell_type": "code",
   "execution_count": null,
   "metadata": {},
   "outputs": [],
   "source": [
    "# Import libraries\n",
    "import pathlib \n",
    "import re  # regular expression\n",
    "\n",
    "# Get CSV files list\n",
    "csv_files = list(data_dir.glob('*.csv'))  # List of Path objects for CSV files\n",
    "\n",
    "# Define column names (assuming all CSVs have same structure)\n",
    "column_names = ['Block', 'Trial', 'Response_Level', 'Condition', 'Correct', 'Reaction_Time']\n",
    "\n",
    "# Read each CSV file into DataFrame and add Participant column\n",
    "df_list = []\n",
    "for file in csv_files:\n",
    "    df = pd.read_csv(file, header=None, names=column_names)\n",
    "\n",
    "    # Extract participant number using regular expression\n",
    "    match = re.search(r'P(\\d+)N', file.name)\n",
    "    participant_number = int(match.group(1)) if match else None\n",
    "\n",
    "    # Add participant number as the first column\n",
    "    df.insert(0, 'Participant', participant_number) \n",
    "    df_list.append(df)\n",
    "\n",
    "# Concatenate all DataFrames\n",
    "df = pd.concat(df_list, ignore_index=True)"
   ]
  },
  {
   "cell_type": "code",
   "execution_count": null,
   "metadata": {},
   "outputs": [],
   "source": [
    "df"
   ]
  },
  {
   "cell_type": "code",
   "execution_count": null,
   "metadata": {},
   "outputs": [],
   "source": [
    "df.describe()"
   ]
  },
  {
   "cell_type": "markdown",
   "metadata": {},
   "source": [
    "#### Aggregate to a subject level data set"
   ]
  },
  {
   "cell_type": "code",
   "execution_count": null,
   "metadata": {},
   "outputs": [],
   "source": [
    "group_vars = ['Participant', 'Response_Level', 'Condition']\n",
    "subj_lvl_df = df.groupby(group_vars)[['Correct','Reaction_Time']].agg(['mean', 'std']).reset_index()\n",
    "subj_lvl_df"
   ]
  }
 ],
 "metadata": {
  "kernelspec": {
   "display_name": "Python 3 (ipykernel)",
   "language": "python",
   "name": "python3"
  },
  "language_info": {
   "codemirror_mode": {
    "name": "ipython",
    "version": 3
   },
   "file_extension": ".py",
   "mimetype": "text/x-python",
   "name": "python",
   "nbconvert_exporter": "python",
   "pygments_lexer": "ipython3",
   "version": "3.9.7"
  }
 },
 "nbformat": 4,
 "nbformat_minor": 4
}
