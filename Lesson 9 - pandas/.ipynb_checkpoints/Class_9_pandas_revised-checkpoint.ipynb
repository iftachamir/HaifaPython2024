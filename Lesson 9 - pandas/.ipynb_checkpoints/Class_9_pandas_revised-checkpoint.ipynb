{
 "cells": [
  {
   "cell_type": "markdown",
   "metadata": {},
   "source": [
    "# pandas"
   ]
  },
  {
   "cell_type": "code",
   "execution_count": 36,
   "metadata": {},
   "outputs": [],
   "source": [
    "import pandas as pd\n",
    "import matplotlib.pyplot as plt\n",
    "import numpy as np"
   ]
  },
  {
   "cell_type": "markdown",
   "metadata": {},
   "source": [
    "## 1. Data Loading and Preprocessing"
   ]
  },
  {
   "cell_type": "markdown",
   "metadata": {},
   "source": [
    "### Load CSV files"
   ]
  },
  {
   "cell_type": "code",
   "execution_count": 37,
   "metadata": {},
   "outputs": [],
   "source": [
    "column_names = ['Block', 'Trial', 'Response_Level', 'Condition', 'Correct', 'Reaction_Time']  # Define column names\n",
    "session1_df = pd.read_csv('data/Study3_P1NAVON1.csv', header=None, names=column_names)\n",
    "session2_df = pd.read_csv('data/Study3_P1NAVON2.csv', header=None, names=column_names)"
   ]
  },
  {
   "cell_type": "markdown",
   "metadata": {},
   "source": [
    "### Display the first few rows of each dataset"
   ]
  },
  {
   "cell_type": "code",
   "execution_count": 38,
   "metadata": {},
   "outputs": [
    {
     "name": "stdout",
     "output_type": "stream",
     "text": [
      "Session 1 data:\n"
     ]
    },
    {
     "data": {
      "text/html": [
       "<div>\n",
       "<style scoped>\n",
       "    .dataframe tbody tr th:only-of-type {\n",
       "        vertical-align: middle;\n",
       "    }\n",
       "\n",
       "    .dataframe tbody tr th {\n",
       "        vertical-align: top;\n",
       "    }\n",
       "\n",
       "    .dataframe thead th {\n",
       "        text-align: right;\n",
       "    }\n",
       "</style>\n",
       "<table border=\"1\" class=\"dataframe\">\n",
       "  <thead>\n",
       "    <tr style=\"text-align: right;\">\n",
       "      <th></th>\n",
       "      <th>Block</th>\n",
       "      <th>Trial</th>\n",
       "      <th>Response_Level</th>\n",
       "      <th>Condition</th>\n",
       "      <th>Correct</th>\n",
       "      <th>Reaction_Time</th>\n",
       "    </tr>\n",
       "  </thead>\n",
       "  <tbody>\n",
       "    <tr>\n",
       "      <th>0</th>\n",
       "      <td>1</td>\n",
       "      <td>1</td>\n",
       "      <td>1</td>\n",
       "      <td>0</td>\n",
       "      <td>1</td>\n",
       "      <td>0.48137</td>\n",
       "    </tr>\n",
       "    <tr>\n",
       "      <th>1</th>\n",
       "      <td>1</td>\n",
       "      <td>2</td>\n",
       "      <td>1</td>\n",
       "      <td>2</td>\n",
       "      <td>0</td>\n",
       "      <td>0.46472</td>\n",
       "    </tr>\n",
       "    <tr>\n",
       "      <th>2</th>\n",
       "      <td>1</td>\n",
       "      <td>3</td>\n",
       "      <td>1</td>\n",
       "      <td>2</td>\n",
       "      <td>0</td>\n",
       "      <td>0.49802</td>\n",
       "    </tr>\n",
       "    <tr>\n",
       "      <th>3</th>\n",
       "      <td>1</td>\n",
       "      <td>4</td>\n",
       "      <td>1</td>\n",
       "      <td>2</td>\n",
       "      <td>1</td>\n",
       "      <td>0.89621</td>\n",
       "    </tr>\n",
       "    <tr>\n",
       "      <th>4</th>\n",
       "      <td>1</td>\n",
       "      <td>5</td>\n",
       "      <td>1</td>\n",
       "      <td>2</td>\n",
       "      <td>1</td>\n",
       "      <td>0.66389</td>\n",
       "    </tr>\n",
       "  </tbody>\n",
       "</table>\n",
       "</div>"
      ],
      "text/plain": [
       "   Block  Trial  Response_Level  Condition  Correct  Reaction_Time\n",
       "0      1      1               1          0        1        0.48137\n",
       "1      1      2               1          2        0        0.46472\n",
       "2      1      3               1          2        0        0.49802\n",
       "3      1      4               1          2        1        0.89621\n",
       "4      1      5               1          2        1        0.66389"
      ]
     },
     "execution_count": 38,
     "metadata": {},
     "output_type": "execute_result"
    }
   ],
   "source": [
    "print(\"Session 1 data:\")\n",
    "session1_df.head()"
   ]
  },
  {
   "cell_type": "code",
   "execution_count": 39,
   "metadata": {},
   "outputs": [
    {
     "data": {
      "text/plain": [
       "pandas.core.frame.DataFrame"
      ]
     },
     "execution_count": 39,
     "metadata": {},
     "output_type": "execute_result"
    }
   ],
   "source": [
    "type(session1_df)"
   ]
  },
  {
   "cell_type": "code",
   "execution_count": 40,
   "metadata": {},
   "outputs": [
    {
     "name": "stdout",
     "output_type": "stream",
     "text": [
      "\n",
      "Session 2 data:\n"
     ]
    },
    {
     "data": {
      "text/html": [
       "<div>\n",
       "<style scoped>\n",
       "    .dataframe tbody tr th:only-of-type {\n",
       "        vertical-align: middle;\n",
       "    }\n",
       "\n",
       "    .dataframe tbody tr th {\n",
       "        vertical-align: top;\n",
       "    }\n",
       "\n",
       "    .dataframe thead th {\n",
       "        text-align: right;\n",
       "    }\n",
       "</style>\n",
       "<table border=\"1\" class=\"dataframe\">\n",
       "  <thead>\n",
       "    <tr style=\"text-align: right;\">\n",
       "      <th></th>\n",
       "      <th>Block</th>\n",
       "      <th>Trial</th>\n",
       "      <th>Response_Level</th>\n",
       "      <th>Condition</th>\n",
       "      <th>Correct</th>\n",
       "      <th>Reaction_Time</th>\n",
       "    </tr>\n",
       "  </thead>\n",
       "  <tbody>\n",
       "    <tr>\n",
       "      <th>0</th>\n",
       "      <td>1</td>\n",
       "      <td>1</td>\n",
       "      <td>1</td>\n",
       "      <td>0</td>\n",
       "      <td>1</td>\n",
       "      <td>0.39851</td>\n",
       "    </tr>\n",
       "    <tr>\n",
       "      <th>1</th>\n",
       "      <td>1</td>\n",
       "      <td>2</td>\n",
       "      <td>1</td>\n",
       "      <td>2</td>\n",
       "      <td>0</td>\n",
       "      <td>0.46480</td>\n",
       "    </tr>\n",
       "    <tr>\n",
       "      <th>2</th>\n",
       "      <td>1</td>\n",
       "      <td>3</td>\n",
       "      <td>1</td>\n",
       "      <td>2</td>\n",
       "      <td>0</td>\n",
       "      <td>0.44817</td>\n",
       "    </tr>\n",
       "    <tr>\n",
       "      <th>3</th>\n",
       "      <td>1</td>\n",
       "      <td>4</td>\n",
       "      <td>1</td>\n",
       "      <td>2</td>\n",
       "      <td>1</td>\n",
       "      <td>0.68051</td>\n",
       "    </tr>\n",
       "    <tr>\n",
       "      <th>4</th>\n",
       "      <td>1</td>\n",
       "      <td>5</td>\n",
       "      <td>1</td>\n",
       "      <td>2</td>\n",
       "      <td>1</td>\n",
       "      <td>0.59750</td>\n",
       "    </tr>\n",
       "  </tbody>\n",
       "</table>\n",
       "</div>"
      ],
      "text/plain": [
       "   Block  Trial  Response_Level  Condition  Correct  Reaction_Time\n",
       "0      1      1               1          0        1        0.39851\n",
       "1      1      2               1          2        0        0.46480\n",
       "2      1      3               1          2        0        0.44817\n",
       "3      1      4               1          2        1        0.68051\n",
       "4      1      5               1          2        1        0.59750"
      ]
     },
     "execution_count": 40,
     "metadata": {},
     "output_type": "execute_result"
    }
   ],
   "source": [
    "print(\"\\nSession 2 data:\")\n",
    "session2_df.head()"
   ]
  },
  {
   "cell_type": "markdown",
   "metadata": {},
   "source": [
    "### Check data info"
   ]
  },
  {
   "cell_type": "code",
   "execution_count": 41,
   "metadata": {},
   "outputs": [
    {
     "name": "stdout",
     "output_type": "stream",
     "text": [
      "<class 'pandas.core.frame.DataFrame'>\n",
      "RangeIndex: 640 entries, 0 to 639\n",
      "Data columns (total 6 columns):\n",
      " #   Column          Non-Null Count  Dtype  \n",
      "---  ------          --------------  -----  \n",
      " 0   Block           640 non-null    int64  \n",
      " 1   Trial           640 non-null    int64  \n",
      " 2   Response_Level  640 non-null    int64  \n",
      " 3   Condition       640 non-null    int64  \n",
      " 4   Correct         640 non-null    int64  \n",
      " 5   Reaction_Time   640 non-null    float64\n",
      "dtypes: float64(1), int64(5)\n",
      "memory usage: 30.1 KB\n"
     ]
    }
   ],
   "source": [
    "session1_df.info()"
   ]
  },
  {
   "cell_type": "code",
   "execution_count": 42,
   "metadata": {},
   "outputs": [
    {
     "name": "stdout",
     "output_type": "stream",
     "text": [
      "<class 'pandas.core.frame.DataFrame'>\n",
      "RangeIndex: 640 entries, 0 to 639\n",
      "Data columns (total 6 columns):\n",
      " #   Column          Non-Null Count  Dtype  \n",
      "---  ------          --------------  -----  \n",
      " 0   Block           640 non-null    int64  \n",
      " 1   Trial           640 non-null    int64  \n",
      " 2   Response_Level  640 non-null    int64  \n",
      " 3   Condition       640 non-null    int64  \n",
      " 4   Correct         640 non-null    int64  \n",
      " 5   Reaction_Time   640 non-null    float64\n",
      "dtypes: float64(1), int64(5)\n",
      "memory usage: 30.1 KB\n"
     ]
    }
   ],
   "source": [
    "session2_df.info()"
   ]
  },
  {
   "cell_type": "markdown",
   "metadata": {},
   "source": [
    "## 2. Data Exploration and Visualization"
   ]
  },
  {
   "cell_type": "markdown",
   "metadata": {},
   "source": [
    "### Summary statistics"
   ]
  },
  {
   "cell_type": "code",
   "execution_count": 43,
   "metadata": {},
   "outputs": [
    {
     "data": {
      "text/html": [
       "<div>\n",
       "<style scoped>\n",
       "    .dataframe tbody tr th:only-of-type {\n",
       "        vertical-align: middle;\n",
       "    }\n",
       "\n",
       "    .dataframe tbody tr th {\n",
       "        vertical-align: top;\n",
       "    }\n",
       "\n",
       "    .dataframe thead th {\n",
       "        text-align: right;\n",
       "    }\n",
       "</style>\n",
       "<table border=\"1\" class=\"dataframe\">\n",
       "  <thead>\n",
       "    <tr style=\"text-align: right;\">\n",
       "      <th></th>\n",
       "      <th>Block</th>\n",
       "      <th>Trial</th>\n",
       "      <th>Response_Level</th>\n",
       "      <th>Condition</th>\n",
       "      <th>Correct</th>\n",
       "      <th>Reaction_Time</th>\n",
       "    </tr>\n",
       "  </thead>\n",
       "  <tbody>\n",
       "    <tr>\n",
       "      <th>count</th>\n",
       "      <td>640.000000</td>\n",
       "      <td>640.000000</td>\n",
       "      <td>640.000000</td>\n",
       "      <td>640.000000</td>\n",
       "      <td>640.000000</td>\n",
       "      <td>640.000000</td>\n",
       "    </tr>\n",
       "    <tr>\n",
       "      <th>mean</th>\n",
       "      <td>2.500000</td>\n",
       "      <td>80.500000</td>\n",
       "      <td>1.500000</td>\n",
       "      <td>1.000000</td>\n",
       "      <td>0.834375</td>\n",
       "      <td>0.489381</td>\n",
       "    </tr>\n",
       "    <tr>\n",
       "      <th>std</th>\n",
       "      <td>1.118908</td>\n",
       "      <td>46.223245</td>\n",
       "      <td>0.500391</td>\n",
       "      <td>1.000782</td>\n",
       "      <td>0.372034</td>\n",
       "      <td>0.121092</td>\n",
       "    </tr>\n",
       "    <tr>\n",
       "      <th>min</th>\n",
       "      <td>1.000000</td>\n",
       "      <td>1.000000</td>\n",
       "      <td>1.000000</td>\n",
       "      <td>0.000000</td>\n",
       "      <td>0.000000</td>\n",
       "      <td>0.282230</td>\n",
       "    </tr>\n",
       "    <tr>\n",
       "      <th>25%</th>\n",
       "      <td>1.750000</td>\n",
       "      <td>40.750000</td>\n",
       "      <td>1.000000</td>\n",
       "      <td>0.000000</td>\n",
       "      <td>1.000000</td>\n",
       "      <td>0.398438</td>\n",
       "    </tr>\n",
       "    <tr>\n",
       "      <th>50%</th>\n",
       "      <td>2.500000</td>\n",
       "      <td>80.500000</td>\n",
       "      <td>1.500000</td>\n",
       "      <td>1.000000</td>\n",
       "      <td>1.000000</td>\n",
       "      <td>0.464780</td>\n",
       "    </tr>\n",
       "    <tr>\n",
       "      <th>75%</th>\n",
       "      <td>3.250000</td>\n",
       "      <td>120.250000</td>\n",
       "      <td>2.000000</td>\n",
       "      <td>2.000000</td>\n",
       "      <td>1.000000</td>\n",
       "      <td>0.564265</td>\n",
       "    </tr>\n",
       "    <tr>\n",
       "      <th>max</th>\n",
       "      <td>4.000000</td>\n",
       "      <td>160.000000</td>\n",
       "      <td>2.000000</td>\n",
       "      <td>2.000000</td>\n",
       "      <td>1.000000</td>\n",
       "      <td>1.012400</td>\n",
       "    </tr>\n",
       "  </tbody>\n",
       "</table>\n",
       "</div>"
      ],
      "text/plain": [
       "            Block       Trial  Response_Level   Condition     Correct  \\\n",
       "count  640.000000  640.000000      640.000000  640.000000  640.000000   \n",
       "mean     2.500000   80.500000        1.500000    1.000000    0.834375   \n",
       "std      1.118908   46.223245        0.500391    1.000782    0.372034   \n",
       "min      1.000000    1.000000        1.000000    0.000000    0.000000   \n",
       "25%      1.750000   40.750000        1.000000    0.000000    1.000000   \n",
       "50%      2.500000   80.500000        1.500000    1.000000    1.000000   \n",
       "75%      3.250000  120.250000        2.000000    2.000000    1.000000   \n",
       "max      4.000000  160.000000        2.000000    2.000000    1.000000   \n",
       "\n",
       "       Reaction_Time  \n",
       "count     640.000000  \n",
       "mean        0.489381  \n",
       "std         0.121092  \n",
       "min         0.282230  \n",
       "25%         0.398438  \n",
       "50%         0.464780  \n",
       "75%         0.564265  \n",
       "max         1.012400  "
      ]
     },
     "execution_count": 43,
     "metadata": {},
     "output_type": "execute_result"
    }
   ],
   "source": [
    "session1_df.describe()"
   ]
  },
  {
   "cell_type": "markdown",
   "metadata": {},
   "source": [
    "### Visualize reaction time distribution"
   ]
  },
  {
   "cell_type": "code",
   "execution_count": 44,
   "metadata": {},
   "outputs": [
    {
     "name": "stderr",
     "output_type": "stream",
     "text": [
      "No artists with labels found to put in legend.  Note that artists whose label start with an underscore are ignored when legend() is called with no argument.\n"
     ]
    },
    {
     "data": {
      "image/png": "[encoded data removed]",
      "text/plain": [
       "<Figure size 500x300 with 1 Axes>"
      ]
     },
     "metadata": {},
     "output_type": "display_data"
    }
   ],
   "source": [
    "plt.figure(figsize=(5, 3))\n",
    "plt.hist(session1_df['Reaction_Time'], bins=20, density=True)\n",
    "plt.title('Distribution of Reaction Times (Session 1)')\n",
    "plt.xlabel('Reaction Time (seconds)')\n",
    "plt.ylabel('Density')\n",
    "plt.legend()\n",
    "plt.grid(axis='y', alpha=0.5)\n",
    "plt.show()"
   ]
  },
  {
   "cell_type": "code",
   "execution_count": 45,
   "metadata": {},
   "outputs": [
    {
     "name": "stderr",
     "output_type": "stream",
     "text": [
      "No artists with labels found to put in legend.  Note that artists whose label start with an underscore are ignored when legend() is called with no argument.\n"
     ]
    },
    {
     "data": {
      "image/png": "[encoded data removed]",
      "text/plain": [
       "<Figure size 500x300 with 1 Axes>"
      ]
     },
     "metadata": {},
     "output_type": "display_data"
    }
   ],
   "source": [
    "plt.figure(figsize=(5, 3))\n",
    "plt.hist(session2_df['Reaction_Time'], bins=20, density=True)\n",
    "plt.title('Distribution of Reaction Times (Session 2)')\n",
    "plt.xlabel('Reaction Time (seconds)')\n",
    "plt.ylabel('Density')\n",
    "plt.legend()\n",
    "plt.grid(axis='y', alpha=0.5)\n",
    "plt.show()"
   ]
  },
  {
   "cell_type": "markdown",
   "metadata": {},
   "source": [
    "## 3. Data Manipulation and Transformation"
   ]
  },
  {
   "cell_type": "markdown",
   "metadata": {},
   "source": [
    "### Recode numbers into new categorical columns"
   ]
  },
  {
   "cell_type": "code",
   "execution_count": 46,
   "metadata": {},
   "outputs": [
    {
     "data": {
      "text/html": [
       "<div>\n",
       "<style scoped>\n",
       "    .dataframe tbody tr th:only-of-type {\n",
       "        vertical-align: middle;\n",
       "    }\n",
       "\n",
       "    .dataframe tbody tr th {\n",
       "        vertical-align: top;\n",
       "    }\n",
       "\n",
       "    .dataframe thead th {\n",
       "        text-align: right;\n",
       "    }\n",
       "</style>\n",
       "<table border=\"1\" class=\"dataframe\">\n",
       "  <thead>\n",
       "    <tr style=\"text-align: right;\">\n",
       "      <th></th>\n",
       "      <th>Block</th>\n",
       "      <th>Trial</th>\n",
       "      <th>Response_Level</th>\n",
       "      <th>Condition</th>\n",
       "      <th>Correct</th>\n",
       "      <th>Reaction_Time</th>\n",
       "      <th>Response_Level_Catg</th>\n",
       "    </tr>\n",
       "  </thead>\n",
       "  <tbody>\n",
       "    <tr>\n",
       "      <th>0</th>\n",
       "      <td>1</td>\n",
       "      <td>1</td>\n",
       "      <td>1</td>\n",
       "      <td>0</td>\n",
       "      <td>1</td>\n",
       "      <td>0.48137</td>\n",
       "      <td>Local</td>\n",
       "    </tr>\n",
       "    <tr>\n",
       "      <th>1</th>\n",
       "      <td>1</td>\n",
       "      <td>2</td>\n",
       "      <td>1</td>\n",
       "      <td>2</td>\n",
       "      <td>0</td>\n",
       "      <td>0.46472</td>\n",
       "      <td>Local</td>\n",
       "    </tr>\n",
       "    <tr>\n",
       "      <th>2</th>\n",
       "      <td>1</td>\n",
       "      <td>3</td>\n",
       "      <td>1</td>\n",
       "      <td>2</td>\n",
       "      <td>0</td>\n",
       "      <td>0.49802</td>\n",
       "      <td>Local</td>\n",
       "    </tr>\n",
       "    <tr>\n",
       "      <th>3</th>\n",
       "      <td>1</td>\n",
       "      <td>4</td>\n",
       "      <td>1</td>\n",
       "      <td>2</td>\n",
       "      <td>1</td>\n",
       "      <td>0.89621</td>\n",
       "      <td>Local</td>\n",
       "    </tr>\n",
       "    <tr>\n",
       "      <th>4</th>\n",
       "      <td>1</td>\n",
       "      <td>5</td>\n",
       "      <td>1</td>\n",
       "      <td>2</td>\n",
       "      <td>1</td>\n",
       "      <td>0.66389</td>\n",
       "      <td>Local</td>\n",
       "    </tr>\n",
       "  </tbody>\n",
       "</table>\n",
       "</div>"
      ],
      "text/plain": [
       "   Block  Trial  Response_Level  Condition  Correct  Reaction_Time  \\\n",
       "0      1      1               1          0        1        0.48137   \n",
       "1      1      2               1          2        0        0.46472   \n",
       "2      1      3               1          2        0        0.49802   \n",
       "3      1      4               1          2        1        0.89621   \n",
       "4      1      5               1          2        1        0.66389   \n",
       "\n",
       "  Response_Level_Catg  \n",
       "0               Local  \n",
       "1               Local  \n",
       "2               Local  \n",
       "3               Local  \n",
       "4               Local  "
      ]
     },
     "execution_count": 46,
     "metadata": {},
     "output_type": "execute_result"
    }
   ],
   "source": [
    "# Recode response level\n",
    "session1_df['Response_Level_Catg'] = session1_df['Response_Level'].map({1: 'Local', 2: 'Global'})\n",
    "\n",
    "session1_df.head()"
   ]
  },
  {
   "cell_type": "code",
   "execution_count": 47,
   "metadata": {},
   "outputs": [
    {
     "data": {
      "text/html": [
       "<div>\n",
       "<style scoped>\n",
       "    .dataframe tbody tr th:only-of-type {\n",
       "        vertical-align: middle;\n",
       "    }\n",
       "\n",
       "    .dataframe tbody tr th {\n",
       "        vertical-align: top;\n",
       "    }\n",
       "\n",
       "    .dataframe thead th {\n",
       "        text-align: right;\n",
       "    }\n",
       "</style>\n",
       "<table border=\"1\" class=\"dataframe\">\n",
       "  <thead>\n",
       "    <tr style=\"text-align: right;\">\n",
       "      <th></th>\n",
       "      <th>Block</th>\n",
       "      <th>Trial</th>\n",
       "      <th>Response_Level</th>\n",
       "      <th>Condition</th>\n",
       "      <th>Correct</th>\n",
       "      <th>Reaction_Time</th>\n",
       "      <th>Response_Level_Catg</th>\n",
       "      <th>Condition_Catg</th>\n",
       "    </tr>\n",
       "  </thead>\n",
       "  <tbody>\n",
       "    <tr>\n",
       "      <th>0</th>\n",
       "      <td>1</td>\n",
       "      <td>1</td>\n",
       "      <td>1</td>\n",
       "      <td>0</td>\n",
       "      <td>1</td>\n",
       "      <td>0.48137</td>\n",
       "      <td>Local</td>\n",
       "      <td>Congruent</td>\n",
       "    </tr>\n",
       "    <tr>\n",
       "      <th>1</th>\n",
       "      <td>1</td>\n",
       "      <td>2</td>\n",
       "      <td>1</td>\n",
       "      <td>2</td>\n",
       "      <td>0</td>\n",
       "      <td>0.46472</td>\n",
       "      <td>Local</td>\n",
       "      <td>Incongruent</td>\n",
       "    </tr>\n",
       "    <tr>\n",
       "      <th>2</th>\n",
       "      <td>1</td>\n",
       "      <td>3</td>\n",
       "      <td>1</td>\n",
       "      <td>2</td>\n",
       "      <td>0</td>\n",
       "      <td>0.49802</td>\n",
       "      <td>Local</td>\n",
       "      <td>Incongruent</td>\n",
       "    </tr>\n",
       "    <tr>\n",
       "      <th>3</th>\n",
       "      <td>1</td>\n",
       "      <td>4</td>\n",
       "      <td>1</td>\n",
       "      <td>2</td>\n",
       "      <td>1</td>\n",
       "      <td>0.89621</td>\n",
       "      <td>Local</td>\n",
       "      <td>Incongruent</td>\n",
       "    </tr>\n",
       "    <tr>\n",
       "      <th>4</th>\n",
       "      <td>1</td>\n",
       "      <td>5</td>\n",
       "      <td>1</td>\n",
       "      <td>2</td>\n",
       "      <td>1</td>\n",
       "      <td>0.66389</td>\n",
       "      <td>Local</td>\n",
       "      <td>Incongruent</td>\n",
       "    </tr>\n",
       "  </tbody>\n",
       "</table>\n",
       "</div>"
      ],
      "text/plain": [
       "   Block  Trial  Response_Level  Condition  Correct  Reaction_Time  \\\n",
       "0      1      1               1          0        1        0.48137   \n",
       "1      1      2               1          2        0        0.46472   \n",
       "2      1      3               1          2        0        0.49802   \n",
       "3      1      4               1          2        1        0.89621   \n",
       "4      1      5               1          2        1        0.66389   \n",
       "\n",
       "  Response_Level_Catg Condition_Catg  \n",
       "0               Local      Congruent  \n",
       "1               Local    Incongruent  \n",
       "2               Local    Incongruent  \n",
       "3               Local    Incongruent  \n",
       "4               Local    Incongruent  "
      ]
     },
     "execution_count": 47,
     "metadata": {},
     "output_type": "execute_result"
    }
   ],
   "source": [
    "# Recode condition\n",
    "session1_df['Condition_Catg'] = session1_df['Condition'].map({0: 'Congruent', 2: 'Incongruent'})\n",
    "session1_df.head()"
   ]
  },
  {
   "cell_type": "markdown",
   "metadata": {},
   "source": [
    "### Outliers - remove reaction times > 3 standard deviations"
   ]
  },
  {
   "cell_type": "code",
   "execution_count": 48,
   "metadata": {},
   "outputs": [
    {
     "name": "stdout",
     "output_type": "stream",
     "text": [
      "Original dataset size: 640\n",
      "Cleaned dataset size: 629\n"
     ]
    }
   ],
   "source": [
    "# Handle outliers (e.g., remove reaction times > 3 standard deviations)\n",
    "mean_rt = session1_df['Reaction_Time'].mean()\n",
    "std_rt = session1_df['Reaction_Time'].std()\n",
    "session1_df_clean = session1_df[(session1_df['Reaction_Time'] <= mean_rt + 3*std_rt) & \n",
    "                                (session1_df['Reaction_Time'] >= mean_rt - 3*std_rt)]\n",
    "\n",
    "print(\"Original dataset size:\", len(session1_df))\n",
    "print(\"Cleaned dataset size:\", len(session1_df_clean))"
   ]
  },
  {
   "cell_type": "code",
   "execution_count": null,
   "id": "edd1a43a",
   "metadata": {},
   "outputs": [],
   "source": [
    "\n",
    "import matplotlib.pyplot as plt\n",
    "\n",
    "# Plot histograms for original and cleaned response times\n",
    "plt.figure(figsize=(12, 6))\n",
    "\n",
    "# Original response times\n",
    "plt.subplot(1, 2, 1)\n",
    "plt.hist(session1_df['Reaction_Time'], bins=30, alpha=0.7, label='Original')\n",
    "plt.title('Original Reaction Times')\n",
    "plt.xlabel('Reaction Time (seconds)')\n",
    "plt.ylabel('Frequency')\n",
    "\n",
    "# Cleaned response times\n",
    "plt.subplot(1, 2, 2)\n",
    "plt.hist(session1_df_clean['Reaction_Time'], bins=30, alpha=0.7, label='Cleaned', color='orange')\n",
    "plt.title('Cleaned Reaction Times')\n",
    "plt.xlabel('Reaction Time (seconds)')\n",
    "plt.ylabel('Frequency')\n",
    "\n",
    "plt.tight_layout()\n",
    "plt.show()\n"
   ]
  },
  {
   "cell_type": "markdown",
   "metadata": {},
   "source": [
    "## 4. Statistical Analysis"
   ]
  },
  {
   "cell_type": "markdown",
   "metadata": {},
   "source": [
    "### Calculate mean reaction time and accuracy for each condition"
   ]
  },
  {
   "cell_type": "code",
   "execution_count": 49,
   "metadata": {},
   "outputs": [
    {
     "name": "stdout",
     "output_type": "stream",
     "text": [
      "Mean Reaction Time by Condition:\n",
      "Condition_Catg\n",
      "Congruent      0.471069\n",
      "Incongruent    0.493146\n",
      "Name: Reaction_Time, dtype: float64\n",
      "\n",
      "Accuracy by Condition:\n",
      "Condition_Catg\n",
      "Congruent      0.911392\n",
      "Incongruent    0.753994\n",
      "Name: Correct, dtype: float64\n"
     ]
    }
   ],
   "source": [
    "# RT\n",
    "mean_rt_by_condition = session1_df_clean.groupby('Condition_Catg')['Reaction_Time'].mean()\n",
    "print(\"Mean Reaction Time by Condition:\")\n",
    "print(mean_rt_by_condition)\n",
    "\n",
    "# Accuracy\n",
    "accuracy_by_condition = session1_df_clean.groupby('Condition_Catg')['Correct'].mean()\n",
    "print(\"\\nAccuracy by Condition:\")\n",
    "print(accuracy_by_condition)"
   ]
  },
  {
   "cell_type": "markdown",
   "metadata": {},
   "source": [
    "### Calculate mean RT and accuracy for each response level"
   ]
  },
  {
   "cell_type": "code",
   "execution_count": 52,
   "metadata": {},
   "outputs": [
    {
     "name": "stdout",
     "output_type": "stream",
     "text": [
      "Mean Reaction Time by Response level:\n",
      "Response_Level_Catg\n",
      "Global    0.425916\n",
      "Local     0.539823\n",
      "Name: Reaction_Time, dtype: float64\n",
      "\n",
      "Accuracy by Response level:\n",
      "Response_Level_Catg\n",
      "Global    0.887147\n",
      "Local     0.777419\n",
      "Name: Correct, dtype: float64\n"
     ]
    }
   ],
   "source": [
    "# RT\n",
    "mean_rt_by_response = session1_df_clean.groupby('Response_Level_Catg')['Reaction_Time'].mean()\n",
    "print(\"Mean Reaction Time by Response level:\")\n",
    "print(mean_rt_by_response)\n",
    "\n",
    "# Accuracy\n",
    "accuracy_by_response = session1_df_clean.groupby('Response_Level_Catg')['Correct'].mean()\n",
    "print(\"\\nAccuracy by Response level:\")\n",
    "print(accuracy_by_response)"
   ]
  },
  {
   "cell_type": "code",
   "execution_count": 31,
   "metadata": {},
   "outputs": [
    {
     "name": "stdout",
     "output_type": "stream",
     "text": [
      "Mean Reaction Time by Condition:\n",
      "Condition_Catg\n",
      "Congruent      0.471069\n",
      "Incongruent    0.493146\n",
      "Name: Reaction_Time, dtype: float64\n",
      "\n",
      "Accuracy by Condition:\n",
      "Condition_Catg\n",
      "Congruent      0.911392\n",
      "Incongruent    0.753994\n",
      "Name: Correct, dtype: float64\n"
     ]
    }
   ],
   "source": [
    "# Calculate mean reaction time for each condition\n",
    "mean_rt_by_condition = session1_df_clean.groupby('Condition_Catg')['Reaction_Time'].mean()\n",
    "print(\"Mean Reaction Time by Condition:\")\n",
    "print(mean_rt_by_condition)\n",
    "\n",
    "# Calculate accuracy for each condition\n",
    "accuracy_by_condition = session1_df_clean.groupby('Condition_Catg')['Correct'].mean()\n",
    "print(\"\\nAccuracy by Condition:\")\n",
    "print(accuracy_by_condition)"
   ]
  },
  {
   "cell_type": "code",
   "execution_count": 29,
   "metadata": {},
   "outputs": [
    {
     "name": "stdout",
     "output_type": "stream",
     "text": [
      "nAccuracy by Condition:\n"
     ]
    },
    {
     "data": {
      "text/plain": [
       "Condition_Catg\n",
       "Congruent      0.911392\n",
       "Incongruent    0.753994\n",
       "Name: Correct, dtype: float64"
      ]
     },
     "execution_count": 29,
     "metadata": {},
     "output_type": "execute_result"
    }
   ],
   "source": []
  },
  {
   "cell_type": "markdown",
   "metadata": {},
   "source": [
    "### Group by Response level X Condition"
   ]
  },
  {
   "cell_type": "code",
   "execution_count": 54,
   "metadata": {},
   "outputs": [
    {
     "name": "stdout",
     "output_type": "stream",
     "text": [
      "Mean Reaction Time by Condition:\n"
     ]
    },
    {
     "data": {
      "text/plain": [
       "Response_Level_Catg  Condition_Catg\n",
       "Global               Congruent         0.423337\n",
       "                     Incongruent       0.428480\n",
       "Local                Congruent         0.519409\n",
       "                     Incongruent       0.560771\n",
       "Name: Reaction_Time, dtype: float64"
      ]
     },
     "execution_count": 54,
     "metadata": {},
     "output_type": "execute_result"
    }
   ],
   "source": [
    "mean_rt_by_responseXcondition = session1_df_clean.groupby(['Response_Level_Catg', 'Condition_Catg'])['Reaction_Time'].mean()\n",
    "print(\"Mean Reaction Time by Condition:\")\n",
    "mean_rt_by_responseXcondition"
   ]
  },
  {
   "cell_type": "markdown",
   "metadata": {},
   "source": [
    "#### Have both RT and accuracy in the resulting aggregated dataframe"
   ]
  },
  {
   "cell_type": "code",
   "execution_count": 56,
   "metadata": {},
   "outputs": [
    {
     "name": "stdout",
     "output_type": "stream",
     "text": [
      "Mean Reaction Time by Condition:\n"
     ]
    },
    {
     "data": {
      "text/html": [
       "<div>\n",
       "<style scoped>\n",
       "    .dataframe tbody tr th:only-of-type {\n",
       "        vertical-align: middle;\n",
       "    }\n",
       "\n",
       "    .dataframe tbody tr th {\n",
       "        vertical-align: top;\n",
       "    }\n",
       "\n",
       "    .dataframe thead th {\n",
       "        text-align: right;\n",
       "    }\n",
       "</style>\n",
       "<table border=\"1\" class=\"dataframe\">\n",
       "  <thead>\n",
       "    <tr style=\"text-align: right;\">\n",
       "      <th></th>\n",
       "      <th></th>\n",
       "      <th>Reaction_Time</th>\n",
       "      <th>Correct</th>\n",
       "    </tr>\n",
       "    <tr>\n",
       "      <th>Response_Level_Catg</th>\n",
       "      <th>Condition_Catg</th>\n",
       "      <th></th>\n",
       "      <th></th>\n",
       "    </tr>\n",
       "  </thead>\n",
       "  <tbody>\n",
       "    <tr>\n",
       "      <th rowspan=\"2\" valign=\"top\">Global</th>\n",
       "      <th>Congruent</th>\n",
       "      <td>0.423337</td>\n",
       "      <td>0.880503</td>\n",
       "    </tr>\n",
       "    <tr>\n",
       "      <th>Incongruent</th>\n",
       "      <td>0.428480</td>\n",
       "      <td>0.893750</td>\n",
       "    </tr>\n",
       "    <tr>\n",
       "      <th rowspan=\"2\" valign=\"top\">Local</th>\n",
       "      <th>Congruent</th>\n",
       "      <td>0.519409</td>\n",
       "      <td>0.942675</td>\n",
       "    </tr>\n",
       "    <tr>\n",
       "      <th>Incongruent</th>\n",
       "      <td>0.560771</td>\n",
       "      <td>0.607843</td>\n",
       "    </tr>\n",
       "  </tbody>\n",
       "</table>\n",
       "</div>"
      ],
      "text/plain": [
       "                                    Reaction_Time   Correct\n",
       "Response_Level_Catg Condition_Catg                         \n",
       "Global              Congruent            0.423337  0.880503\n",
       "                    Incongruent          0.428480  0.893750\n",
       "Local               Congruent            0.519409  0.942675\n",
       "                    Incongruent          0.560771  0.607843"
      ]
     },
     "execution_count": 56,
     "metadata": {},
     "output_type": "execute_result"
    }
   ],
   "source": [
    "mean_rt_by_responseXcondition = session1_df_clean.groupby(['Response_Level_Catg', 'Condition_Catg'])[['Reaction_Time','Correct']].mean()\n",
    "print(\"Mean Reaction Time by Condition:\")\n",
    "mean_rt_by_responseXcondition"
   ]
  },
  {
   "cell_type": "code",
   "execution_count": 57,
   "metadata": {},
   "outputs": [],
   "source": [
    "# Correlation between reaction time and accuracy\n",
    "..."
   ]
  },
  {
   "cell_type": "markdown",
   "metadata": {},
   "source": [
    "## 5. Grouping and Aggregation"
   ]
  },
  {
   "cell_type": "code",
   "execution_count": null,
   "metadata": {},
   "outputs": [],
   "source": [
    "# Group by Response level X Condition and calculate mean reaction time and accuracy\n",
    "block_summary = session1_df_clean.groupby(['Response_Level_Catg', 'Condition_Catg']).agg({\n",
    "    'Reaction_Time': 'mean',\n",
    "    'Correct': 'mean'\n",
    "}).reset_index()\n",
    "\n",
    "..."
   ]
  },
  {
   "cell_type": "markdown",
   "metadata": {},
   "source": [
    "## 6. Merging Datasets"
   ]
  },
  {
   "cell_type": "code",
   "execution_count": null,
   "metadata": {},
   "outputs": [],
   "source": [
    "..."
   ]
  },
  {
   "cell_type": "markdown",
   "metadata": {},
   "source": [
    "## 7. Exporting Results"
   ]
  },
  {
   "cell_type": "code",
   "execution_count": null,
   "metadata": {},
   "outputs": [],
   "source": [
    "..."
   ]
  }
 ],
 "metadata": {
  "kernelspec": {
   "display_name": "Python 3 (ipykernel)",
   "language": "python",
   "name": "python3"
  },
  "language_info": {
   "codemirror_mode": {
    "name": "ipython",
    "version": 3
   },
   "file_extension": ".py",
   "mimetype": "text/x-python",
   "name": "python",
   "nbconvert_exporter": "python",
   "pygments_lexer": "ipython3",
   "version": "3.9.7"
  }
 },
 "nbformat": 4,
 "nbformat_minor": 4
}
