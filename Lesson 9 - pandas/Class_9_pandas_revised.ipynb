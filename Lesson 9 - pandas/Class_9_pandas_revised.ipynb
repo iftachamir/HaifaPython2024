{
 "cells": [
  {
   "cell_type": "markdown",
   "metadata": {},
   "source": [
    "# pandas"
   ]
  },
  {
   "cell_type": "code",
   "execution_count": 3,
   "metadata": {},
   "outputs": [],
   "source": [
    "import pandas as pd\n",
    "import matplotlib.pyplot as plt\n",
    "import numpy as np"
   ]
  },
  {
   "cell_type": "markdown",
   "metadata": {},
   "source": [
    "## 1. Data Loading and Preprocessing"
   ]
  },
  {
   "cell_type": "markdown",
   "metadata": {},
   "source": [
    "### Load CSV files"
   ]
  },
  {
   "cell_type": "code",
   "execution_count": 4,
   "metadata": {},
   "outputs": [],
   "source": [
    "column_names = ['Block', 'Trial', 'Response_Level', 'Condition', 'Correct', 'Reaction_Time']  # Define column names\n",
    "session1_df = pd.read_csv('data/Study3_P1NAVON1.csv', header=None, names=column_names)"
   ]
  },
  {
   "cell_type": "markdown",
   "metadata": {},
   "source": [
    "### Display the first few rows of each dataset"
   ]
  },
  {
   "cell_type": "code",
   "execution_count": 5,
   "metadata": {},
   "outputs": [
    {
     "name": "stdout",
     "output_type": "stream",
     "text": [
      "Session 1 data:\n"
     ]
    },
    {
     "data": {
      "text/html": [
       "<div>\n",
       "<style scoped>\n",
       "    .dataframe tbody tr th:only-of-type {\n",
       "        vertical-align: middle;\n",
       "    }\n",
       "\n",
       "    .dataframe tbody tr th {\n",
       "        vertical-align: top;\n",
       "    }\n",
       "\n",
       "    .dataframe thead th {\n",
       "        text-align: right;\n",
       "    }\n",
       "</style>\n",
       "<table border=\"1\" class=\"dataframe\">\n",
       "  <thead>\n",
       "    <tr style=\"text-align: right;\">\n",
       "      <th></th>\n",
       "      <th>Block</th>\n",
       "      <th>Trial</th>\n",
       "      <th>Response_Level</th>\n",
       "      <th>Condition</th>\n",
       "      <th>Correct</th>\n",
       "      <th>Reaction_Time</th>\n",
       "    </tr>\n",
       "  </thead>\n",
       "  <tbody>\n",
       "    <tr>\n",
       "      <th>0</th>\n",
       "      <td>1</td>\n",
       "      <td>1</td>\n",
       "      <td>1</td>\n",
       "      <td>0</td>\n",
       "      <td>1</td>\n",
       "      <td>0.48137</td>\n",
       "    </tr>\n",
       "    <tr>\n",
       "      <th>1</th>\n",
       "      <td>1</td>\n",
       "      <td>2</td>\n",
       "      <td>1</td>\n",
       "      <td>2</td>\n",
       "      <td>0</td>\n",
       "      <td>0.46472</td>\n",
       "    </tr>\n",
       "    <tr>\n",
       "      <th>2</th>\n",
       "      <td>1</td>\n",
       "      <td>3</td>\n",
       "      <td>1</td>\n",
       "      <td>2</td>\n",
       "      <td>0</td>\n",
       "      <td>0.49802</td>\n",
       "    </tr>\n",
       "    <tr>\n",
       "      <th>3</th>\n",
       "      <td>1</td>\n",
       "      <td>4</td>\n",
       "      <td>1</td>\n",
       "      <td>2</td>\n",
       "      <td>1</td>\n",
       "      <td>0.89621</td>\n",
       "    </tr>\n",
       "    <tr>\n",
       "      <th>4</th>\n",
       "      <td>1</td>\n",
       "      <td>5</td>\n",
       "      <td>1</td>\n",
       "      <td>2</td>\n",
       "      <td>1</td>\n",
       "      <td>0.66389</td>\n",
       "    </tr>\n",
       "    <tr>\n",
       "      <th>...</th>\n",
       "      <td>...</td>\n",
       "      <td>...</td>\n",
       "      <td>...</td>\n",
       "      <td>...</td>\n",
       "      <td>...</td>\n",
       "      <td>...</td>\n",
       "    </tr>\n",
       "    <tr>\n",
       "      <th>635</th>\n",
       "      <td>4</td>\n",
       "      <td>156</td>\n",
       "      <td>2</td>\n",
       "      <td>2</td>\n",
       "      <td>1</td>\n",
       "      <td>0.43135</td>\n",
       "    </tr>\n",
       "    <tr>\n",
       "      <th>636</th>\n",
       "      <td>4</td>\n",
       "      <td>157</td>\n",
       "      <td>2</td>\n",
       "      <td>0</td>\n",
       "      <td>1</td>\n",
       "      <td>0.34855</td>\n",
       "    </tr>\n",
       "    <tr>\n",
       "      <th>637</th>\n",
       "      <td>4</td>\n",
       "      <td>158</td>\n",
       "      <td>2</td>\n",
       "      <td>0</td>\n",
       "      <td>1</td>\n",
       "      <td>0.38181</td>\n",
       "    </tr>\n",
       "    <tr>\n",
       "      <th>638</th>\n",
       "      <td>4</td>\n",
       "      <td>159</td>\n",
       "      <td>2</td>\n",
       "      <td>0</td>\n",
       "      <td>0</td>\n",
       "      <td>0.38180</td>\n",
       "    </tr>\n",
       "    <tr>\n",
       "      <th>639</th>\n",
       "      <td>4</td>\n",
       "      <td>160</td>\n",
       "      <td>2</td>\n",
       "      <td>2</td>\n",
       "      <td>1</td>\n",
       "      <td>0.43158</td>\n",
       "    </tr>\n",
       "  </tbody>\n",
       "</table>\n",
       "<p>640 rows × 6 columns</p>\n",
       "</div>"
      ],
      "text/plain": [
       "     Block  Trial  Response_Level  Condition  Correct  Reaction_Time\n",
       "0        1      1               1          0        1        0.48137\n",
       "1        1      2               1          2        0        0.46472\n",
       "2        1      3               1          2        0        0.49802\n",
       "3        1      4               1          2        1        0.89621\n",
       "4        1      5               1          2        1        0.66389\n",
       "..     ...    ...             ...        ...      ...            ...\n",
       "635      4    156               2          2        1        0.43135\n",
       "636      4    157               2          0        1        0.34855\n",
       "637      4    158               2          0        1        0.38181\n",
       "638      4    159               2          0        0        0.38180\n",
       "639      4    160               2          2        1        0.43158\n",
       "\n",
       "[640 rows x 6 columns]"
      ]
     },
     "execution_count": 5,
     "metadata": {},
     "output_type": "execute_result"
    }
   ],
   "source": [
    "print(\"Session 1 data:\")\n",
    "session1_df"
   ]
  },
  {
   "cell_type": "code",
   "execution_count": 6,
   "metadata": {},
   "outputs": [
    {
     "data": {
      "text/plain": [
       "pandas.core.frame.DataFrame"
      ]
     },
     "execution_count": 6,
     "metadata": {},
     "output_type": "execute_result"
    }
   ],
   "source": [
    "type(session1_df)"
   ]
  },
  {
   "cell_type": "markdown",
   "metadata": {},
   "source": [
    "### Check data info"
   ]
  },
  {
   "cell_type": "code",
   "execution_count": 7,
   "metadata": {},
   "outputs": [
    {
     "name": "stdout",
     "output_type": "stream",
     "text": [
      "<class 'pandas.core.frame.DataFrame'>\n",
      "RangeIndex: 640 entries, 0 to 639\n",
      "Data columns (total 6 columns):\n",
      " #   Column          Non-Null Count  Dtype  \n",
      "---  ------          --------------  -----  \n",
      " 0   Block           640 non-null    int64  \n",
      " 1   Trial           640 non-null    int64  \n",
      " 2   Response_Level  640 non-null    int64  \n",
      " 3   Condition       640 non-null    int64  \n",
      " 4   Correct         640 non-null    int64  \n",
      " 5   Reaction_Time   640 non-null    float64\n",
      "dtypes: float64(1), int64(5)\n",
      "memory usage: 30.1 KB\n"
     ]
    }
   ],
   "source": [
    "session1_df.info()"
   ]
  },
  {
   "cell_type": "markdown",
   "metadata": {},
   "source": [
    "## 2. Data Exploration and Visualization"
   ]
  },
  {
   "cell_type": "markdown",
   "metadata": {},
   "source": [
    "### Summary statistics"
   ]
  },
  {
   "cell_type": "code",
   "execution_count": 8,
   "metadata": {},
   "outputs": [
    {
     "data": {
      "text/html": [
       "<div>\n",
       "<style scoped>\n",
       "    .dataframe tbody tr th:only-of-type {\n",
       "        vertical-align: middle;\n",
       "    }\n",
       "\n",
       "    .dataframe tbody tr th {\n",
       "        vertical-align: top;\n",
       "    }\n",
       "\n",
       "    .dataframe thead th {\n",
       "        text-align: right;\n",
       "    }\n",
       "</style>\n",
       "<table border=\"1\" class=\"dataframe\">\n",
       "  <thead>\n",
       "    <tr style=\"text-align: right;\">\n",
       "      <th></th>\n",
       "      <th>Block</th>\n",
       "      <th>Trial</th>\n",
       "      <th>Response_Level</th>\n",
       "      <th>Condition</th>\n",
       "      <th>Correct</th>\n",
       "      <th>Reaction_Time</th>\n",
       "    </tr>\n",
       "  </thead>\n",
       "  <tbody>\n",
       "    <tr>\n",
       "      <th>count</th>\n",
       "      <td>640.000000</td>\n",
       "      <td>640.000000</td>\n",
       "      <td>640.000000</td>\n",
       "      <td>640.000000</td>\n",
       "      <td>640.000000</td>\n",
       "      <td>640.000000</td>\n",
       "    </tr>\n",
       "    <tr>\n",
       "      <th>mean</th>\n",
       "      <td>2.500000</td>\n",
       "      <td>80.500000</td>\n",
       "      <td>1.500000</td>\n",
       "      <td>1.000000</td>\n",
       "      <td>0.834375</td>\n",
       "      <td>0.489381</td>\n",
       "    </tr>\n",
       "    <tr>\n",
       "      <th>std</th>\n",
       "      <td>1.118908</td>\n",
       "      <td>46.223245</td>\n",
       "      <td>0.500391</td>\n",
       "      <td>1.000782</td>\n",
       "      <td>0.372034</td>\n",
       "      <td>0.121092</td>\n",
       "    </tr>\n",
       "    <tr>\n",
       "      <th>min</th>\n",
       "      <td>1.000000</td>\n",
       "      <td>1.000000</td>\n",
       "      <td>1.000000</td>\n",
       "      <td>0.000000</td>\n",
       "      <td>0.000000</td>\n",
       "      <td>0.282230</td>\n",
       "    </tr>\n",
       "    <tr>\n",
       "      <th>25%</th>\n",
       "      <td>1.750000</td>\n",
       "      <td>40.750000</td>\n",
       "      <td>1.000000</td>\n",
       "      <td>0.000000</td>\n",
       "      <td>1.000000</td>\n",
       "      <td>0.398438</td>\n",
       "    </tr>\n",
       "    <tr>\n",
       "      <th>50%</th>\n",
       "      <td>2.500000</td>\n",
       "      <td>80.500000</td>\n",
       "      <td>1.500000</td>\n",
       "      <td>1.000000</td>\n",
       "      <td>1.000000</td>\n",
       "      <td>0.464780</td>\n",
       "    </tr>\n",
       "    <tr>\n",
       "      <th>75%</th>\n",
       "      <td>3.250000</td>\n",
       "      <td>120.250000</td>\n",
       "      <td>2.000000</td>\n",
       "      <td>2.000000</td>\n",
       "      <td>1.000000</td>\n",
       "      <td>0.564265</td>\n",
       "    </tr>\n",
       "    <tr>\n",
       "      <th>max</th>\n",
       "      <td>4.000000</td>\n",
       "      <td>160.000000</td>\n",
       "      <td>2.000000</td>\n",
       "      <td>2.000000</td>\n",
       "      <td>1.000000</td>\n",
       "      <td>1.012400</td>\n",
       "    </tr>\n",
       "  </tbody>\n",
       "</table>\n",
       "</div>"
      ],
      "text/plain": [
       "            Block       Trial  Response_Level   Condition     Correct  \\\n",
       "count  640.000000  640.000000      640.000000  640.000000  640.000000   \n",
       "mean     2.500000   80.500000        1.500000    1.000000    0.834375   \n",
       "std      1.118908   46.223245        0.500391    1.000782    0.372034   \n",
       "min      1.000000    1.000000        1.000000    0.000000    0.000000   \n",
       "25%      1.750000   40.750000        1.000000    0.000000    1.000000   \n",
       "50%      2.500000   80.500000        1.500000    1.000000    1.000000   \n",
       "75%      3.250000  120.250000        2.000000    2.000000    1.000000   \n",
       "max      4.000000  160.000000        2.000000    2.000000    1.000000   \n",
       "\n",
       "       Reaction_Time  \n",
       "count     640.000000  \n",
       "mean        0.489381  \n",
       "std         0.121092  \n",
       "min         0.282230  \n",
       "25%         0.398438  \n",
       "50%         0.464780  \n",
       "75%         0.564265  \n",
       "max         1.012400  "
      ]
     },
     "execution_count": 8,
     "metadata": {},
     "output_type": "execute_result"
    }
   ],
   "source": [
    "session1_df.describe()"
   ]
  },
  {
   "cell_type": "markdown",
   "metadata": {},
   "source": [
    "### Visualize reaction time distribution"
   ]
  },
  {
   "cell_type": "code",
   "execution_count": 9,
   "metadata": {},
   "outputs": [
    {
     "data": {
      "image/png": "[encoded data removed]",
      "text/plain": [
       "<Figure size 900x300 with 1 Axes>"
      ]
     },
     "metadata": {},
     "output_type": "display_data"
    }
   ],
   "source": [
    "plt.figure(figsize=(9,3))\n",
    "plt.hist(session1_df['Reaction_Time'], bins=30, density=True)\n",
    "plt.title('Distribution of Reaction Times (Session 1)')\n",
    "plt.xlabel('Reaction Time (seconds)')\n",
    "plt.ylabel('Density')\n",
    "plt.grid(axis='y', alpha=0.5)\n",
    "plt.show()"
   ]
  },
  {
   "cell_type": "markdown",
   "metadata": {},
   "source": [
    "## 3. Data Manipulation and Transformation"
   ]
  },
  {
   "cell_type": "markdown",
   "metadata": {},
   "source": [
    "### Recode numbers into new categorical columns"
   ]
  },
  {
   "cell_type": "code",
   "execution_count": 10,
   "metadata": {},
   "outputs": [
    {
     "data": {
      "text/html": [
       "<div>\n",
       "<style scoped>\n",
       "    .dataframe tbody tr th:only-of-type {\n",
       "        vertical-align: middle;\n",
       "    }\n",
       "\n",
       "    .dataframe tbody tr th {\n",
       "        vertical-align: top;\n",
       "    }\n",
       "\n",
       "    .dataframe thead th {\n",
       "        text-align: right;\n",
       "    }\n",
       "</style>\n",
       "<table border=\"1\" class=\"dataframe\">\n",
       "  <thead>\n",
       "    <tr style=\"text-align: right;\">\n",
       "      <th></th>\n",
       "      <th>Block</th>\n",
       "      <th>Trial</th>\n",
       "      <th>Response_Level</th>\n",
       "      <th>Condition</th>\n",
       "      <th>Correct</th>\n",
       "      <th>Reaction_Time</th>\n",
       "    </tr>\n",
       "  </thead>\n",
       "  <tbody>\n",
       "    <tr>\n",
       "      <th>0</th>\n",
       "      <td>1</td>\n",
       "      <td>1</td>\n",
       "      <td>1</td>\n",
       "      <td>0</td>\n",
       "      <td>1</td>\n",
       "      <td>0.48137</td>\n",
       "    </tr>\n",
       "    <tr>\n",
       "      <th>1</th>\n",
       "      <td>1</td>\n",
       "      <td>2</td>\n",
       "      <td>1</td>\n",
       "      <td>2</td>\n",
       "      <td>0</td>\n",
       "      <td>0.46472</td>\n",
       "    </tr>\n",
       "    <tr>\n",
       "      <th>2</th>\n",
       "      <td>1</td>\n",
       "      <td>3</td>\n",
       "      <td>1</td>\n",
       "      <td>2</td>\n",
       "      <td>0</td>\n",
       "      <td>0.49802</td>\n",
       "    </tr>\n",
       "    <tr>\n",
       "      <th>3</th>\n",
       "      <td>1</td>\n",
       "      <td>4</td>\n",
       "      <td>1</td>\n",
       "      <td>2</td>\n",
       "      <td>1</td>\n",
       "      <td>0.89621</td>\n",
       "    </tr>\n",
       "    <tr>\n",
       "      <th>4</th>\n",
       "      <td>1</td>\n",
       "      <td>5</td>\n",
       "      <td>1</td>\n",
       "      <td>2</td>\n",
       "      <td>1</td>\n",
       "      <td>0.66389</td>\n",
       "    </tr>\n",
       "  </tbody>\n",
       "</table>\n",
       "</div>"
      ],
      "text/plain": [
       "   Block  Trial  Response_Level  Condition  Correct  Reaction_Time\n",
       "0      1      1               1          0        1        0.48137\n",
       "1      1      2               1          2        0        0.46472\n",
       "2      1      3               1          2        0        0.49802\n",
       "3      1      4               1          2        1        0.89621\n",
       "4      1      5               1          2        1        0.66389"
      ]
     },
     "execution_count": 10,
     "metadata": {},
     "output_type": "execute_result"
    }
   ],
   "source": [
    "session1_df.head()"
   ]
  },
  {
   "cell_type": "code",
   "execution_count": 11,
   "metadata": {},
   "outputs": [
    {
     "data": {
      "text/html": [
       "<div>\n",
       "<style scoped>\n",
       "    .dataframe tbody tr th:only-of-type {\n",
       "        vertical-align: middle;\n",
       "    }\n",
       "\n",
       "    .dataframe tbody tr th {\n",
       "        vertical-align: top;\n",
       "    }\n",
       "\n",
       "    .dataframe thead th {\n",
       "        text-align: right;\n",
       "    }\n",
       "</style>\n",
       "<table border=\"1\" class=\"dataframe\">\n",
       "  <thead>\n",
       "    <tr style=\"text-align: right;\">\n",
       "      <th></th>\n",
       "      <th>Block</th>\n",
       "      <th>Trial</th>\n",
       "      <th>Response_Level</th>\n",
       "      <th>Condition</th>\n",
       "      <th>Correct</th>\n",
       "      <th>Reaction_Time</th>\n",
       "      <th>Response_Level_Catg</th>\n",
       "    </tr>\n",
       "  </thead>\n",
       "  <tbody>\n",
       "    <tr>\n",
       "      <th>0</th>\n",
       "      <td>1</td>\n",
       "      <td>1</td>\n",
       "      <td>1</td>\n",
       "      <td>0</td>\n",
       "      <td>1</td>\n",
       "      <td>0.48137</td>\n",
       "      <td>Local</td>\n",
       "    </tr>\n",
       "    <tr>\n",
       "      <th>1</th>\n",
       "      <td>1</td>\n",
       "      <td>2</td>\n",
       "      <td>1</td>\n",
       "      <td>2</td>\n",
       "      <td>0</td>\n",
       "      <td>0.46472</td>\n",
       "      <td>Local</td>\n",
       "    </tr>\n",
       "    <tr>\n",
       "      <th>2</th>\n",
       "      <td>1</td>\n",
       "      <td>3</td>\n",
       "      <td>1</td>\n",
       "      <td>2</td>\n",
       "      <td>0</td>\n",
       "      <td>0.49802</td>\n",
       "      <td>Local</td>\n",
       "    </tr>\n",
       "    <tr>\n",
       "      <th>3</th>\n",
       "      <td>1</td>\n",
       "      <td>4</td>\n",
       "      <td>1</td>\n",
       "      <td>2</td>\n",
       "      <td>1</td>\n",
       "      <td>0.89621</td>\n",
       "      <td>Local</td>\n",
       "    </tr>\n",
       "    <tr>\n",
       "      <th>4</th>\n",
       "      <td>1</td>\n",
       "      <td>5</td>\n",
       "      <td>1</td>\n",
       "      <td>2</td>\n",
       "      <td>1</td>\n",
       "      <td>0.66389</td>\n",
       "      <td>Local</td>\n",
       "    </tr>\n",
       "  </tbody>\n",
       "</table>\n",
       "</div>"
      ],
      "text/plain": [
       "   Block  Trial  Response_Level  Condition  Correct  Reaction_Time  \\\n",
       "0      1      1               1          0        1        0.48137   \n",
       "1      1      2               1          2        0        0.46472   \n",
       "2      1      3               1          2        0        0.49802   \n",
       "3      1      4               1          2        1        0.89621   \n",
       "4      1      5               1          2        1        0.66389   \n",
       "\n",
       "  Response_Level_Catg  \n",
       "0               Local  \n",
       "1               Local  \n",
       "2               Local  \n",
       "3               Local  \n",
       "4               Local  "
      ]
     },
     "execution_count": 11,
     "metadata": {},
     "output_type": "execute_result"
    }
   ],
   "source": [
    "# Recode response level\n",
    "session1_df['Response_Level_Catg'] = session1_df['Response_Level'].map({1: 'Local', 2: 'Global'})\n",
    "\n",
    "session1_df.head()"
   ]
  },
  {
   "cell_type": "code",
   "execution_count": 12,
   "metadata": {},
   "outputs": [
    {
     "data": {
      "text/html": [
       "<div>\n",
       "<style scoped>\n",
       "    .dataframe tbody tr th:only-of-type {\n",
       "        vertical-align: middle;\n",
       "    }\n",
       "\n",
       "    .dataframe tbody tr th {\n",
       "        vertical-align: top;\n",
       "    }\n",
       "\n",
       "    .dataframe thead th {\n",
       "        text-align: right;\n",
       "    }\n",
       "</style>\n",
       "<table border=\"1\" class=\"dataframe\">\n",
       "  <thead>\n",
       "    <tr style=\"text-align: right;\">\n",
       "      <th></th>\n",
       "      <th>Block</th>\n",
       "      <th>Trial</th>\n",
       "      <th>Response_Level</th>\n",
       "      <th>Condition</th>\n",
       "      <th>Correct</th>\n",
       "      <th>Reaction_Time</th>\n",
       "      <th>Response_Level_Catg</th>\n",
       "      <th>Condition_Catg</th>\n",
       "    </tr>\n",
       "  </thead>\n",
       "  <tbody>\n",
       "    <tr>\n",
       "      <th>0</th>\n",
       "      <td>1</td>\n",
       "      <td>1</td>\n",
       "      <td>1</td>\n",
       "      <td>0</td>\n",
       "      <td>1</td>\n",
       "      <td>0.48137</td>\n",
       "      <td>Local</td>\n",
       "      <td>Congruent</td>\n",
       "    </tr>\n",
       "    <tr>\n",
       "      <th>1</th>\n",
       "      <td>1</td>\n",
       "      <td>2</td>\n",
       "      <td>1</td>\n",
       "      <td>2</td>\n",
       "      <td>0</td>\n",
       "      <td>0.46472</td>\n",
       "      <td>Local</td>\n",
       "      <td>Incongruent</td>\n",
       "    </tr>\n",
       "    <tr>\n",
       "      <th>2</th>\n",
       "      <td>1</td>\n",
       "      <td>3</td>\n",
       "      <td>1</td>\n",
       "      <td>2</td>\n",
       "      <td>0</td>\n",
       "      <td>0.49802</td>\n",
       "      <td>Local</td>\n",
       "      <td>Incongruent</td>\n",
       "    </tr>\n",
       "    <tr>\n",
       "      <th>3</th>\n",
       "      <td>1</td>\n",
       "      <td>4</td>\n",
       "      <td>1</td>\n",
       "      <td>2</td>\n",
       "      <td>1</td>\n",
       "      <td>0.89621</td>\n",
       "      <td>Local</td>\n",
       "      <td>Incongruent</td>\n",
       "    </tr>\n",
       "    <tr>\n",
       "      <th>4</th>\n",
       "      <td>1</td>\n",
       "      <td>5</td>\n",
       "      <td>1</td>\n",
       "      <td>2</td>\n",
       "      <td>1</td>\n",
       "      <td>0.66389</td>\n",
       "      <td>Local</td>\n",
       "      <td>Incongruent</td>\n",
       "    </tr>\n",
       "  </tbody>\n",
       "</table>\n",
       "</div>"
      ],
      "text/plain": [
       "   Block  Trial  Response_Level  Condition  Correct  Reaction_Time  \\\n",
       "0      1      1               1          0        1        0.48137   \n",
       "1      1      2               1          2        0        0.46472   \n",
       "2      1      3               1          2        0        0.49802   \n",
       "3      1      4               1          2        1        0.89621   \n",
       "4      1      5               1          2        1        0.66389   \n",
       "\n",
       "  Response_Level_Catg Condition_Catg  \n",
       "0               Local      Congruent  \n",
       "1               Local    Incongruent  \n",
       "2               Local    Incongruent  \n",
       "3               Local    Incongruent  \n",
       "4               Local    Incongruent  "
      ]
     },
     "execution_count": 12,
     "metadata": {},
     "output_type": "execute_result"
    }
   ],
   "source": [
    "# Recode condition\n",
    "session1_df['Condition_Catg'] = session1_df['Condition'].map({0: 'Congruent', 2: 'Incongruent'})\n",
    "session1_df.head()"
   ]
  },
  {
   "cell_type": "markdown",
   "metadata": {},
   "source": [
    "### Outliers - remove reaction times > 3 standard deviations"
   ]
  },
  {
   "cell_type": "code",
   "execution_count": 13,
   "metadata": {},
   "outputs": [
    {
     "data": {
      "text/plain": [
       "0      0.48137\n",
       "1      0.46472\n",
       "2      0.49802\n",
       "3      0.89621\n",
       "4      0.66389\n",
       "        ...   \n",
       "635    0.43135\n",
       "636    0.34855\n",
       "637    0.38181\n",
       "638    0.38180\n",
       "639    0.43158\n",
       "Name: Reaction_Time, Length: 640, dtype: float64"
      ]
     },
     "execution_count": 13,
     "metadata": {},
     "output_type": "execute_result"
    }
   ],
   "source": [
    "session1_df['Reaction_Time']"
   ]
  },
  {
   "cell_type": "code",
   "execution_count": 14,
   "metadata": {},
   "outputs": [
    {
     "name": "stdout",
     "output_type": "stream",
     "text": [
      "0.4893810156250006 0.12109206845983286\n"
     ]
    }
   ],
   "source": [
    "# Handle outliers (e.g., remove reaction times > 3 standard deviations)\n",
    "mean_rt = session1_df['Reaction_Time'].mean()\n",
    "std_rt = session1_df['Reaction_Time'].std()\n",
    "print(mean_rt, std_rt)"
   ]
  },
  {
   "cell_type": "code",
   "execution_count": 15,
   "metadata": {},
   "outputs": [
    {
     "data": {
      "text/html": [
       "<div>\n",
       "<style scoped>\n",
       "    .dataframe tbody tr th:only-of-type {\n",
       "        vertical-align: middle;\n",
       "    }\n",
       "\n",
       "    .dataframe tbody tr th {\n",
       "        vertical-align: top;\n",
       "    }\n",
       "\n",
       "    .dataframe thead th {\n",
       "        text-align: right;\n",
       "    }\n",
       "</style>\n",
       "<table border=\"1\" class=\"dataframe\">\n",
       "  <thead>\n",
       "    <tr style=\"text-align: right;\">\n",
       "      <th></th>\n",
       "      <th>Block</th>\n",
       "      <th>Trial</th>\n",
       "      <th>Response_Level</th>\n",
       "      <th>Condition</th>\n",
       "      <th>Correct</th>\n",
       "      <th>Reaction_Time</th>\n",
       "      <th>Response_Level_Catg</th>\n",
       "      <th>Condition_Catg</th>\n",
       "      <th>zRT</th>\n",
       "    </tr>\n",
       "  </thead>\n",
       "  <tbody>\n",
       "    <tr>\n",
       "      <th>0</th>\n",
       "      <td>1</td>\n",
       "      <td>1</td>\n",
       "      <td>1</td>\n",
       "      <td>0</td>\n",
       "      <td>1</td>\n",
       "      <td>0.48137</td>\n",
       "      <td>Local</td>\n",
       "      <td>Congruent</td>\n",
       "      <td>-0.066156</td>\n",
       "    </tr>\n",
       "    <tr>\n",
       "      <th>1</th>\n",
       "      <td>1</td>\n",
       "      <td>2</td>\n",
       "      <td>1</td>\n",
       "      <td>2</td>\n",
       "      <td>0</td>\n",
       "      <td>0.46472</td>\n",
       "      <td>Local</td>\n",
       "      <td>Incongruent</td>\n",
       "      <td>-0.203655</td>\n",
       "    </tr>\n",
       "    <tr>\n",
       "      <th>2</th>\n",
       "      <td>1</td>\n",
       "      <td>3</td>\n",
       "      <td>1</td>\n",
       "      <td>2</td>\n",
       "      <td>0</td>\n",
       "      <td>0.49802</td>\n",
       "      <td>Local</td>\n",
       "      <td>Incongruent</td>\n",
       "      <td>0.071342</td>\n",
       "    </tr>\n",
       "    <tr>\n",
       "      <th>3</th>\n",
       "      <td>1</td>\n",
       "      <td>4</td>\n",
       "      <td>1</td>\n",
       "      <td>2</td>\n",
       "      <td>1</td>\n",
       "      <td>0.89621</td>\n",
       "      <td>Local</td>\n",
       "      <td>Incongruent</td>\n",
       "      <td>3.359667</td>\n",
       "    </tr>\n",
       "    <tr>\n",
       "      <th>4</th>\n",
       "      <td>1</td>\n",
       "      <td>5</td>\n",
       "      <td>1</td>\n",
       "      <td>2</td>\n",
       "      <td>1</td>\n",
       "      <td>0.66389</td>\n",
       "      <td>Local</td>\n",
       "      <td>Incongruent</td>\n",
       "      <td>1.441126</td>\n",
       "    </tr>\n",
       "  </tbody>\n",
       "</table>\n",
       "</div>"
      ],
      "text/plain": [
       "   Block  Trial  Response_Level  Condition  Correct  Reaction_Time  \\\n",
       "0      1      1               1          0        1        0.48137   \n",
       "1      1      2               1          2        0        0.46472   \n",
       "2      1      3               1          2        0        0.49802   \n",
       "3      1      4               1          2        1        0.89621   \n",
       "4      1      5               1          2        1        0.66389   \n",
       "\n",
       "  Response_Level_Catg Condition_Catg       zRT  \n",
       "0               Local      Congruent -0.066156  \n",
       "1               Local    Incongruent -0.203655  \n",
       "2               Local    Incongruent  0.071342  \n",
       "3               Local    Incongruent  3.359667  \n",
       "4               Local    Incongruent  1.441126  "
      ]
     },
     "execution_count": 15,
     "metadata": {},
     "output_type": "execute_result"
    }
   ],
   "source": [
    "session1_df['zRT'] = (session1_df['Reaction_Time'] - mean_rt) / std_rt\n",
    "session1_df.head()"
   ]
  },
  {
   "cell_type": "code",
   "execution_count": 29,
   "metadata": {},
   "outputs": [
    {
     "data": {
      "text/plain": [
       "0       True\n",
       "1       True\n",
       "2       True\n",
       "3      False\n",
       "4       True\n",
       "       ...  \n",
       "635     True\n",
       "636     True\n",
       "637     True\n",
       "638     True\n",
       "639     True\n",
       "Name: zRT, Length: 640, dtype: bool"
      ]
     },
     "execution_count": 29,
     "metadata": {},
     "output_type": "execute_result"
    }
   ],
   "source": [
    "idx = ((session1_df['zRT'] <= 3) & \n",
    "        (session1_df['zRT'] >= -3))\n",
    "idx"
   ]
  },
  {
   "cell_type": "code",
   "execution_count": 30,
   "metadata": {},
   "outputs": [
    {
     "name": "stdout",
     "output_type": "stream",
     "text": [
      "Original dataset size: 640\n",
      "Cleaned dataset size: 629\n"
     ]
    }
   ],
   "source": [
    "session1_df_clean = session1_df[idx]\n",
    "\n",
    "print(\"Original dataset size:\", len(session1_df))\n",
    "print(\"Cleaned dataset size:\", len(session1_df_clean))"
   ]
  },
  {
   "cell_type": "code",
   "execution_count": 31,
   "metadata": {},
   "outputs": [
    {
     "data": {
      "image/png": "[encoded data removed]",
      "text/plain": [
       "<Figure size 600x300 with 2 Axes>"
      ]
     },
     "metadata": {},
     "output_type": "display_data"
    }
   ],
   "source": [
    "import matplotlib.pyplot as plt\n",
    "\n",
    "plt.figure(figsize=(6, 3))\n",
    "\n",
    "# Original response times\n",
    "plt.subplot(1, 2, 1)\n",
    "plt.hist(session1_df['Reaction_Time'], bins=30, label='Original')\n",
    "plt.title('Original Reaction Times')\n",
    "plt.xlabel('Reaction Time (seconds)')\n",
    "plt.ylabel('Frequency')\n",
    "plt.xlim(session1_df['Reaction_Time'].min(), session1_df['Reaction_Time'].max())    # <----- Same x-axis\n",
    "\n",
    "# Cleaned response times\n",
    "plt.subplot(1, 2, 2)\n",
    "plt.hist(session1_df_clean['Reaction_Time'], bins=30, label='Cleaned', color='orange')\n",
    "plt.title('Cleaned Reaction Times')\n",
    "plt.xlabel('Reaction Time (seconds)')\n",
    "plt.ylabel('Frequency')\n",
    "plt.xlim(session1_df['Reaction_Time'].min(), session1_df['Reaction_Time'].max())    # <----- Same x-axis\n",
    "\n",
    "plt.tight_layout()\n",
    "plt.show()\n"
   ]
  },
  {
   "cell_type": "markdown",
   "metadata": {},
   "source": [
    "## 4. Statistical Analysis"
   ]
  },
  {
   "cell_type": "markdown",
   "metadata": {},
   "source": [
    "### Calculate mean reaction time and accuracy for each condition"
   ]
  },
  {
   "cell_type": "code",
   "execution_count": 32,
   "metadata": {},
   "outputs": [
    {
     "name": "stdout",
     "output_type": "stream",
     "text": [
      "Mean Reaction Time by Condition:\n",
      "Condition_Catg\n",
      "Congruent      0.471069\n",
      "Incongruent    0.493146\n",
      "Name: Reaction_Time, dtype: float64\n",
      "\n",
      "Accuracy by Condition:\n",
      "Condition_Catg\n",
      "Congruent      0.911392\n",
      "Incongruent    0.753994\n",
      "Name: Correct, dtype: float64\n"
     ]
    }
   ],
   "source": [
    "# RT\n",
    "mean_rt_by_condition = session1_df_clean.groupby('Condition_Catg')['Reaction_Time'].mean()\n",
    "print(\"Mean Reaction Time by Condition:\")\n",
    "print(mean_rt_by_condition)\n",
    "\n",
    "# Accuracy\n",
    "accuracy_by_condition = session1_df_clean.groupby('Condition_Catg')['Correct'].mean()\n",
    "print(\"\\nAccuracy by Condition:\")\n",
    "print(accuracy_by_condition)"
   ]
  },
  {
   "cell_type": "code",
   "execution_count": null,
   "metadata": {},
   "outputs": [],
   "source": [
    "accuracy_by_condition = session1_df_clean.groupby('Condition_Catg')['Correct'].mean()\n",
    "#     new_df          =     df           .groupby( grouping var   )[target   ].computation"
   ]
  },
  {
   "cell_type": "markdown",
   "metadata": {},
   "source": [
    "### Calculate mean RT and accuracy for each response level"
   ]
  },
  {
   "cell_type": "code",
   "execution_count": 20,
   "metadata": {},
   "outputs": [
    {
     "name": "stdout",
     "output_type": "stream",
     "text": [
      "Mean Reaction Time by Response level:\n",
      "Response_Level_Catg\n",
      "Global    0.425916\n",
      "Local     0.539823\n",
      "Name: Reaction_Time, dtype: float64\n",
      "\n",
      "Accuracy by Response level:\n",
      "Response_Level_Catg\n",
      "Global    0.887147\n",
      "Local     0.777419\n",
      "Name: Correct, dtype: float64\n"
     ]
    }
   ],
   "source": [
    "# RT\n",
    "mean_rt_by_response = session1_df_clean.groupby('Response_Level_Catg')['Reaction_Time'].mean()\n",
    "print(\"Mean Reaction Time by Response level:\")\n",
    "print(mean_rt_by_response)\n",
    "\n",
    "# Accuracy\n",
    "accuracy_by_response = session1_df_clean.groupby('Response_Level_Catg')['Correct'].mean()\n",
    "print(\"\\nAccuracy by Response level:\")\n",
    "print(accuracy_by_response)"
   ]
  },
  {
   "cell_type": "code",
   "execution_count": 21,
   "metadata": {},
   "outputs": [
    {
     "name": "stdout",
     "output_type": "stream",
     "text": [
      "Mean Reaction Time by Condition:\n",
      "Condition_Catg\n",
      "Congruent      0.471069\n",
      "Incongruent    0.493146\n",
      "Name: Reaction_Time, dtype: float64\n",
      "\n",
      "Accuracy by Condition:\n",
      "Condition_Catg\n",
      "Congruent      0.911392\n",
      "Incongruent    0.753994\n",
      "Name: Correct, dtype: float64\n"
     ]
    }
   ],
   "source": [
    "# Calculate mean reaction time for each condition\n",
    "mean_rt_by_condition = session1_df_clean.groupby('Condition_Catg')['Reaction_Time'].mean()\n",
    "print(\"Mean Reaction Time by Condition:\")\n",
    "print(mean_rt_by_condition)\n",
    "\n",
    "# Calculate accuracy for each condition\n",
    "accuracy_by_condition = session1_df_clean.groupby('Condition_Catg')['Correct'].mean()\n",
    "print(\"\\nAccuracy by Condition:\")\n",
    "print(accuracy_by_condition)"
   ]
  },
  {
   "cell_type": "code",
   "execution_count": null,
   "metadata": {},
   "outputs": [],
   "source": []
  },
  {
   "cell_type": "markdown",
   "metadata": {},
   "source": [
    "### Group by Response level X Condition"
   ]
  },
  {
   "cell_type": "code",
   "execution_count": 38,
   "metadata": {},
   "outputs": [
    {
     "name": "stdout",
     "output_type": "stream",
     "text": [
      "Mean Reaction Time by Condition:\n"
     ]
    },
    {
     "data": {
      "text/plain": [
       "Response_Level_Catg  Condition_Catg\n",
       "Global               Congruent         0.423337\n",
       "                     Incongruent       0.428480\n",
       "Local                Congruent         0.519409\n",
       "                     Incongruent       0.560771\n",
       "Name: Reaction_Time, dtype: float64"
      ]
     },
     "execution_count": 38,
     "metadata": {},
     "output_type": "execute_result"
    }
   ],
   "source": [
    "mean_rt_by_responseXcondition = session1_df_clean.groupby(['Response_Level_Catg', 'Condition_Catg'])['Reaction_Time'].mean()\n",
    "print(\"Mean Reaction Time by Condition:\")\n",
    "mean_rt_by_responseXcondition"
   ]
  },
  {
   "cell_type": "code",
   "execution_count": 36,
   "metadata": {},
   "outputs": [
    {
     "data": {
      "text/plain": [
       "pandas.core.frame.DataFrame"
      ]
     },
     "execution_count": 36,
     "metadata": {},
     "output_type": "execute_result"
    }
   ],
   "source": [
    "type(mean_rt_by_responseXcondition)"
   ]
  },
  {
   "cell_type": "code",
   "execution_count": 33,
   "metadata": {},
   "outputs": [
    {
     "data": {
      "text/plain": [
       "MultiIndex([('Global',   'Congruent'),\n",
       "            ('Global', 'Incongruent'),\n",
       "            ( 'Local',   'Congruent'),\n",
       "            ( 'Local', 'Incongruent')],\n",
       "           names=['Response_Level_Catg', 'Condition_Catg'])"
      ]
     },
     "execution_count": 33,
     "metadata": {},
     "output_type": "execute_result"
    }
   ],
   "source": [
    "mean_rt_by_responseXcondition.index"
   ]
  },
  {
   "cell_type": "code",
   "execution_count": 42,
   "metadata": {},
   "outputs": [
    {
     "data": {
      "text/plain": [
       "Condition_Catg\n",
       "Congruent      0.423337\n",
       "Incongruent    0.428480\n",
       "Name: Reaction_Time, dtype: float64"
      ]
     },
     "execution_count": 42,
     "metadata": {},
     "output_type": "execute_result"
    }
   ],
   "source": [
    "mean_rt_by_responseXcondition.loc['Global']"
   ]
  },
  {
   "cell_type": "code",
   "execution_count": 43,
   "metadata": {},
   "outputs": [
    {
     "data": {
      "text/plain": [
       "0.42333698113207546"
      ]
     },
     "execution_count": 43,
     "metadata": {},
     "output_type": "execute_result"
    }
   ],
   "source": [
    "mean_rt_by_responseXcondition.loc[('Global','Congruent')]"
   ]
  },
  {
   "cell_type": "code",
   "execution_count": 39,
   "metadata": {},
   "outputs": [
    {
     "data": {
      "text/html": [
       "<div>\n",
       "<style scoped>\n",
       "    .dataframe tbody tr th:only-of-type {\n",
       "        vertical-align: middle;\n",
       "    }\n",
       "\n",
       "    .dataframe tbody tr th {\n",
       "        vertical-align: top;\n",
       "    }\n",
       "\n",
       "    .dataframe thead th {\n",
       "        text-align: right;\n",
       "    }\n",
       "</style>\n",
       "<table border=\"1\" class=\"dataframe\">\n",
       "  <thead>\n",
       "    <tr style=\"text-align: right;\">\n",
       "      <th></th>\n",
       "      <th>Response_Level_Catg</th>\n",
       "      <th>Condition_Catg</th>\n",
       "      <th>Reaction_Time</th>\n",
       "    </tr>\n",
       "  </thead>\n",
       "  <tbody>\n",
       "    <tr>\n",
       "      <th>0</th>\n",
       "      <td>Global</td>\n",
       "      <td>Congruent</td>\n",
       "      <td>0.423337</td>\n",
       "    </tr>\n",
       "    <tr>\n",
       "      <th>1</th>\n",
       "      <td>Global</td>\n",
       "      <td>Incongruent</td>\n",
       "      <td>0.428480</td>\n",
       "    </tr>\n",
       "    <tr>\n",
       "      <th>2</th>\n",
       "      <td>Local</td>\n",
       "      <td>Congruent</td>\n",
       "      <td>0.519409</td>\n",
       "    </tr>\n",
       "    <tr>\n",
       "      <th>3</th>\n",
       "      <td>Local</td>\n",
       "      <td>Incongruent</td>\n",
       "      <td>0.560771</td>\n",
       "    </tr>\n",
       "  </tbody>\n",
       "</table>\n",
       "</div>"
      ],
      "text/plain": [
       "  Response_Level_Catg Condition_Catg  Reaction_Time\n",
       "0              Global      Congruent       0.423337\n",
       "1              Global    Incongruent       0.428480\n",
       "2               Local      Congruent       0.519409\n",
       "3               Local    Incongruent       0.560771"
      ]
     },
     "execution_count": 39,
     "metadata": {},
     "output_type": "execute_result"
    }
   ],
   "source": [
    "mean_rt_by_responseXcondition.reset_index()"
   ]
  },
  {
   "cell_type": "markdown",
   "metadata": {},
   "source": [
    "#### Have both RT and accuracy in the resulting aggregated dataframe"
   ]
  },
  {
   "cell_type": "code",
   "execution_count": 23,
   "metadata": {},
   "outputs": [
    {
     "name": "stdout",
     "output_type": "stream",
     "text": [
      "Mean Reaction Time by Condition:\n"
     ]
    },
    {
     "data": {
      "text/html": [
       "<div>\n",
       "<style scoped>\n",
       "    .dataframe tbody tr th:only-of-type {\n",
       "        vertical-align: middle;\n",
       "    }\n",
       "\n",
       "    .dataframe tbody tr th {\n",
       "        vertical-align: top;\n",
       "    }\n",
       "\n",
       "    .dataframe thead th {\n",
       "        text-align: right;\n",
       "    }\n",
       "</style>\n",
       "<table border=\"1\" class=\"dataframe\">\n",
       "  <thead>\n",
       "    <tr style=\"text-align: right;\">\n",
       "      <th></th>\n",
       "      <th></th>\n",
       "      <th>Reaction_Time</th>\n",
       "      <th>Correct</th>\n",
       "    </tr>\n",
       "    <tr>\n",
       "      <th>Response_Level_Catg</th>\n",
       "      <th>Condition_Catg</th>\n",
       "      <th></th>\n",
       "      <th></th>\n",
       "    </tr>\n",
       "  </thead>\n",
       "  <tbody>\n",
       "    <tr>\n",
       "      <th rowspan=\"2\" valign=\"top\">Global</th>\n",
       "      <th>Congruent</th>\n",
       "      <td>0.423337</td>\n",
       "      <td>0.880503</td>\n",
       "    </tr>\n",
       "    <tr>\n",
       "      <th>Incongruent</th>\n",
       "      <td>0.428480</td>\n",
       "      <td>0.893750</td>\n",
       "    </tr>\n",
       "    <tr>\n",
       "      <th rowspan=\"2\" valign=\"top\">Local</th>\n",
       "      <th>Congruent</th>\n",
       "      <td>0.519409</td>\n",
       "      <td>0.942675</td>\n",
       "    </tr>\n",
       "    <tr>\n",
       "      <th>Incongruent</th>\n",
       "      <td>0.560771</td>\n",
       "      <td>0.607843</td>\n",
       "    </tr>\n",
       "  </tbody>\n",
       "</table>\n",
       "</div>"
      ],
      "text/plain": [
       "                                    Reaction_Time   Correct\n",
       "Response_Level_Catg Condition_Catg                         \n",
       "Global              Congruent            0.423337  0.880503\n",
       "                    Incongruent          0.428480  0.893750\n",
       "Local               Congruent            0.519409  0.942675\n",
       "                    Incongruent          0.560771  0.607843"
      ]
     },
     "execution_count": 23,
     "metadata": {},
     "output_type": "execute_result"
    }
   ],
   "source": [
    "mean_rt_by_responseXcondition = session1_df_clean.groupby(['Response_Level_Catg', 'Condition_Catg'])[['Reaction_Time','Correct']].mean()\n",
    "print(\"Mean Reaction Time by Condition:\")\n",
    "mean_rt_by_responseXcondition"
   ]
  },
  {
   "cell_type": "markdown",
   "metadata": {},
   "source": [
    "#### Plot the RT per condition with error bars"
   ]
  },
  {
   "cell_type": "code",
   "execution_count": 24,
   "metadata": {},
   "outputs": [
    {
     "data": {
      "text/html": [
       "<div>\n",
       "<style scoped>\n",
       "    .dataframe tbody tr th:only-of-type {\n",
       "        vertical-align: middle;\n",
       "    }\n",
       "\n",
       "    .dataframe tbody tr th {\n",
       "        vertical-align: top;\n",
       "    }\n",
       "\n",
       "    .dataframe thead th {\n",
       "        text-align: right;\n",
       "    }\n",
       "</style>\n",
       "<table border=\"1\" class=\"dataframe\">\n",
       "  <thead>\n",
       "    <tr style=\"text-align: right;\">\n",
       "      <th></th>\n",
       "      <th>Response_Level_Catg</th>\n",
       "      <th>Condition_Catg</th>\n",
       "      <th>mean</th>\n",
       "      <th>std</th>\n",
       "    </tr>\n",
       "  </thead>\n",
       "  <tbody>\n",
       "    <tr>\n",
       "      <th>0</th>\n",
       "      <td>Global</td>\n",
       "      <td>Congruent</td>\n",
       "      <td>0.423337</td>\n",
       "      <td>0.090544</td>\n",
       "    </tr>\n",
       "    <tr>\n",
       "      <th>1</th>\n",
       "      <td>Global</td>\n",
       "      <td>Incongruent</td>\n",
       "      <td>0.428480</td>\n",
       "      <td>0.086543</td>\n",
       "    </tr>\n",
       "    <tr>\n",
       "      <th>2</th>\n",
       "      <td>Local</td>\n",
       "      <td>Congruent</td>\n",
       "      <td>0.519409</td>\n",
       "      <td>0.083654</td>\n",
       "    </tr>\n",
       "    <tr>\n",
       "      <th>3</th>\n",
       "      <td>Local</td>\n",
       "      <td>Incongruent</td>\n",
       "      <td>0.560771</td>\n",
       "      <td>0.103507</td>\n",
       "    </tr>\n",
       "  </tbody>\n",
       "</table>\n",
       "</div>"
      ],
      "text/plain": [
       "  Response_Level_Catg Condition_Catg      mean       std\n",
       "0              Global      Congruent  0.423337  0.090544\n",
       "1              Global    Incongruent  0.428480  0.086543\n",
       "2               Local      Congruent  0.519409  0.083654\n",
       "3               Local    Incongruent  0.560771  0.103507"
      ]
     },
     "execution_count": 24,
     "metadata": {},
     "output_type": "execute_result"
    }
   ],
   "source": [
    "mean_std_rt_by_responseXcondition = session1_df_clean.groupby(['Response_Level_Catg', 'Condition_Catg'])['Reaction_Time'].agg(['mean', 'std']).reset_index()\n",
    "mean_std_rt_by_responseXcondition"
   ]
  },
  {
   "cell_type": "code",
   "execution_count": 25,
   "metadata": {},
   "outputs": [
    {
     "data": {
      "text/html": [
       "<div>\n",
       "<style scoped>\n",
       "    .dataframe tbody tr th:only-of-type {\n",
       "        vertical-align: middle;\n",
       "    }\n",
       "\n",
       "    .dataframe tbody tr th {\n",
       "        vertical-align: top;\n",
       "    }\n",
       "\n",
       "    .dataframe thead th {\n",
       "        text-align: right;\n",
       "    }\n",
       "</style>\n",
       "<table border=\"1\" class=\"dataframe\">\n",
       "  <thead>\n",
       "    <tr style=\"text-align: right;\">\n",
       "      <th></th>\n",
       "      <th>Response_Level_Catg</th>\n",
       "      <th>Condition_Catg</th>\n",
       "      <th>mean</th>\n",
       "      <th>std</th>\n",
       "      <th>Response_X_Condition</th>\n",
       "    </tr>\n",
       "  </thead>\n",
       "  <tbody>\n",
       "    <tr>\n",
       "      <th>0</th>\n",
       "      <td>Global</td>\n",
       "      <td>Congruent</td>\n",
       "      <td>0.423337</td>\n",
       "      <td>0.090544</td>\n",
       "      <td>Global Congruent</td>\n",
       "    </tr>\n",
       "    <tr>\n",
       "      <th>1</th>\n",
       "      <td>Global</td>\n",
       "      <td>Incongruent</td>\n",
       "      <td>0.428480</td>\n",
       "      <td>0.086543</td>\n",
       "      <td>Global Incongruent</td>\n",
       "    </tr>\n",
       "    <tr>\n",
       "      <th>2</th>\n",
       "      <td>Local</td>\n",
       "      <td>Congruent</td>\n",
       "      <td>0.519409</td>\n",
       "      <td>0.083654</td>\n",
       "      <td>Local Congruent</td>\n",
       "    </tr>\n",
       "    <tr>\n",
       "      <th>3</th>\n",
       "      <td>Local</td>\n",
       "      <td>Incongruent</td>\n",
       "      <td>0.560771</td>\n",
       "      <td>0.103507</td>\n",
       "      <td>Local Incongruent</td>\n",
       "    </tr>\n",
       "  </tbody>\n",
       "</table>\n",
       "</div>"
      ],
      "text/plain": [
       "  Response_Level_Catg Condition_Catg      mean       std Response_X_Condition\n",
       "0              Global      Congruent  0.423337  0.090544     Global Congruent\n",
       "1              Global    Incongruent  0.428480  0.086543   Global Incongruent\n",
       "2               Local      Congruent  0.519409  0.083654      Local Congruent\n",
       "3               Local    Incongruent  0.560771  0.103507    Local Incongruent"
      ]
     },
     "execution_count": 25,
     "metadata": {},
     "output_type": "execute_result"
    }
   ],
   "source": [
    "mean_std_rt_by_responseXcondition['Response_X_Condition'] = mean_std_rt_by_responseXcondition['Response_Level_Catg'] + ' ' + mean_std_rt_by_responseXcondition['Condition_Catg']\n",
    "mean_std_rt_by_responseXcondition"
   ]
  },
  {
   "cell_type": "code",
   "execution_count": 26,
   "metadata": {},
   "outputs": [
    {
     "data": {
      "image/png": "[encoded data removed]",
      "text/plain": [
       "<Figure size 640x480 with 1 Axes>"
      ]
     },
     "metadata": {},
     "output_type": "display_data"
    }
   ],
   "source": [
    "plt.bar(data=mean_std_rt_by_responseXcondition,\n",
    "             x = 'Response_X_Condition',\n",
    "             height = 'mean',\n",
    "             yerr = 'std')\n",
    "plt.xticks(rotation=45, ha='right')\n",
    "plt.show()"
   ]
  },
  {
   "cell_type": "markdown",
   "metadata": {},
   "source": [
    "## 6. Merging Datasets"
   ]
  },
  {
   "cell_type": "code",
   "execution_count": 45,
   "metadata": {},
   "outputs": [
    {
     "name": "stdout",
     "output_type": "stream",
     "text": [
      "Study3_P10NAVON1.csv\n",
      "Study3_P10NAVON2.csv\n",
      "Study3_P12NAVON1.csv\n",
      "Study3_P12NAVON2.csv\n",
      "Study3_P13NAVON1.csv\n",
      "Study3_P13NAVON2.csv\n",
      "Study3_P14NAVON1.csv\n",
      "Study3_P14NAVON2.csv\n",
      "Study3_P15NAVON1.csv\n",
      "Study3_P15NAVON2.csv\n",
      "Study3_P16NAVON1.csv\n",
      "Study3_P16NAVON2.csv\n",
      "Study3_P17NAVON1.csv\n",
      "Study3_P17NAVON2.csv\n",
      "Study3_P18NAVON1.csv\n",
      "Study3_P18NAVON2.csv\n",
      "Study3_P19NAVON1.csv\n",
      "Study3_P19NAVON2.csv\n",
      "Study3_P1NAVON1.csv\n",
      "Study3_P1NAVON2.csv\n",
      "Study3_P20NAVON1.csv\n",
      "Study3_P20NAVON2.csv\n",
      "Study3_P21NAVON1.csv\n",
      "Study3_P21NAVON2.csv\n",
      "Study3_P22NAVON1.csv\n",
      "Study3_P22NAVON2.csv\n",
      "Study3_P23NAVON1.csv\n",
      "Study3_P23NAVON2.csv\n",
      "Study3_P24NAVON1.csv\n",
      "Study3_P24NAVON2.csv\n",
      "Study3_P25NAVON1.csv\n",
      "Study3_P25NAVON2.csv\n",
      "Study3_P26NAVON1.csv\n",
      "Study3_P26NAVON2.csv\n",
      "Study3_P27NAVON1.csv\n",
      "Study3_P27NAVON2.csv\n",
      "Study3_P28NAVON1.csv\n",
      "Study3_P28NAVON2.csv\n",
      "Study3_P29NAVON1.csv\n",
      "Study3_P29NAVON2.csv\n",
      "Study3_P2NAVON1.csv\n",
      "Study3_P2NAVON2.csv\n",
      "Study3_P30NAVON1.csv\n",
      "Study3_P30NAVON2.csv\n",
      "Study3_P31NAVON1.csv\n",
      "Study3_P31NAVON2.csv\n",
      "Study3_P32NAVON1.csv\n",
      "Study3_P32NAVON2.csv\n",
      "Study3_P33NAVON1.csv\n",
      "Study3_P33NAVON2.csv\n",
      "Study3_P34NAVON1.csv\n",
      "Study3_P34NAVON2.csv\n",
      "Study3_P35NAVON1.csv\n",
      "Study3_P35NAVON2.csv\n",
      "Study3_P36NAVON1.csv\n",
      "Study3_P36NAVON2.csv\n",
      "Study3_P37NAVON1.csv\n",
      "Study3_P37NAVON2.csv\n",
      "Study3_P38NAVON1.csv\n",
      "Study3_P38NAVON2.csv\n",
      "Study3_P39NAVON1.csv\n",
      "Study3_P39NAVON2.csv\n",
      "Study3_P40NAVON1.csv\n",
      "Study3_P40NAVON2.csv\n",
      "Study3_P41NAVON1.csv\n",
      "Study3_P41NAVON2.csv\n",
      "Study3_P42NAVON1.csv\n",
      "Study3_P42NAVON2.csv\n",
      "Study3_P4NAVON1.csv\n",
      "Study3_P4NAVON2.csv\n",
      "Study3_P5NAVON1.csv\n",
      "Study3_P5NAVON2.csv\n",
      "Study3_P6NAVON1.csv\n",
      "Study3_P6NAVON2.csv\n",
      "Study3_P7NAVON1.csv\n",
      "Study3_P7NAVON2.csv\n",
      "Study3_P8NAVON1.csv\n",
      "Study3_P8NAVON2.csv\n",
      "Study3_P9NAVON1.csv\n",
      "Study3_P9NAVON2.csv\n"
     ]
    }
   ],
   "source": [
    "import pathlib\n",
    "\n",
    "# Get CSV files list from a folder using pathlib\n",
    "cwd = pathlib.Path.cwd() # Current working directory\n",
    "data_dir = cwd / 'data'  # Path object for better file system interaction\n",
    "\n",
    "for file in data_dir.iterdir():\n",
    "    print(file.name)"
   ]
  },
  {
   "cell_type": "markdown",
   "metadata": {},
   "source": [
    "#### Load together into a dataframe"
   ]
  },
  {
   "cell_type": "code",
   "execution_count": 53,
   "metadata": {},
   "outputs": [],
   "source": [
    "# Import libraries\n",
    "import pathlib \n",
    "import re  # regular expression\n",
    "\n",
    "# Get CSV files list\n",
    "csv_files = list(data_dir.glob('*.csv'))  # List of Path objects for CSV files\n",
    "\n",
    "# Define column names (assuming all CSVs have same structure)\n",
    "column_names = ['Block', 'Trial', 'Response_Level', 'Condition', 'Correct', 'Reaction_Time']\n",
    "\n",
    "# Read each CSV file into DataFrame and add Participant column\n",
    "df_list = []\n",
    "for file in csv_files:\n",
    "    df = pd.read_csv(file, header=None, names=column_names)\n",
    "\n",
    "    # Extract participant number using regular expression\n",
    "    match = re.search(r'P(\\d+)N', file.name)\n",
    "    participant_number = int(match.group(1))\n",
    "\n",
    "    # Add participant number as the first column\n",
    "    df.insert(0, 'Participant', participant_number) \n",
    "    df_list.append(df)\n",
    "\n",
    "# Concatenate all DataFrames\n",
    "df = pd.concat(df_list, ignore_index=True)"
   ]
  },
  {
   "cell_type": "code",
   "execution_count": 54,
   "metadata": {},
   "outputs": [
    {
     "data": {
      "text/html": [
       "<div>\n",
       "<style scoped>\n",
       "    .dataframe tbody tr th:only-of-type {\n",
       "        vertical-align: middle;\n",
       "    }\n",
       "\n",
       "    .dataframe tbody tr th {\n",
       "        vertical-align: top;\n",
       "    }\n",
       "\n",
       "    .dataframe thead th {\n",
       "        text-align: right;\n",
       "    }\n",
       "</style>\n",
       "<table border=\"1\" class=\"dataframe\">\n",
       "  <thead>\n",
       "    <tr style=\"text-align: right;\">\n",
       "      <th></th>\n",
       "      <th>Participant</th>\n",
       "      <th>Block</th>\n",
       "      <th>Trial</th>\n",
       "      <th>Response_Level</th>\n",
       "      <th>Condition</th>\n",
       "      <th>Correct</th>\n",
       "      <th>Reaction_Time</th>\n",
       "    </tr>\n",
       "  </thead>\n",
       "  <tbody>\n",
       "    <tr>\n",
       "      <th>0</th>\n",
       "      <td>10</td>\n",
       "      <td>1</td>\n",
       "      <td>1</td>\n",
       "      <td>1</td>\n",
       "      <td>0</td>\n",
       "      <td>1</td>\n",
       "      <td>0.33202</td>\n",
       "    </tr>\n",
       "    <tr>\n",
       "      <th>1</th>\n",
       "      <td>10</td>\n",
       "      <td>1</td>\n",
       "      <td>2</td>\n",
       "      <td>1</td>\n",
       "      <td>0</td>\n",
       "      <td>1</td>\n",
       "      <td>0.38187</td>\n",
       "    </tr>\n",
       "    <tr>\n",
       "      <th>2</th>\n",
       "      <td>10</td>\n",
       "      <td>1</td>\n",
       "      <td>3</td>\n",
       "      <td>1</td>\n",
       "      <td>0</td>\n",
       "      <td>1</td>\n",
       "      <td>0.34871</td>\n",
       "    </tr>\n",
       "    <tr>\n",
       "      <th>3</th>\n",
       "      <td>10</td>\n",
       "      <td>1</td>\n",
       "      <td>4</td>\n",
       "      <td>1</td>\n",
       "      <td>0</td>\n",
       "      <td>1</td>\n",
       "      <td>0.36529</td>\n",
       "    </tr>\n",
       "    <tr>\n",
       "      <th>4</th>\n",
       "      <td>10</td>\n",
       "      <td>1</td>\n",
       "      <td>5</td>\n",
       "      <td>1</td>\n",
       "      <td>0</td>\n",
       "      <td>1</td>\n",
       "      <td>0.34853</td>\n",
       "    </tr>\n",
       "    <tr>\n",
       "      <th>...</th>\n",
       "      <td>...</td>\n",
       "      <td>...</td>\n",
       "      <td>...</td>\n",
       "      <td>...</td>\n",
       "      <td>...</td>\n",
       "      <td>...</td>\n",
       "      <td>...</td>\n",
       "    </tr>\n",
       "    <tr>\n",
       "      <th>51195</th>\n",
       "      <td>9</td>\n",
       "      <td>4</td>\n",
       "      <td>156</td>\n",
       "      <td>2</td>\n",
       "      <td>0</td>\n",
       "      <td>1</td>\n",
       "      <td>0.41504</td>\n",
       "    </tr>\n",
       "    <tr>\n",
       "      <th>51196</th>\n",
       "      <td>9</td>\n",
       "      <td>4</td>\n",
       "      <td>157</td>\n",
       "      <td>2</td>\n",
       "      <td>2</td>\n",
       "      <td>1</td>\n",
       "      <td>0.34871</td>\n",
       "    </tr>\n",
       "    <tr>\n",
       "      <th>51197</th>\n",
       "      <td>9</td>\n",
       "      <td>4</td>\n",
       "      <td>158</td>\n",
       "      <td>2</td>\n",
       "      <td>2</td>\n",
       "      <td>1</td>\n",
       "      <td>0.41512</td>\n",
       "    </tr>\n",
       "    <tr>\n",
       "      <th>51198</th>\n",
       "      <td>9</td>\n",
       "      <td>4</td>\n",
       "      <td>159</td>\n",
       "      <td>2</td>\n",
       "      <td>2</td>\n",
       "      <td>1</td>\n",
       "      <td>0.48146</td>\n",
       "    </tr>\n",
       "    <tr>\n",
       "      <th>51199</th>\n",
       "      <td>9</td>\n",
       "      <td>4</td>\n",
       "      <td>160</td>\n",
       "      <td>2</td>\n",
       "      <td>0</td>\n",
       "      <td>1</td>\n",
       "      <td>0.36527</td>\n",
       "    </tr>\n",
       "  </tbody>\n",
       "</table>\n",
       "<p>51200 rows × 7 columns</p>\n",
       "</div>"
      ],
      "text/plain": [
       "       Participant  Block  Trial  Response_Level  Condition  Correct  \\\n",
       "0               10      1      1               1          0        1   \n",
       "1               10      1      2               1          0        1   \n",
       "2               10      1      3               1          0        1   \n",
       "3               10      1      4               1          0        1   \n",
       "4               10      1      5               1          0        1   \n",
       "...            ...    ...    ...             ...        ...      ...   \n",
       "51195            9      4    156               2          0        1   \n",
       "51196            9      4    157               2          2        1   \n",
       "51197            9      4    158               2          2        1   \n",
       "51198            9      4    159               2          2        1   \n",
       "51199            9      4    160               2          0        1   \n",
       "\n",
       "       Reaction_Time  \n",
       "0            0.33202  \n",
       "1            0.38187  \n",
       "2            0.34871  \n",
       "3            0.36529  \n",
       "4            0.34853  \n",
       "...              ...  \n",
       "51195        0.41504  \n",
       "51196        0.34871  \n",
       "51197        0.41512  \n",
       "51198        0.48146  \n",
       "51199        0.36527  \n",
       "\n",
       "[51200 rows x 7 columns]"
      ]
     },
     "execution_count": 54,
     "metadata": {},
     "output_type": "execute_result"
    }
   ],
   "source": [
    "df"
   ]
  },
  {
   "cell_type": "code",
   "execution_count": 55,
   "metadata": {},
   "outputs": [
    {
     "data": {
      "text/html": [
       "<div>\n",
       "<style scoped>\n",
       "    .dataframe tbody tr th:only-of-type {\n",
       "        vertical-align: middle;\n",
       "    }\n",
       "\n",
       "    .dataframe tbody tr th {\n",
       "        vertical-align: top;\n",
       "    }\n",
       "\n",
       "    .dataframe thead th {\n",
       "        text-align: right;\n",
       "    }\n",
       "</style>\n",
       "<table border=\"1\" class=\"dataframe\">\n",
       "  <thead>\n",
       "    <tr style=\"text-align: right;\">\n",
       "      <th></th>\n",
       "      <th>Participant</th>\n",
       "      <th>Block</th>\n",
       "      <th>Trial</th>\n",
       "      <th>Response_Level</th>\n",
       "      <th>Condition</th>\n",
       "      <th>Correct</th>\n",
       "      <th>Reaction_Time</th>\n",
       "    </tr>\n",
       "  </thead>\n",
       "  <tbody>\n",
       "    <tr>\n",
       "      <th>count</th>\n",
       "      <td>51200.000000</td>\n",
       "      <td>51200.000000</td>\n",
       "      <td>51200.00000</td>\n",
       "      <td>51200.000000</td>\n",
       "      <td>51200.00000</td>\n",
       "      <td>51200.000000</td>\n",
       "      <td>51200.000000</td>\n",
       "    </tr>\n",
       "    <tr>\n",
       "      <th>mean</th>\n",
       "      <td>22.225000</td>\n",
       "      <td>2.500000</td>\n",
       "      <td>80.50000</td>\n",
       "      <td>1.500000</td>\n",
       "      <td>1.00000</td>\n",
       "      <td>0.919727</td>\n",
       "      <td>0.484974</td>\n",
       "    </tr>\n",
       "    <tr>\n",
       "      <th>std</th>\n",
       "      <td>11.934285</td>\n",
       "      <td>1.118045</td>\n",
       "      <td>46.18757</td>\n",
       "      <td>0.500005</td>\n",
       "      <td>1.00001</td>\n",
       "      <td>0.271719</td>\n",
       "      <td>0.168873</td>\n",
       "    </tr>\n",
       "    <tr>\n",
       "      <th>min</th>\n",
       "      <td>1.000000</td>\n",
       "      <td>1.000000</td>\n",
       "      <td>1.00000</td>\n",
       "      <td>1.000000</td>\n",
       "      <td>0.00000</td>\n",
       "      <td>0.000000</td>\n",
       "      <td>0.018324</td>\n",
       "    </tr>\n",
       "    <tr>\n",
       "      <th>25%</th>\n",
       "      <td>12.750000</td>\n",
       "      <td>1.750000</td>\n",
       "      <td>40.75000</td>\n",
       "      <td>1.000000</td>\n",
       "      <td>0.00000</td>\n",
       "      <td>1.000000</td>\n",
       "      <td>0.398390</td>\n",
       "    </tr>\n",
       "    <tr>\n",
       "      <th>50%</th>\n",
       "      <td>22.500000</td>\n",
       "      <td>2.500000</td>\n",
       "      <td>80.50000</td>\n",
       "      <td>1.500000</td>\n",
       "      <td>1.00000</td>\n",
       "      <td>1.000000</td>\n",
       "      <td>0.450230</td>\n",
       "    </tr>\n",
       "    <tr>\n",
       "      <th>75%</th>\n",
       "      <td>32.250000</td>\n",
       "      <td>3.250000</td>\n",
       "      <td>120.25000</td>\n",
       "      <td>2.000000</td>\n",
       "      <td>2.00000</td>\n",
       "      <td>1.000000</td>\n",
       "      <td>0.533520</td>\n",
       "    </tr>\n",
       "    <tr>\n",
       "      <th>max</th>\n",
       "      <td>42.000000</td>\n",
       "      <td>4.000000</td>\n",
       "      <td>160.00000</td>\n",
       "      <td>2.000000</td>\n",
       "      <td>2.00000</td>\n",
       "      <td>1.000000</td>\n",
       "      <td>7.832300</td>\n",
       "    </tr>\n",
       "  </tbody>\n",
       "</table>\n",
       "</div>"
      ],
      "text/plain": [
       "        Participant         Block        Trial  Response_Level    Condition  \\\n",
       "count  51200.000000  51200.000000  51200.00000    51200.000000  51200.00000   \n",
       "mean      22.225000      2.500000     80.50000        1.500000      1.00000   \n",
       "std       11.934285      1.118045     46.18757        0.500005      1.00001   \n",
       "min        1.000000      1.000000      1.00000        1.000000      0.00000   \n",
       "25%       12.750000      1.750000     40.75000        1.000000      0.00000   \n",
       "50%       22.500000      2.500000     80.50000        1.500000      1.00000   \n",
       "75%       32.250000      3.250000    120.25000        2.000000      2.00000   \n",
       "max       42.000000      4.000000    160.00000        2.000000      2.00000   \n",
       "\n",
       "            Correct  Reaction_Time  \n",
       "count  51200.000000   51200.000000  \n",
       "mean       0.919727       0.484974  \n",
       "std        0.271719       0.168873  \n",
       "min        0.000000       0.018324  \n",
       "25%        1.000000       0.398390  \n",
       "50%        1.000000       0.450230  \n",
       "75%        1.000000       0.533520  \n",
       "max        1.000000       7.832300  "
      ]
     },
     "execution_count": 55,
     "metadata": {},
     "output_type": "execute_result"
    }
   ],
   "source": [
    "df.describe()"
   ]
  },
  {
   "cell_type": "code",
   "execution_count": 57,
   "metadata": {},
   "outputs": [
    {
     "name": "stdout",
     "output_type": "stream",
     "text": [
      "<class 'pandas.core.frame.DataFrame'>\n",
      "RangeIndex: 51200 entries, 0 to 51199\n",
      "Data columns (total 7 columns):\n",
      " #   Column          Non-Null Count  Dtype  \n",
      "---  ------          --------------  -----  \n",
      " 0   Participant     51200 non-null  object \n",
      " 1   Block           51200 non-null  int64  \n",
      " 2   Trial           51200 non-null  int64  \n",
      " 3   Response_Level  51200 non-null  int64  \n",
      " 4   Condition       51200 non-null  int64  \n",
      " 5   Correct         51200 non-null  int64  \n",
      " 6   Reaction_Time   51200 non-null  float64\n",
      "dtypes: float64(1), int64(5), object(1)\n",
      "memory usage: 2.7+ MB\n"
     ]
    }
   ],
   "source": [
    "df.info()"
   ]
  },
  {
   "cell_type": "code",
   "execution_count": 59,
   "metadata": {},
   "outputs": [
    {
     "data": {
      "text/html": [
       "<div>\n",
       "<style scoped>\n",
       "    .dataframe tbody tr th:only-of-type {\n",
       "        vertical-align: middle;\n",
       "    }\n",
       "\n",
       "    .dataframe tbody tr th {\n",
       "        vertical-align: top;\n",
       "    }\n",
       "\n",
       "    .dataframe thead th {\n",
       "        text-align: right;\n",
       "    }\n",
       "</style>\n",
       "<table border=\"1\" class=\"dataframe\">\n",
       "  <thead>\n",
       "    <tr style=\"text-align: right;\">\n",
       "      <th></th>\n",
       "      <th>Participant</th>\n",
       "      <th>Block</th>\n",
       "      <th>Trial</th>\n",
       "      <th>Response_Level</th>\n",
       "      <th>Condition</th>\n",
       "      <th>Correct</th>\n",
       "      <th>Reaction_Time</th>\n",
       "    </tr>\n",
       "  </thead>\n",
       "  <tbody>\n",
       "    <tr>\n",
       "      <th>0</th>\n",
       "      <td>10</td>\n",
       "      <td>1</td>\n",
       "      <td>1</td>\n",
       "      <td>1</td>\n",
       "      <td>0</td>\n",
       "      <td>1</td>\n",
       "      <td>0.33202</td>\n",
       "    </tr>\n",
       "    <tr>\n",
       "      <th>1</th>\n",
       "      <td>10</td>\n",
       "      <td>1</td>\n",
       "      <td>2</td>\n",
       "      <td>1</td>\n",
       "      <td>0</td>\n",
       "      <td>1</td>\n",
       "      <td>0.38187</td>\n",
       "    </tr>\n",
       "    <tr>\n",
       "      <th>2</th>\n",
       "      <td>10</td>\n",
       "      <td>1</td>\n",
       "      <td>3</td>\n",
       "      <td>1</td>\n",
       "      <td>0</td>\n",
       "      <td>1</td>\n",
       "      <td>0.34871</td>\n",
       "    </tr>\n",
       "    <tr>\n",
       "      <th>3</th>\n",
       "      <td>10</td>\n",
       "      <td>1</td>\n",
       "      <td>4</td>\n",
       "      <td>1</td>\n",
       "      <td>0</td>\n",
       "      <td>1</td>\n",
       "      <td>0.36529</td>\n",
       "    </tr>\n",
       "    <tr>\n",
       "      <th>4</th>\n",
       "      <td>10</td>\n",
       "      <td>1</td>\n",
       "      <td>5</td>\n",
       "      <td>1</td>\n",
       "      <td>0</td>\n",
       "      <td>1</td>\n",
       "      <td>0.34853</td>\n",
       "    </tr>\n",
       "  </tbody>\n",
       "</table>\n",
       "</div>"
      ],
      "text/plain": [
       "  Participant  Block  Trial  Response_Level  Condition  Correct  Reaction_Time\n",
       "0          10      1      1               1          0        1        0.33202\n",
       "1          10      1      2               1          0        1        0.38187\n",
       "2          10      1      3               1          0        1        0.34871\n",
       "3          10      1      4               1          0        1        0.36529\n",
       "4          10      1      5               1          0        1        0.34853"
      ]
     },
     "execution_count": 59,
     "metadata": {},
     "output_type": "execute_result"
    }
   ],
   "source": [
    "df['Participant'] = df['Participant'].astype('string')\n",
    "df.head()"
   ]
  },
  {
   "cell_type": "code",
   "execution_count": 60,
   "metadata": {},
   "outputs": [
    {
     "name": "stdout",
     "output_type": "stream",
     "text": [
      "<class 'pandas.core.frame.DataFrame'>\n",
      "RangeIndex: 51200 entries, 0 to 51199\n",
      "Data columns (total 7 columns):\n",
      " #   Column          Non-Null Count  Dtype  \n",
      "---  ------          --------------  -----  \n",
      " 0   Participant     51200 non-null  string \n",
      " 1   Block           51200 non-null  int64  \n",
      " 2   Trial           51200 non-null  int64  \n",
      " 3   Response_Level  51200 non-null  int64  \n",
      " 4   Condition       51200 non-null  int64  \n",
      " 5   Correct         51200 non-null  int64  \n",
      " 6   Reaction_Time   51200 non-null  float64\n",
      "dtypes: float64(1), int64(5), string(1)\n",
      "memory usage: 2.7 MB\n"
     ]
    }
   ],
   "source": [
    "df.info()"
   ]
  },
  {
   "cell_type": "code",
   "execution_count": 62,
   "metadata": {},
   "outputs": [
    {
     "data": {
      "text/html": [
       "<div>\n",
       "<style scoped>\n",
       "    .dataframe tbody tr th:only-of-type {\n",
       "        vertical-align: middle;\n",
       "    }\n",
       "\n",
       "    .dataframe tbody tr th {\n",
       "        vertical-align: top;\n",
       "    }\n",
       "\n",
       "    .dataframe thead th {\n",
       "        text-align: right;\n",
       "    }\n",
       "</style>\n",
       "<table border=\"1\" class=\"dataframe\">\n",
       "  <thead>\n",
       "    <tr style=\"text-align: right;\">\n",
       "      <th></th>\n",
       "      <th>Participant</th>\n",
       "      <th>Block</th>\n",
       "      <th>Trial</th>\n",
       "      <th>Response_Level</th>\n",
       "      <th>Condition</th>\n",
       "      <th>Correct</th>\n",
       "      <th>Reaction_Time</th>\n",
       "    </tr>\n",
       "  </thead>\n",
       "  <tbody>\n",
       "    <tr>\n",
       "      <th>count</th>\n",
       "      <td>51200</td>\n",
       "      <td>51200.000000</td>\n",
       "      <td>51200.00000</td>\n",
       "      <td>51200.000000</td>\n",
       "      <td>51200.00000</td>\n",
       "      <td>51200.000000</td>\n",
       "      <td>51200.000000</td>\n",
       "    </tr>\n",
       "    <tr>\n",
       "      <th>unique</th>\n",
       "      <td>40</td>\n",
       "      <td>NaN</td>\n",
       "      <td>NaN</td>\n",
       "      <td>NaN</td>\n",
       "      <td>NaN</td>\n",
       "      <td>NaN</td>\n",
       "      <td>NaN</td>\n",
       "    </tr>\n",
       "    <tr>\n",
       "      <th>top</th>\n",
       "      <td>10</td>\n",
       "      <td>NaN</td>\n",
       "      <td>NaN</td>\n",
       "      <td>NaN</td>\n",
       "      <td>NaN</td>\n",
       "      <td>NaN</td>\n",
       "      <td>NaN</td>\n",
       "    </tr>\n",
       "    <tr>\n",
       "      <th>freq</th>\n",
       "      <td>1280</td>\n",
       "      <td>NaN</td>\n",
       "      <td>NaN</td>\n",
       "      <td>NaN</td>\n",
       "      <td>NaN</td>\n",
       "      <td>NaN</td>\n",
       "      <td>NaN</td>\n",
       "    </tr>\n",
       "    <tr>\n",
       "      <th>mean</th>\n",
       "      <td>NaN</td>\n",
       "      <td>2.500000</td>\n",
       "      <td>80.50000</td>\n",
       "      <td>1.500000</td>\n",
       "      <td>1.00000</td>\n",
       "      <td>0.919727</td>\n",
       "      <td>0.484974</td>\n",
       "    </tr>\n",
       "    <tr>\n",
       "      <th>std</th>\n",
       "      <td>NaN</td>\n",
       "      <td>1.118045</td>\n",
       "      <td>46.18757</td>\n",
       "      <td>0.500005</td>\n",
       "      <td>1.00001</td>\n",
       "      <td>0.271719</td>\n",
       "      <td>0.168873</td>\n",
       "    </tr>\n",
       "    <tr>\n",
       "      <th>min</th>\n",
       "      <td>NaN</td>\n",
       "      <td>1.000000</td>\n",
       "      <td>1.00000</td>\n",
       "      <td>1.000000</td>\n",
       "      <td>0.00000</td>\n",
       "      <td>0.000000</td>\n",
       "      <td>0.018324</td>\n",
       "    </tr>\n",
       "    <tr>\n",
       "      <th>25%</th>\n",
       "      <td>NaN</td>\n",
       "      <td>1.750000</td>\n",
       "      <td>40.75000</td>\n",
       "      <td>1.000000</td>\n",
       "      <td>0.00000</td>\n",
       "      <td>1.000000</td>\n",
       "      <td>0.398390</td>\n",
       "    </tr>\n",
       "    <tr>\n",
       "      <th>50%</th>\n",
       "      <td>NaN</td>\n",
       "      <td>2.500000</td>\n",
       "      <td>80.50000</td>\n",
       "      <td>1.500000</td>\n",
       "      <td>1.00000</td>\n",
       "      <td>1.000000</td>\n",
       "      <td>0.450230</td>\n",
       "    </tr>\n",
       "    <tr>\n",
       "      <th>75%</th>\n",
       "      <td>NaN</td>\n",
       "      <td>3.250000</td>\n",
       "      <td>120.25000</td>\n",
       "      <td>2.000000</td>\n",
       "      <td>2.00000</td>\n",
       "      <td>1.000000</td>\n",
       "      <td>0.533520</td>\n",
       "    </tr>\n",
       "    <tr>\n",
       "      <th>max</th>\n",
       "      <td>NaN</td>\n",
       "      <td>4.000000</td>\n",
       "      <td>160.00000</td>\n",
       "      <td>2.000000</td>\n",
       "      <td>2.00000</td>\n",
       "      <td>1.000000</td>\n",
       "      <td>7.832300</td>\n",
       "    </tr>\n",
       "  </tbody>\n",
       "</table>\n",
       "</div>"
      ],
      "text/plain": [
       "       Participant         Block        Trial  Response_Level    Condition  \\\n",
       "count        51200  51200.000000  51200.00000    51200.000000  51200.00000   \n",
       "unique          40           NaN          NaN             NaN          NaN   \n",
       "top             10           NaN          NaN             NaN          NaN   \n",
       "freq          1280           NaN          NaN             NaN          NaN   \n",
       "mean           NaN      2.500000     80.50000        1.500000      1.00000   \n",
       "std            NaN      1.118045     46.18757        0.500005      1.00001   \n",
       "min            NaN      1.000000      1.00000        1.000000      0.00000   \n",
       "25%            NaN      1.750000     40.75000        1.000000      0.00000   \n",
       "50%            NaN      2.500000     80.50000        1.500000      1.00000   \n",
       "75%            NaN      3.250000    120.25000        2.000000      2.00000   \n",
       "max            NaN      4.000000    160.00000        2.000000      2.00000   \n",
       "\n",
       "             Correct  Reaction_Time  \n",
       "count   51200.000000   51200.000000  \n",
       "unique           NaN            NaN  \n",
       "top              NaN            NaN  \n",
       "freq             NaN            NaN  \n",
       "mean        0.919727       0.484974  \n",
       "std         0.271719       0.168873  \n",
       "min         0.000000       0.018324  \n",
       "25%         1.000000       0.398390  \n",
       "50%         1.000000       0.450230  \n",
       "75%         1.000000       0.533520  \n",
       "max         1.000000       7.832300  "
      ]
     },
     "execution_count": 62,
     "metadata": {},
     "output_type": "execute_result"
    }
   ],
   "source": [
    "df.describe(include='all')"
   ]
  },
  {
   "cell_type": "markdown",
   "metadata": {},
   "source": [
    "#### Aggregate to a subject level data set"
   ]
  },
  {
   "cell_type": "code",
   "execution_count": 63,
   "metadata": {},
   "outputs": [
    {
     "data": {
      "text/html": [
       "<div>\n",
       "<style scoped>\n",
       "    .dataframe tbody tr th:only-of-type {\n",
       "        vertical-align: middle;\n",
       "    }\n",
       "\n",
       "    .dataframe tbody tr th {\n",
       "        vertical-align: top;\n",
       "    }\n",
       "\n",
       "    .dataframe thead th {\n",
       "        text-align: right;\n",
       "    }\n",
       "</style>\n",
       "<table border=\"1\" class=\"dataframe\">\n",
       "  <thead>\n",
       "    <tr style=\"text-align: right;\">\n",
       "      <th></th>\n",
       "      <th>Participant</th>\n",
       "      <th>Response_Level</th>\n",
       "      <th>Condition</th>\n",
       "      <th>Reaction_Time</th>\n",
       "    </tr>\n",
       "  </thead>\n",
       "  <tbody>\n",
       "    <tr>\n",
       "      <th>0</th>\n",
       "      <td>1</td>\n",
       "      <td>1</td>\n",
       "      <td>0</td>\n",
       "      <td>0.522242</td>\n",
       "    </tr>\n",
       "    <tr>\n",
       "      <th>1</th>\n",
       "      <td>1</td>\n",
       "      <td>1</td>\n",
       "      <td>2</td>\n",
       "      <td>0.578465</td>\n",
       "    </tr>\n",
       "    <tr>\n",
       "      <th>2</th>\n",
       "      <td>1</td>\n",
       "      <td>2</td>\n",
       "      <td>0</td>\n",
       "      <td>0.495219</td>\n",
       "    </tr>\n",
       "    <tr>\n",
       "      <th>3</th>\n",
       "      <td>1</td>\n",
       "      <td>2</td>\n",
       "      <td>2</td>\n",
       "      <td>0.479048</td>\n",
       "    </tr>\n",
       "    <tr>\n",
       "      <th>4</th>\n",
       "      <td>10</td>\n",
       "      <td>1</td>\n",
       "      <td>0</td>\n",
       "      <td>0.431609</td>\n",
       "    </tr>\n",
       "    <tr>\n",
       "      <th>...</th>\n",
       "      <td>...</td>\n",
       "      <td>...</td>\n",
       "      <td>...</td>\n",
       "      <td>...</td>\n",
       "    </tr>\n",
       "    <tr>\n",
       "      <th>155</th>\n",
       "      <td>8</td>\n",
       "      <td>2</td>\n",
       "      <td>2</td>\n",
       "      <td>0.454224</td>\n",
       "    </tr>\n",
       "    <tr>\n",
       "      <th>156</th>\n",
       "      <td>9</td>\n",
       "      <td>1</td>\n",
       "      <td>0</td>\n",
       "      <td>0.453686</td>\n",
       "    </tr>\n",
       "    <tr>\n",
       "      <th>157</th>\n",
       "      <td>9</td>\n",
       "      <td>1</td>\n",
       "      <td>2</td>\n",
       "      <td>0.505854</td>\n",
       "    </tr>\n",
       "    <tr>\n",
       "      <th>158</th>\n",
       "      <td>9</td>\n",
       "      <td>2</td>\n",
       "      <td>0</td>\n",
       "      <td>0.397113</td>\n",
       "    </tr>\n",
       "    <tr>\n",
       "      <th>159</th>\n",
       "      <td>9</td>\n",
       "      <td>2</td>\n",
       "      <td>2</td>\n",
       "      <td>0.403381</td>\n",
       "    </tr>\n",
       "  </tbody>\n",
       "</table>\n",
       "<p>160 rows × 4 columns</p>\n",
       "</div>"
      ],
      "text/plain": [
       "    Participant  Response_Level  Condition  Reaction_Time\n",
       "0             1               1          0       0.522242\n",
       "1             1               1          2       0.578465\n",
       "2             1               2          0       0.495219\n",
       "3             1               2          2       0.479048\n",
       "4            10               1          0       0.431609\n",
       "..          ...             ...        ...            ...\n",
       "155           8               2          2       0.454224\n",
       "156           9               1          0       0.453686\n",
       "157           9               1          2       0.505854\n",
       "158           9               2          0       0.397113\n",
       "159           9               2          2       0.403381\n",
       "\n",
       "[160 rows x 4 columns]"
      ]
     },
     "execution_count": 63,
     "metadata": {},
     "output_type": "execute_result"
    }
   ],
   "source": [
    "group_vars = ['Participant', 'Response_Level', 'Condition']\n",
    "subj_lvl_df = df.groupby(group_vars)['Reaction_Time'].mean().reset_index()\n",
    "subj_lvl_df"
   ]
  },
  {
   "cell_type": "markdown",
   "metadata": {},
   "source": [
    "### Exercise"
   ]
  },
  {
   "cell_type": "markdown",
   "metadata": {},
   "source": [
    "1. What is the mean RT across all participants?"
   ]
  },
  {
   "cell_type": "code",
   "execution_count": null,
   "metadata": {},
   "outputs": [],
   "source": []
  },
  {
   "cell_type": "markdown",
   "metadata": {},
   "source": [
    "2. Copy and modify the above code to calculate the mean RT *after removing inaccurate responses*."
   ]
  },
  {
   "cell_type": "code",
   "execution_count": null,
   "metadata": {},
   "outputs": [],
   "source": []
  },
  {
   "cell_type": "markdown",
   "metadata": {},
   "source": [
    "3. Draw the distribution of per-subject mean RT."
   ]
  },
  {
   "cell_type": "markdown",
   "metadata": {},
   "source": [
    "## Hypothesis testing"
   ]
  },
  {
   "cell_type": "markdown",
   "metadata": {},
   "source": [
    "#### Paired T-test between Condition Levels\n",
    "\n",
    "A paired samples t-test to compare the mean reaction times between Congruent and Incongruent conditions within participants."
   ]
  },
  {
   "cell_type": "code",
   "execution_count": 81,
   "metadata": {},
   "outputs": [
    {
     "data": {
      "text/html": [
       "<div>\n",
       "<style scoped>\n",
       "    .dataframe tbody tr th:only-of-type {\n",
       "        vertical-align: middle;\n",
       "    }\n",
       "\n",
       "    .dataframe tbody tr th {\n",
       "        vertical-align: top;\n",
       "    }\n",
       "\n",
       "    .dataframe thead th {\n",
       "        text-align: right;\n",
       "    }\n",
       "</style>\n",
       "<table border=\"1\" class=\"dataframe\">\n",
       "  <thead>\n",
       "    <tr style=\"text-align: right;\">\n",
       "      <th></th>\n",
       "      <th>Participant</th>\n",
       "      <th>Condition</th>\n",
       "      <th>Response_Level</th>\n",
       "      <th>Reaction_Time</th>\n",
       "    </tr>\n",
       "  </thead>\n",
       "  <tbody>\n",
       "    <tr>\n",
       "      <th>0</th>\n",
       "      <td>1</td>\n",
       "      <td>0</td>\n",
       "      <td>1.5</td>\n",
       "      <td>0.508730</td>\n",
       "    </tr>\n",
       "    <tr>\n",
       "      <th>1</th>\n",
       "      <td>1</td>\n",
       "      <td>2</td>\n",
       "      <td>1.5</td>\n",
       "      <td>0.528757</td>\n",
       "    </tr>\n",
       "    <tr>\n",
       "      <th>2</th>\n",
       "      <td>10</td>\n",
       "      <td>0</td>\n",
       "      <td>1.5</td>\n",
       "      <td>0.410761</td>\n",
       "    </tr>\n",
       "    <tr>\n",
       "      <th>3</th>\n",
       "      <td>10</td>\n",
       "      <td>2</td>\n",
       "      <td>1.5</td>\n",
       "      <td>0.440209</td>\n",
       "    </tr>\n",
       "    <tr>\n",
       "      <th>4</th>\n",
       "      <td>12</td>\n",
       "      <td>0</td>\n",
       "      <td>1.5</td>\n",
       "      <td>0.418198</td>\n",
       "    </tr>\n",
       "  </tbody>\n",
       "</table>\n",
       "</div>"
      ],
      "text/plain": [
       "  Participant  Condition  Response_Level  Reaction_Time\n",
       "0           1          0             1.5       0.508730\n",
       "1           1          2             1.5       0.528757\n",
       "2          10          0             1.5       0.410761\n",
       "3          10          2             1.5       0.440209\n",
       "4          12          0             1.5       0.418198"
      ]
     },
     "execution_count": 81,
     "metadata": {},
     "output_type": "execute_result"
    }
   ],
   "source": [
    "subj_lvl_Condition_df = subj_lvl_df.groupby(['Participant', 'Condition']).mean().reset_index()\n",
    "subj_lvl_Condition_df.head()"
   ]
  },
  {
   "cell_type": "code",
   "execution_count": 79,
   "metadata": {},
   "outputs": [
    {
     "data": {
      "text/html": [
       "<div>\n",
       "<style scoped>\n",
       "    .dataframe tbody tr th:only-of-type {\n",
       "        vertical-align: middle;\n",
       "    }\n",
       "\n",
       "    .dataframe tbody tr th {\n",
       "        vertical-align: top;\n",
       "    }\n",
       "\n",
       "    .dataframe thead th {\n",
       "        text-align: right;\n",
       "    }\n",
       "</style>\n",
       "<table border=\"1\" class=\"dataframe\">\n",
       "  <thead>\n",
       "    <tr style=\"text-align: right;\">\n",
       "      <th></th>\n",
       "      <th>Reaction_Time_Congruent</th>\n",
       "      <th>Reaction_Time_Incongruent</th>\n",
       "    </tr>\n",
       "    <tr>\n",
       "      <th>Participant</th>\n",
       "      <th></th>\n",
       "      <th></th>\n",
       "    </tr>\n",
       "  </thead>\n",
       "  <tbody>\n",
       "    <tr>\n",
       "      <th>1</th>\n",
       "      <td>0.508730</td>\n",
       "      <td>0.528757</td>\n",
       "    </tr>\n",
       "    <tr>\n",
       "      <th>10</th>\n",
       "      <td>0.410761</td>\n",
       "      <td>0.440209</td>\n",
       "    </tr>\n",
       "    <tr>\n",
       "      <th>12</th>\n",
       "      <td>0.418198</td>\n",
       "      <td>0.438786</td>\n",
       "    </tr>\n",
       "    <tr>\n",
       "      <th>13</th>\n",
       "      <td>0.488570</td>\n",
       "      <td>0.525495</td>\n",
       "    </tr>\n",
       "    <tr>\n",
       "      <th>14</th>\n",
       "      <td>0.503165</td>\n",
       "      <td>0.529868</td>\n",
       "    </tr>\n",
       "  </tbody>\n",
       "</table>\n",
       "</div>"
      ],
      "text/plain": [
       "             Reaction_Time_Congruent  Reaction_Time_Incongruent\n",
       "Participant                                                    \n",
       "1                           0.508730                   0.528757\n",
       "10                          0.410761                   0.440209\n",
       "12                          0.418198                   0.438786\n",
       "13                          0.488570                   0.525495\n",
       "14                          0.503165                   0.529868"
      ]
     },
     "execution_count": 79,
     "metadata": {},
     "output_type": "execute_result"
    }
   ],
   "source": [
    "\n",
    "# Filter data for Congruent and Incongruent conditions\n",
    "congruent_rt = subj_lvl_Condition_df[subj_lvl_Condition_df['Condition'] == 0][['Participant', 'Reaction_Time']].set_index('Participant')\n",
    "incongruent_rt = subj_lvl_Condition_df[subj_lvl_Condition_df['Condition'] == 2][['Participant', 'Reaction_Time']].set_index('Participant')\n",
    "\n",
    "# Join the dataframes on Participant\n",
    "paired_rt = congruent_rt.join(incongruent_rt, lsuffix='_Congruent', rsuffix='_Incongruent')\n",
    "paired_rt.head()"
   ]
  },
  {
   "cell_type": "code",
   "execution_count": 80,
   "metadata": {},
   "outputs": [
    {
     "name": "stdout",
     "output_type": "stream",
     "text": [
      "T-statistic: -20.891420606655952, P-value: 8.77923871341617e-23\n"
     ]
    }
   ],
   "source": [
    "# Perform paired t-test\n",
    "from scipy.stats import ttest_rel\n",
    "\n",
    "t_stat, p_value = ttest_rel(paired_rt['Reaction_Time_Congruent'], paired_rt['Reaction_Time_Incongruent'])"
   ]
  },
  {
   "cell_type": "code",
   "execution_count": 103,
   "metadata": {},
   "outputs": [],
   "source": [
    "# Calculate means and standard deviations\n",
    "means = paired_rt[['Reaction_Time_Congruent', 'Reaction_Time_Incongruent']].mean()\n",
    "sems = paired_rt[['Reaction_Time_Congruent', 'Reaction_Time_Incongruent']].sem()"
   ]
  },
  {
   "cell_type": "code",
   "execution_count": 104,
   "metadata": {},
   "outputs": [
    {
     "data": {
      "image/png": "[encoded data removed]",
      "text/plain": [
       "<Figure size 500x300 with 1 Axes>"
      ]
     },
     "metadata": {},
     "output_type": "display_data"
    }
   ],
   "source": [
    "# Plot the means and standard deviations\n",
    "plt.figure(figsize=(5, 3))\n",
    "conditions = ['Congruent', 'Incongruent']\n",
    "plt.bar(conditions, means, yerr=sems, capsize=5)\n",
    "plt.title('Mean Reaction Times for Congruent and Incongruent Conditions')\n",
    "plt.xlabel('Condition')\n",
    "plt.ylabel('Mean Reaction Time (seconds)')\n",
    "plt.show()"
   ]
  },
  {
   "cell_type": "markdown",
   "metadata": {},
   "source": [
    "#### ANOVA of Response Level X Condition\n",
    "\n",
    "We will use a two-way repeated measures ANOVA to examine the interaction effect between Response Level and Condition on Reaction Time within participants."
   ]
  },
  {
   "cell_type": "code",
   "execution_count": 111,
   "metadata": {},
   "outputs": [
    {
     "data": {
      "text/html": [
       "<div>\n",
       "<style scoped>\n",
       "    .dataframe tbody tr th:only-of-type {\n",
       "        vertical-align: middle;\n",
       "    }\n",
       "\n",
       "    .dataframe tbody tr th {\n",
       "        vertical-align: top;\n",
       "    }\n",
       "\n",
       "    .dataframe thead th {\n",
       "        text-align: right;\n",
       "    }\n",
       "</style>\n",
       "<table border=\"1\" class=\"dataframe\">\n",
       "  <thead>\n",
       "    <tr style=\"text-align: right;\">\n",
       "      <th></th>\n",
       "      <th>Participant</th>\n",
       "      <th>Response_Level</th>\n",
       "      <th>Condition</th>\n",
       "      <th>Reaction_Time</th>\n",
       "    </tr>\n",
       "  </thead>\n",
       "  <tbody>\n",
       "    <tr>\n",
       "      <th>0</th>\n",
       "      <td>1</td>\n",
       "      <td>1</td>\n",
       "      <td>0</td>\n",
       "      <td>0.522242</td>\n",
       "    </tr>\n",
       "    <tr>\n",
       "      <th>1</th>\n",
       "      <td>1</td>\n",
       "      <td>1</td>\n",
       "      <td>2</td>\n",
       "      <td>0.578465</td>\n",
       "    </tr>\n",
       "    <tr>\n",
       "      <th>2</th>\n",
       "      <td>1</td>\n",
       "      <td>2</td>\n",
       "      <td>0</td>\n",
       "      <td>0.495219</td>\n",
       "    </tr>\n",
       "    <tr>\n",
       "      <th>3</th>\n",
       "      <td>1</td>\n",
       "      <td>2</td>\n",
       "      <td>2</td>\n",
       "      <td>0.479048</td>\n",
       "    </tr>\n",
       "    <tr>\n",
       "      <th>4</th>\n",
       "      <td>10</td>\n",
       "      <td>1</td>\n",
       "      <td>0</td>\n",
       "      <td>0.431609</td>\n",
       "    </tr>\n",
       "    <tr>\n",
       "      <th>...</th>\n",
       "      <td>...</td>\n",
       "      <td>...</td>\n",
       "      <td>...</td>\n",
       "      <td>...</td>\n",
       "    </tr>\n",
       "    <tr>\n",
       "      <th>155</th>\n",
       "      <td>8</td>\n",
       "      <td>2</td>\n",
       "      <td>2</td>\n",
       "      <td>0.454224</td>\n",
       "    </tr>\n",
       "    <tr>\n",
       "      <th>156</th>\n",
       "      <td>9</td>\n",
       "      <td>1</td>\n",
       "      <td>0</td>\n",
       "      <td>0.453686</td>\n",
       "    </tr>\n",
       "    <tr>\n",
       "      <th>157</th>\n",
       "      <td>9</td>\n",
       "      <td>1</td>\n",
       "      <td>2</td>\n",
       "      <td>0.505854</td>\n",
       "    </tr>\n",
       "    <tr>\n",
       "      <th>158</th>\n",
       "      <td>9</td>\n",
       "      <td>2</td>\n",
       "      <td>0</td>\n",
       "      <td>0.397113</td>\n",
       "    </tr>\n",
       "    <tr>\n",
       "      <th>159</th>\n",
       "      <td>9</td>\n",
       "      <td>2</td>\n",
       "      <td>2</td>\n",
       "      <td>0.403381</td>\n",
       "    </tr>\n",
       "  </tbody>\n",
       "</table>\n",
       "<p>160 rows × 4 columns</p>\n",
       "</div>"
      ],
      "text/plain": [
       "    Participant  Response_Level  Condition  Reaction_Time\n",
       "0             1               1          0       0.522242\n",
       "1             1               1          2       0.578465\n",
       "2             1               2          0       0.495219\n",
       "3             1               2          2       0.479048\n",
       "4            10               1          0       0.431609\n",
       "..          ...             ...        ...            ...\n",
       "155           8               2          2       0.454224\n",
       "156           9               1          0       0.453686\n",
       "157           9               1          2       0.505854\n",
       "158           9               2          0       0.397113\n",
       "159           9               2          2       0.403381\n",
       "\n",
       "[160 rows x 4 columns]"
      ]
     },
     "execution_count": 111,
     "metadata": {},
     "output_type": "execute_result"
    }
   ],
   "source": [
    "subj_lvl_df"
   ]
  },
  {
   "cell_type": "code",
   "execution_count": 108,
   "metadata": {},
   "outputs": [
    {
     "name": "stdout",
     "output_type": "stream",
     "text": [
      "                         Anova\n",
      "=======================================================\n",
      "                         F Value  Num DF  Den DF Pr > F\n",
      "-------------------------------------------------------\n",
      "Response_Level           799.2310 1.0000 39.0000 0.0000\n",
      "Condition                436.4515 1.0000 39.0000 0.0000\n",
      "Response_Level:Condition 489.3814 1.0000 39.0000 0.0000\n",
      "=======================================================\n",
      "\n"
     ]
    }
   ],
   "source": [
    "# Prepare data for repeated measures ANOVA\n",
    "import statsmodels.api as sm\n",
    "from statsmodels.formula.api import ols\n",
    "from statsmodels.stats.anova import AnovaRM\n",
    "\n",
    "# Recode 'Participant' as a factor\n",
    "subj_lvl_df['Participant'] = subj_lvl_df['Participant'].astype('category')\n",
    "\n",
    "# Fit the model\n",
    "model = AnovaRM(data=subj_lvl_df,\n",
    "                depvar='Reaction_Time',\n",
    "                subject='Participant',\n",
    "                within=['Response_Level', 'Condition'])\n",
    "anova_results = model.fit()\n",
    "print(anova_results.summary())"
   ]
  },
  {
   "cell_type": "code",
   "execution_count": 110,
   "metadata": {},
   "outputs": [
    {
     "data": {
      "image/png": "[encoded data removed]",
      "text/plain": [
       "<Figure size 500x300 with 1 Axes>"
      ]
     },
     "metadata": {},
     "output_type": "display_data"
    }
   ],
   "source": [
    "# Calculate means for the interaction plot\n",
    "interaction_means = subj_lvl_df.groupby(['Response_Level', 'Condition'])['Reaction_Time'].mean().unstack()\n",
    "interaction_errors = subj_lvl_df.groupby(['Response_Level', 'Condition'])['Reaction_Time'].sem().unstack()\n",
    "\n",
    "# Plot the interaction means with standard errors\n",
    "interaction_means.plot(kind='bar', yerr=interaction_errors, figsize=(5, 3), capsize=5)\n",
    "plt.title('Mean Reaction Times by Response Level and Condition')\n",
    "plt.xlabel('Response Level')\n",
    "plt.ylabel('Mean Reaction Time (seconds)')\n",
    "plt.legend(title='Condition')\n",
    "plt.show()"
   ]
  }
 ],
 "metadata": {
  "kernelspec": {
   "display_name": "Python 3 (ipykernel)",
   "language": "python",
   "name": "python3"
  },
  "language_info": {
   "codemirror_mode": {
    "name": "ipython",
    "version": 3
   },
   "file_extension": ".py",
   "mimetype": "text/x-python",
   "name": "python",
   "nbconvert_exporter": "python",
   "pygments_lexer": "ipython3",
   "version": "3.9.7"
  }
 },
 "nbformat": 4,
 "nbformat_minor": 4
}
