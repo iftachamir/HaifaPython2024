{
 "cells": [
  {
   "cell_type": "markdown",
   "id": "7787db2a-ee9c-45b9-8696-61547c9ff855",
   "metadata": {},
   "source": [
    "# Opening files and reading data\n",
    "\n",
    "## Opening and looping over a text file"
   ]
  },
  {
   "cell_type": "markdown",
   "id": "309bde8b-0d52-4d4c-bab3-e138ed2eea2d",
   "metadata": {
    "tags": []
   },
   "source": [
    "### Opening a file - straightforward way"
   ]
  },
  {
   "cell_type": "code",
   "execution_count": null,
   "id": "f701a3d3-b7cc-41dc-88ec-37181dee80fd",
   "metadata": {},
   "outputs": [],
   "source": [
    "# Open a text file and save into variable f \n",
    "f = open('This is just to say.txt')\n",
    "print(type(f))\n",
    "print(f)"
   ]
  },
  {
   "cell_type": "code",
   "execution_count": null,
   "id": "451276bf-e197-4453-86ee-aa308a1f6301",
   "metadata": {},
   "outputs": [],
   "source": [
    "f_str = f.read()\n",
    "f_str"
   ]
  },
  {
   "cell_type": "code",
   "execution_count": null,
   "id": "dbeab710-a8dd-470c-954c-ec2768e1978b",
   "metadata": {},
   "outputs": [],
   "source": [
    "type(f_str)"
   ]
  },
  {
   "cell_type": "markdown",
   "id": "4adc8da2-1b3b-4d3d-ac1b-d4ea703e53d0",
   "metadata": {
    "tags": []
   },
   "source": [
    "#### Closing a file - IMPORTANT!\n",
    "When opening a file using `open()` it's __important__ to remember to close the file. Otherwise, you may have problems later on..."
   ]
  },
  {
   "cell_type": "code",
   "execution_count": null,
   "id": "a04d744e-0414-4718-bd66-a4621caa35da",
   "metadata": {},
   "outputs": [],
   "source": [
    "f.close()"
   ]
  },
  {
   "cell_type": "markdown",
   "id": "1e92d5b7-c712-4a82-8fb2-428a3ec044eb",
   "metadata": {},
   "source": [
    "### Opening a file - _pythonic_ way\n",
    "In Python, it's best practice to use a context manager such as `with`. It will take care of opening and closing procedures, even in cases of Exceptions.\n",
    "\n",
    "For more info see here: https://realpython.com/python-with-statement/"
   ]
  },
  {
   "cell_type": "code",
   "execution_count": null,
   "id": "3756c820-1768-484f-aab8-49b5441bc72a",
   "metadata": {},
   "outputs": [],
   "source": [
    "with open('This is just to say.txt') as f:\n",
    "    f_str = f.read()"
   ]
  },
  {
   "cell_type": "code",
   "execution_count": null,
   "id": "9309778d-1ac8-4044-8add-60c62aabc3e0",
   "metadata": {},
   "outputs": [],
   "source": [
    "f_str"
   ]
  },
  {
   "cell_type": "code",
   "execution_count": null,
   "id": "caff9b2b-3848-48c6-ac4e-b7285a896e3b",
   "metadata": {},
   "outputs": [],
   "source": [
    "# f.close()    # Now we don't need CLOSE"
   ]
  },
  {
   "cell_type": "code",
   "execution_count": null,
   "id": "d6700681-6592-457b-97af-c0bd6eb3a4b2",
   "metadata": {},
   "outputs": [],
   "source": [
    "# Now we can continue working with the data as a regular python object\n",
    "lines = f_str.split('\\n')\n",
    "lines"
   ]
  },
  {
   "cell_type": "code",
   "execution_count": null,
   "id": "169061d6-a04e-42eb-84e0-6f03157299b0",
   "metadata": {},
   "outputs": [],
   "source": [
    "type(f)"
   ]
  },
  {
   "cell_type": "code",
   "execution_count": null,
   "id": "f357b255-63fb-4e9f-bc79-6727377178d3",
   "metadata": {},
   "outputs": [],
   "source": [
    "# If it's a very large file, we can work with-in the WITH command\n",
    "with open('This is just to say.txt') as f:\n",
    "    for each_line in f:\n",
    "        print(each_line)"
   ]
  },
  {
   "cell_type": "code",
   "execution_count": null,
   "id": "88ef1169-4372-47ba-868d-b09acdc4076d",
   "metadata": {},
   "outputs": [],
   "source": [
    "# Solving the double-space issue\n",
    "with open('This is just to say.txt') as f:\n",
    "    for each_line in f:\n",
    "        print(each_line.strip())"
   ]
  },
  {
   "cell_type": "markdown",
   "id": "022edbcd-7cbd-4849-8de3-6f7c564b3aec",
   "metadata": {},
   "source": [
    "`strip()` method removes specified characters (or whitespace by default) from the beginning and end of a string, returning a new string."
   ]
  },
  {
   "cell_type": "markdown",
   "id": "a566c2e7-dbd5-4da4-9bae-c7688cc6885b",
   "metadata": {},
   "source": [
    "#### EXERCISE:\n",
    "Write a program that asks the user for a target word (input). The program then reads the file and counts how many times that target-word appears."
   ]
  },
  {
   "cell_type": "code",
   "execution_count": null,
   "id": "08039bcd-2e9a-48cf-b6ae-79ee52cb6493",
   "metadata": {},
   "outputs": [],
   "source": []
  },
  {
   "cell_type": "markdown",
   "id": "edf0285d-ba60-4b25-9508-57acb34179e2",
   "metadata": {},
   "source": [
    "## Reading tabular data"
   ]
  },
  {
   "cell_type": "markdown",
   "id": "72fc972a-85c1-41bf-aa00-6a2229544617",
   "metadata": {},
   "source": [
    "### `pathlib` package\n",
    "`pathlib` provides a number of key classes and methods for working file paths (directories) in Python."
   ]
  },
  {
   "cell_type": "code",
   "execution_count": null,
   "id": "25312f7a-9e16-443a-b3af-cbced0d87f8a",
   "metadata": {},
   "outputs": [],
   "source": [
    "import pathlib"
   ]
  },
  {
   "cell_type": "code",
   "execution_count": null,
   "id": "be616556-ee25-4f49-bb61-1f6d4eeaf75a",
   "metadata": {},
   "outputs": [],
   "source": [
    "home = pathlib.Path.home()\n",
    "home"
   ]
  },
  {
   "cell_type": "code",
   "execution_count": null,
   "id": "82224019-3c57-4393-b206-cb6db91e7cf6",
   "metadata": {},
   "outputs": [],
   "source": [
    "cwd = pathlib.Path.cwd() # Current working directory\n",
    "cwd"
   ]
  },
  {
   "cell_type": "code",
   "execution_count": null,
   "id": "3458b59f-37f0-4844-8772-9e708bfd598c",
   "metadata": {},
   "outputs": [],
   "source": [
    "my_file_path = cwd / 'data/Flanker/Study1_P1Flanker1.csv'\n",
    "my_file_path"
   ]
  },
  {
   "cell_type": "code",
   "execution_count": null,
   "id": "1feaac01-784c-4402-a0e2-c2f0bb884f8a",
   "metadata": {},
   "outputs": [],
   "source": [
    "my_file_path = cwd / 'data' / 'Flanker' / 'Study1_P1Flanker1.csv'\n",
    "my_file_path"
   ]
  },
  {
   "cell_type": "markdown",
   "id": "424955b2-03c0-47f1-bf2d-ce084165c1c8",
   "metadata": {},
   "source": [
    "### Reading tabular data file\n",
    "`pathlib` makes it easy to write short readable code for reading files."
   ]
  },
  {
   "cell_type": "code",
   "execution_count": null,
   "id": "bd092922-596e-4b39-ac1f-1f5ec7e68f20",
   "metadata": {},
   "outputs": [],
   "source": [
    "with open(my_file_path) as f:\n",
    "    data = f.read()\n",
    "data[:500]"
   ]
  },
  {
   "cell_type": "code",
   "execution_count": null,
   "id": "96030013-d723-46ac-b329-b3e80ddc54e9",
   "metadata": {},
   "outputs": [],
   "source": [
    "with open('C:/Users/iftac/OneDrive - University of Haifa/Professional/Teaching/Python Course/Cognition/Cognition Sem B 2022/Classes/Class 9/data/Flanker/Study1_P1Flanker1.csv') as f:\n",
    "    data = f.read()\n",
    "data[:500]"
   ]
  },
  {
   "cell_type": "code",
   "execution_count": null,
   "id": "05e7f462-36d8-48a5-9992-7ef9d42a321a",
   "metadata": {},
   "outputs": [],
   "source": [
    "type(data)"
   ]
  },
  {
   "cell_type": "code",
   "execution_count": null,
   "id": "c60a4603-d802-46fb-aeeb-3d67ee05d6f0",
   "metadata": {},
   "outputs": [],
   "source": [
    "print(f)"
   ]
  },
  {
   "cell_type": "code",
   "execution_count": null,
   "id": "0e33d0a9-9649-4260-a36a-ff74b913d143",
   "metadata": {},
   "outputs": [],
   "source": [
    "type(f)"
   ]
  },
  {
   "cell_type": "code",
   "execution_count": null,
   "id": "8b2b4529-cc5d-497b-81f4-96741373499e",
   "metadata": {},
   "outputs": [],
   "source": [
    "len(data)"
   ]
  },
  {
   "cell_type": "code",
   "execution_count": null,
   "id": "be9a5314-e92d-48b5-addb-befdcb24a67c",
   "metadata": {},
   "outputs": [],
   "source": [
    "# Option B - go line by line\n",
    "with open(my_file_path) as f:\n",
    "    for each_line in f:\n",
    "        print(each_line)"
   ]
  },
  {
   "cell_type": "code",
   "execution_count": null,
   "id": "17431c7d-cbd3-4785-915c-9521bc1d0ae8",
   "metadata": {},
   "outputs": [],
   "source": [
    "each_line"
   ]
  },
  {
   "cell_type": "code",
   "execution_count": null,
   "id": "1b187a47-146d-419a-a9c6-279cb5ef1421",
   "metadata": {},
   "outputs": [],
   "source": [
    "# Option C - if the file is not too long\n",
    "with open(my_file_path) as f:\n",
    "    data = f.read().split('\\n')\n",
    "\n",
    "data[:10] # Print first 10 rows of data"
   ]
  },
  {
   "cell_type": "markdown",
   "id": "2468a42a-c481-4c10-a911-5b44177aeaf7",
   "metadata": {
    "tags": []
   },
   "source": [
    "#### Eriksen's Flanker task\n",
    "The flanker task:\n",
    "\n",
    "    \"In the Flanker task, arrows point either to the left or the right, and the subject is instructed to press one of two buttons indicating the direction of the arrow in the middle. If it’s pointing to the left, the subject presses the “left” button; if it’s pointing to the right, the subject presses the “right” button. The middle arrow is flanked by other arrows which either point in the same direction as the middle arrow, or point in the opposite direction from the middle arrow.\"\n",
    "\n",
    "![](https://andysbrainbook.readthedocs.io/en/stable/_images/Flanker_Example.png)\n",
    "\n",
    "    \"An example of the two conditions of the Flanker task. In the Incongruent condition, the central arrow (which the subject is focusing on) points in the opposite direction as the flanking arrows; in the Congruent condition, the central arrow points in the same direction as the flanking arrows. In this example the correct response in the Incongruent condition would be to push the “left” button, and the correct response in the Congruent condition would be to push the “right” button.\""
   ]
  },
  {
   "cell_type": "markdown",
   "id": "0f7c55fe-a79a-415b-8d34-6984e85b7c47",
   "metadata": {
    "tags": []
   },
   "source": [
    "## Exercise\n",
    "- Read the file `Study1_P1Flanker2.csv` ( <-- remember to look at number __2__ file)\n",
    "- Calculate the mean (i.e., average) reaction time (RT) across the task.\n",
    "\n",
    "*additional*:\n",
    "- Can you calculate the mean accuracy per condition (Congruent, Incongruent, Neutral)?\n",
    "\n",
    "Use the above code examples and `pathlib` package. Remember to look at README.txt to remember what the column headers are."
   ]
  },
  {
   "cell_type": "code",
   "execution_count": null,
   "id": "2e3cbbfe-da58-465d-b5ec-e2473886d28d",
   "metadata": {},
   "outputs": [],
   "source": []
  },
  {
   "cell_type": "code",
   "execution_count": null,
   "id": "4eb8f04a-97cd-4af2-80ab-d2044a73683c",
   "metadata": {},
   "outputs": [],
   "source": []
  },
  {
   "cell_type": "code",
   "execution_count": null,
   "id": "c3a9f020-b51c-4555-b39f-a444f0f5e415",
   "metadata": {},
   "outputs": [],
   "source": []
  },
  {
   "cell_type": "code",
   "execution_count": null,
   "id": "a9bb484d-01c8-49e1-bf93-21ddde8047b6",
   "metadata": {},
   "outputs": [],
   "source": []
  },
  {
   "cell_type": "markdown",
   "id": "d793d58c-d904-4f47-9c12-0187e4440342",
   "metadata": {},
   "source": [
    "## Saving result to a file"
   ]
  },
  {
   "cell_type": "code",
   "execution_count": null,
   "id": "1113492d-b38c-4a6c-bd35-1b97d366234f",
   "metadata": {},
   "outputs": [],
   "source": [
    "save_path = cwd / 'output' / 'meanRT.txt'\n",
    "\n",
    "# An OPEN function with \"x\" creates a new file\n",
    "with open(save_path, mode=\"x\") as f:\n",
    "    out_txt_ntr = 'The mean neutral is ' + str(ntr_mean)\n",
    "    f.write(out_txt_ntr)"
   ]
  }
 ],
 "metadata": {
  "kernelspec": {
   "display_name": "Python 3 (ipykernel)",
   "language": "python",
   "name": "python3"
  },
  "language_info": {
   "codemirror_mode": {
    "name": "ipython",
    "version": 3
   },
   "file_extension": ".py",
   "mimetype": "text/x-python",
   "name": "python",
   "nbconvert_exporter": "python",
   "pygments_lexer": "ipython3",
   "version": "3.9.7"
  }
 },
 "nbformat": 4,
 "nbformat_minor": 5
}
