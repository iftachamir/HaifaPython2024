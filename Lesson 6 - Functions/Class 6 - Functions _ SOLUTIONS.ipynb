{
 "cells": [
  {
   "cell_type": "markdown",
   "metadata": {},
   "source": [
    "# Class 6 - Functions"
   ]
  },
  {
   "cell_type": "markdown",
   "metadata": {},
   "source": [
    "## Definition of a function\n",
    "\n",
    "A function is a **named** sequence of **statements** (instructions) that performs a computation. Functions typically, but not always, recieve an **input** value and **return** some value(s)."
   ]
  },
  {
   "cell_type": "markdown",
   "metadata": {},
   "source": [
    "## Calling a function\n",
    "\n",
    "Calling a function is similar to calling a variable - we simply write-out the function name.\n",
    "However, when calling a function we must add `()` after the name.\n",
    "(And sometimes the brackets have a values in them, more on this soon)."
   ]
  },
  {
   "cell_type": "markdown",
   "metadata": {
    "tags": []
   },
   "source": [
    "Function as an object:"
   ]
  },
  {
   "cell_type": "code",
   "execution_count": null,
   "metadata": {},
   "outputs": [],
   "source": [
    "type(print)"
   ]
  },
  {
   "cell_type": "markdown",
   "metadata": {},
   "source": [
    "### _Calling_ a function"
   ]
  },
  {
   "cell_type": "code",
   "execution_count": null,
   "metadata": {},
   "outputs": [],
   "source": [
    "x = round(5.555, 1)"
   ]
  },
  {
   "cell_type": "code",
   "execution_count": null,
   "metadata": {},
   "outputs": [],
   "source": [
    "x"
   ]
  },
  {
   "cell_type": "markdown",
   "metadata": {},
   "source": [
    "## User-defined functions\n",
    "\n",
    "Let's write our own simple function, load it, and see what `type` it is."
   ]
  },
  {
   "cell_type": "code",
   "execution_count": null,
   "metadata": {},
   "outputs": [],
   "source": [
    "def my_function():\n",
    "    print('Hello class')\n",
    "    print(1)\n",
    "    print(2)\n",
    "    print(3)\n"
   ]
  },
  {
   "cell_type": "code",
   "execution_count": null,
   "metadata": {},
   "outputs": [],
   "source": [
    "my_function()"
   ]
  },
  {
   "cell_type": "code",
   "execution_count": null,
   "metadata": {},
   "outputs": [],
   "source": [
    "type(my_function)"
   ]
  },
  {
   "cell_type": "markdown",
   "metadata": {
    "tags": []
   },
   "source": [
    "### Side effects\n",
    "Typically, functions are used to process and then *return* some value. However, sometimes they also influence things \"outside\" the function. The most common example is `print()`. Printing changes the text in the console/terminal, but doesn't necessarily return a value.\n",
    "\n",
    "Saving/modifying data on the computer is also a kind of _function side effect_."
   ]
  },
  {
   "cell_type": "markdown",
   "metadata": {},
   "source": [
    "### Exercise 1\n",
    "Write a \"countdown\" function that prints out all the numbers from 10 to 1.\n",
    "_Suggestion: Use a `for` loop_"
   ]
  },
  {
   "cell_type": "code",
   "execution_count": null,
   "metadata": {},
   "outputs": [],
   "source": [
    "list(range(10, 0, -1))"
   ]
  },
  {
   "cell_type": "code",
   "execution_count": null,
   "metadata": {},
   "outputs": [],
   "source": [
    "for x in range(10, 0, -1):\n",
    "    print(x)"
   ]
  },
  {
   "cell_type": "code",
   "execution_count": null,
   "metadata": {},
   "outputs": [],
   "source": [
    "# Build the Exercise 1 function here\n",
    "def countdown():\n",
    "    for x in range(10, 0, -1):\n",
    "        print(x)"
   ]
  },
  {
   "cell_type": "code",
   "execution_count": null,
   "metadata": {},
   "outputs": [],
   "source": [
    "# Call and try out the function here\n",
    "countdown()"
   ]
  },
  {
   "cell_type": "markdown",
   "metadata": {},
   "source": [
    "## Function **input**\n",
    "Functions often need data to work with.  We provide this data through arguments, which are values placed within the parentheses when we call the function."
   ]
  },
  {
   "cell_type": "code",
   "execution_count": null,
   "metadata": {},
   "outputs": [],
   "source": [
    "def print_x_123(x):\n",
    "    print(x+1)\n",
    "    print(x+2)\n",
    "    print(x+3)"
   ]
  },
  {
   "cell_type": "code",
   "execution_count": null,
   "metadata": {},
   "outputs": [],
   "source": [
    "print_x_123(10)"
   ]
  },
  {
   "cell_type": "markdown",
   "metadata": {},
   "source": [
    "### Multiple inputs\n",
    "Functions can accept multiple arguments, separated by commas.\n",
    "\n"
   ]
  },
  {
   "cell_type": "code",
   "execution_count": null,
   "metadata": {},
   "outputs": [],
   "source": [
    "def print_x_y_times2_V1(x, y):\n",
    "    \n",
    "    print('y = ', y)\n",
    "    print('x = ', x)\n",
    "    \n",
    "    z = x * y * 2\n",
    "    print(z)"
   ]
  },
  {
   "cell_type": "code",
   "execution_count": null,
   "metadata": {},
   "outputs": [],
   "source": [
    "print_x_y_times2_V1(10, 3)"
   ]
  },
  {
   "cell_type": "code",
   "execution_count": null,
   "metadata": {},
   "outputs": [],
   "source": [
    "print_x_y_times2_V1(2)"
   ]
  },
  {
   "cell_type": "markdown",
   "metadata": {},
   "source": [
    "It's important to provide the correct number of arguments when calling a function. If a function expects two arguments, calling it with only one argument will result in an error."
   ]
  },
  {
   "cell_type": "code",
   "execution_count": null,
   "metadata": {},
   "outputs": [],
   "source": [
    "print(x)"
   ]
  },
  {
   "cell_type": "markdown",
   "metadata": {},
   "source": [
    "### Function Scope and Variable Lifetime\n",
    "##### Local Variables\n",
    "Variables created inside a function are called local variables. They only exist within the function's scope. Once the function finishes, its local variables are cleared.\n",
    "\n",
    "##### Global Variables\n",
    "Variables created outside of any function are global variables. They can be accessed and modified from anywhere in your code, including inside functions."
   ]
  },
  {
   "cell_type": "code",
   "execution_count": null,
   "metadata": {},
   "outputs": [],
   "source": [
    "x = 10  # Global variable\n",
    "\n",
    "def my_function():\n",
    "    y = 5  # Local variable\n",
    "    print(1, x)  # Can access the global variable x\n",
    "    print(2, y)  # Can access the local variable y\n",
    "\n",
    "my_function()\n",
    "print(3, x)  # Output: 10\n",
    "print(4, y)  # This will cause a NameError, y is not defined outside the function\n"
   ]
  },
  {
   "cell_type": "markdown",
   "metadata": {},
   "source": [
    "## Function **output** - Returning a value\n",
    "Functions can send data back to the main program using the return statement. This allows us to use the function's result elsewhere."
   ]
  },
  {
   "cell_type": "code",
   "execution_count": null,
   "metadata": {},
   "outputs": [],
   "source": [
    "def print_x_y_times2_V2(x, y):\n",
    "    \n",
    "    z = x * y * 2\n",
    "    \n",
    "    #print('y = ', y)\n",
    "    #print('x = ', x)\n",
    "    \n",
    "    return(z)"
   ]
  },
  {
   "cell_type": "code",
   "execution_count": null,
   "metadata": {},
   "outputs": [],
   "source": [
    "abc = print_x_y_times2_V2(3, 3)\n"
   ]
  },
  {
   "cell_type": "code",
   "execution_count": null,
   "metadata": {},
   "outputs": [],
   "source": [
    "abc"
   ]
  },
  {
   "cell_type": "markdown",
   "metadata": {},
   "source": [
    "### Exercise 2\n",
    "Write a function called \"divisible_by\" that takes two arguments - a number, and a divisor - in that order.  It should return `True` or `False` based on whether the number is divisible by the divisor."
   ]
  },
  {
   "cell_type": "code",
   "execution_count": null,
   "metadata": {},
   "outputs": [],
   "source": [
    "# Exercise 2 function here\n",
    "def divisible_by(x1, x2):\n",
    "    if x1 % x2 == 0:\n",
    "        return(True)\n",
    "    else:\n",
    "        return(False)\n"
   ]
  },
  {
   "cell_type": "code",
   "execution_count": null,
   "metadata": {},
   "outputs": [],
   "source": [
    "# Call and try out the function here\n",
    "x = divisible_by(9,2)\n",
    "print(x)"
   ]
  },
  {
   "cell_type": "markdown",
   "metadata": {},
   "source": [
    "Now write a program that ask the user to input 2 numbers (A and B; B > A). The program reports whether each number is even or odd. Use the function `divisible_by()` you wrote above."
   ]
  },
  {
   "cell_type": "code",
   "execution_count": null,
   "metadata": {},
   "outputs": [],
   "source": [
    "a = int(input())\n",
    "b = int(input())\n",
    "\n",
    "for i in range(a, b+1):\n",
    "    if divisible_by(i,2)==True:\n",
    "        print(i, 'Even')\n",
    "    else:\n",
    "        print(i, 'Not even')"
   ]
  },
  {
   "cell_type": "markdown",
   "metadata": {},
   "source": [
    "### Returning multiple values\n",
    "Returning multiple values from a function is done by simply seperating returned values using a `,` .  \n",
    "For example:"
   ]
  },
  {
   "cell_type": "code",
   "execution_count": null,
   "metadata": {},
   "outputs": [],
   "source": [
    "def separate_numbers(x):\n",
    "    \n",
    "    hundreds = x // 100\n",
    "    tens = (x - (hundreds * 100)) // 10\n",
    "    ones = x % 10\n",
    "    \n",
    "    return(hundreds, tens, ones)\n"
   ]
  },
  {
   "cell_type": "code",
   "execution_count": null,
   "metadata": {},
   "outputs": [],
   "source": [
    "result = separate_numbers(931)"
   ]
  },
  {
   "cell_type": "code",
   "execution_count": null,
   "metadata": {},
   "outputs": [],
   "source": [
    "result"
   ]
  },
  {
   "cell_type": "code",
   "execution_count": null,
   "metadata": {},
   "outputs": [],
   "source": [
    "a, b, c = separate_numbers(532)"
   ]
  },
  {
   "cell_type": "code",
   "execution_count": null,
   "metadata": {},
   "outputs": [],
   "source": [
    "c"
   ]
  },
  {
   "cell_type": "markdown",
   "metadata": {},
   "source": [
    "### `return` terminates the function\n",
    "Remember, once python sees the `return` command, it exits/terminates the function. This means no lines of code written after `return` will be processed."
   ]
  },
  {
   "cell_type": "markdown",
   "metadata": {},
   "source": [
    "## Docstrings\n",
    "It's **important** to document your code. When writing a function, write a short explanation what it does, and what's its expected input and output."
   ]
  },
  {
   "cell_type": "code",
   "execution_count": null,
   "metadata": {},
   "outputs": [],
   "source": [
    "help(print)"
   ]
  },
  {
   "cell_type": "code",
   "execution_count": null,
   "metadata": {},
   "outputs": [],
   "source": [
    "def print_x_y_times2(x, y):\n",
    "    \n",
    "    '''This function receives two numeric values. It then multiplies them together,\n",
    "    and multiplies this by two (Z = X*Y*2).\n",
    "    The function returns a numeric variable of the result.'''\n",
    "    \n",
    "    z = x * y * 2\n",
    "    #print(z)\n",
    "    \n",
    "    return(z)"
   ]
  },
  {
   "cell_type": "code",
   "execution_count": null,
   "metadata": {},
   "outputs": [],
   "source": [
    "x = print_x_y_times2(10,2)\n",
    "print(x)"
   ]
  },
  {
   "cell_type": "code",
   "execution_count": null,
   "metadata": {},
   "outputs": [],
   "source": [
    "help(print_x_y_times2)"
   ]
  },
  {
   "cell_type": "code",
   "execution_count": null,
   "metadata": {},
   "outputs": [],
   "source": [
    "help(round)"
   ]
  },
  {
   "cell_type": "code",
   "execution_count": null,
   "metadata": {},
   "outputs": [],
   "source": [
    "def separate_numbers(x):\n",
    "    \n",
    "    '''This function receives a number (of 3 digits) and separates the digits.\n",
    "    The function returns each of the 3 digits.'''\n",
    "    \n",
    "    hundreds = x // 100\n",
    "    tens = (x - (hundreds * 100)) // 10\n",
    "    ones = x - (hundreds * 100) - (tens * 10)\n",
    "    return(hundreds, tens, ones)"
   ]
  },
  {
   "cell_type": "code",
   "execution_count": null,
   "metadata": {},
   "outputs": [],
   "source": [
    "help(separate_numbers)"
   ]
  },
  {
   "cell_type": "markdown",
   "metadata": {},
   "source": [
    "## Importing external file functions\n",
    "\n",
    "If you have custom function(s) that you use across different codes/projects, you can move store them in a `.py` file and copy to your work-directory (folder)."
   ]
  },
  {
   "cell_type": "code",
   "execution_count": null,
   "metadata": {},
   "outputs": [],
   "source": [
    "print1234()"
   ]
  },
  {
   "cell_type": "code",
   "execution_count": null,
   "metadata": {},
   "outputs": [],
   "source": [
    "from my_functions import *"
   ]
  },
  {
   "cell_type": "code",
   "execution_count": null,
   "metadata": {
    "tags": []
   },
   "outputs": [],
   "source": [
    "print1234()"
   ]
  },
  {
   "cell_type": "code",
   "execution_count": null,
   "metadata": {},
   "outputs": [],
   "source": [
    "Hello('Class')"
   ]
  },
  {
   "cell_type": "markdown",
   "metadata": {},
   "source": [
    "*Restart Python kernel here - in the menu above: Kernel > Resart kernel..*"
   ]
  },
  {
   "cell_type": "code",
   "execution_count": null,
   "metadata": {},
   "outputs": [],
   "source": [
    "print1234()"
   ]
  },
  {
   "cell_type": "code",
   "execution_count": null,
   "metadata": {},
   "outputs": [],
   "source": [
    "from my_functions import print1234"
   ]
  },
  {
   "cell_type": "code",
   "execution_count": null,
   "metadata": {},
   "outputs": [],
   "source": [
    "print1234()"
   ]
  },
  {
   "cell_type": "code",
   "execution_count": null,
   "metadata": {},
   "outputs": [],
   "source": [
    "Hello('iftach')"
   ]
  },
  {
   "cell_type": "markdown",
   "metadata": {
    "tags": []
   },
   "source": [
    "## Function Scope\n",
    "### LEGB\n",
    "1. Local\n",
    "2. Enclosing\n",
    "3. Global\n",
    "4. Built-in\n",
    "\n",
    "See video (Hebrew): https://youtu.be/wuB1ZiZOqPE"
   ]
  },
  {
   "cell_type": "markdown",
   "metadata": {},
   "source": [
    "### Exercises 3 & 4\n"
   ]
  },
  {
   "cell_type": "markdown",
   "metadata": {},
   "source": [
    "#### Exercise 3\n",
    "Write a function that asks the user to input:\n",
    "1. Their height in centimeters.\n",
    "2. Their weight in grams\n",
    "\n",
    "The function then:\n",
    "1. Prints their [Body Mass Index](https://en.wikipedia.org/wiki/Body_mass_index) and\n",
    "2. Returns the BMI value as a `float`"
   ]
  },
  {
   "cell_type": "code",
   "execution_count": null,
   "metadata": {},
   "outputs": [],
   "source": [
    "# Define the function\n",
    "def bmi(w_g, h_cm):\n",
    "    bmi_value = (w_g / 1000) / ((h_cm / 100) ** 2)\n",
    "    return(bmi_value)\n",
    "\n",
    "# Call the function\n",
    "weight_g = int(input())\n",
    "height_cm = int(input())\n",
    "b = bmi(weight_g, height_cm)\n"
   ]
  },
  {
   "cell_type": "code",
   "execution_count": null,
   "metadata": {},
   "outputs": [],
   "source": [
    "b"
   ]
  },
  {
   "cell_type": "markdown",
   "metadata": {},
   "source": [
    "#### Exercise 4\n",
    "Write two functions. The first, `celsius_to_farenheit()` that converts celsius to farenheit, the second, `farenheit_to_celsius()` converts farenheit to celsius.\\\n",
    "The user inputs one integer value and returns the converted float value."
   ]
  },
  {
   "cell_type": "code",
   "execution_count": null,
   "metadata": {},
   "outputs": [],
   "source": [
    "def celsius_to_farenheit(temp_unit):\n",
    "    converted_temp = (temp_unit * 9/5) + 32\n",
    "    return(converted_temp)\n",
    "\n",
    "def farenheit_to_celsius(temp_unit):\n",
    "    converted_temp = (temp_unit - 32) * 5/9\n",
    "    return(converted_temp)"
   ]
  },
  {
   "cell_type": "code",
   "execution_count": null,
   "metadata": {},
   "outputs": [],
   "source": [
    "celsius_to_farenheit(100)"
   ]
  },
  {
   "cell_type": "code",
   "execution_count": null,
   "metadata": {},
   "outputs": [],
   "source": [
    "farenheit_to_celsius(212)"
   ]
  },
  {
   "cell_type": "markdown",
   "metadata": {},
   "source": [
    "#### Exercise 4B\n",
    "Write one functions that can do both, convert celsius to farenheit and vice-versa.\\\n",
    "The user inputs two values:\n",
    "1. The temperature as an integer value.\n",
    "2. Whether the __input__ temperature is celsius or farenheit.\n",
    "\n",
    "The function returns the converted temperature value as float. "
   ]
  },
  {
   "cell_type": "code",
   "execution_count": null,
   "metadata": {},
   "outputs": [],
   "source": [
    "def temp_conversion(temp_unit, scale):\n",
    "    if scale == \"celsius\":\n",
    "        converted_temp = (temp_unit * 9/5) + 32\n",
    "    elif scale == \"farenheit\":\n",
    "        converted_temp = (temp_unit - 32) * 5/9\n",
    "    return(converted_temp)\n",
    "        "
   ]
  },
  {
   "cell_type": "code",
   "execution_count": null,
   "metadata": {},
   "outputs": [],
   "source": [
    "# Now try using the functions you've already created\n",
    "\n",
    "def temp_conversion(temp, scale):\n",
    "    ..."
   ]
  },
  {
   "cell_type": "code",
   "execution_count": null,
   "metadata": {},
   "outputs": [],
   "source": [
    "temp_conversion(100,'celsius')"
   ]
  },
  {
   "cell_type": "markdown",
   "metadata": {},
   "source": [
    "## Key word arguements\n",
    "Key word arguements allow you to create a function with 'default' values."
   ]
  },
  {
   "cell_type": "code",
   "execution_count": null,
   "metadata": {},
   "outputs": [],
   "source": [
    "a = 'shalom'\n",
    "b = 'bye'\n",
    "print(a, b, sep = \"|\")"
   ]
  },
  {
   "cell_type": "code",
   "execution_count": null,
   "metadata": {},
   "outputs": [],
   "source": [
    "# Positional arguements"
   ]
  },
  {
   "cell_type": "code",
   "execution_count": null,
   "metadata": {},
   "outputs": [],
   "source": [
    "def convert_currency(input_amount, currency = \"Dollar\"):\n",
    "    if currency==\"Dollar\":\n",
    "        amount = input_amount * 3.5\n",
    "    elif currency==\"Shekel\":\n",
    "        amount = input_amount / 3.5\n",
    "    \n",
    "    return(amount)"
   ]
  },
  {
   "cell_type": "code",
   "execution_count": null,
   "metadata": {},
   "outputs": [],
   "source": [
    "convert_currency(input_amount = 100)"
   ]
  },
  {
   "cell_type": "code",
   "execution_count": null,
   "metadata": {},
   "outputs": [],
   "source": [
    "myamount = convert_currency(input_amount = 100,  currency = 'Dollar')\n",
    "myamount"
   ]
  },
  {
   "cell_type": "markdown",
   "metadata": {},
   "source": [
    "#### Exercise 4C\n",
    "Modify your code from exercise 4B to have keyword arguments, such that the default input temperature is Celsius."
   ]
  },
  {
   "cell_type": "code",
   "execution_count": null,
   "metadata": {},
   "outputs": [],
   "source": [
    "def temp_conversion(temp_unit, scale = \"celsius\"):\n",
    "    if scale == \"celsius\":\n",
    "        converted_temp = (temp_unit * 9/5) + 32\n",
    "    elif scale == \"farenheit\":\n",
    "        converted_temp = (temp_unit - 32) * 5/9\n",
    "    return(converted_temp)"
   ]
  },
  {
   "cell_type": "code",
   "execution_count": null,
   "metadata": {},
   "outputs": [],
   "source": [
    "temp_conversion(scale = \"farenheit\", temp_unit = 100)"
   ]
  },
  {
   "cell_type": "markdown",
   "metadata": {},
   "source": [
    "## Recursion"
   ]
  },
  {
   "cell_type": "code",
   "execution_count": null,
   "metadata": {},
   "outputs": [],
   "source": [
    "def factorial(n):\n",
    "    if n == 0:\n",
    "        return(1)\n",
    "    else:\n",
    "        recurse = factorial(n-1)\n",
    "        result = n * recurse\n",
    "        return(result)"
   ]
  },
  {
   "cell_type": "code",
   "execution_count": null,
   "metadata": {},
   "outputs": [],
   "source": [
    "factorial(3)"
   ]
  },
  {
   "cell_type": "code",
   "execution_count": null,
   "metadata": {},
   "outputs": [],
   "source": []
  }
 ],
 "metadata": {
  "kernelspec": {
   "display_name": "Python 3 (ipykernel)",
   "language": "python",
   "name": "python3"
  },
  "language_info": {
   "codemirror_mode": {
    "name": "ipython",
    "version": 3
   },
   "file_extension": ".py",
   "mimetype": "text/x-python",
   "name": "python",
   "nbconvert_exporter": "python",
   "pygments_lexer": "ipython3",
   "version": "3.9.7"
  }
 },
 "nbformat": 4,
 "nbformat_minor": 4
}
